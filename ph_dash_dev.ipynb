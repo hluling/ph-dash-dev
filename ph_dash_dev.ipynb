{
  "nbformat": 4,
  "nbformat_minor": 0,
  "metadata": {
    "colab": {
      "name": "ph_dash_dev.ipynb",
      "provenance": [],
      "collapsed_sections": [],
      "include_colab_link": true
    },
    "kernelspec": {
      "name": "python3",
      "display_name": "Python 3"
    },
    "language_info": {
      "name": "python"
    }
  },
  "cells": [
    {
      "cell_type": "markdown",
      "metadata": {
        "id": "view-in-github",
        "colab_type": "text"
      },
      "source": [
        "<a href=\"https://colab.research.google.com/github/hluling/ph-dash-dev/blob/master/ph_dash_dev.ipynb\" target=\"_parent\"><img src=\"https://colab.research.google.com/assets/colab-badge.svg\" alt=\"Open In Colab\"/></a>"
      ]
    },
    {
      "cell_type": "markdown",
      "source": [
        "# Notebook setup and Github setup\n",
        "2022/04/22\n",
        "\n"
      ],
      "metadata": {
        "id": "lL26HRXf7lqB"
      }
    },
    {
      "cell_type": "code",
      "execution_count": null,
      "metadata": {
        "id": "NlUIm0MnmPk0"
      },
      "outputs": [],
      "source": [
        "# from google.colab import drive\n",
        "# drive.mount('/content/drive')"
      ]
    },
    {
      "cell_type": "code",
      "source": [
        "# %cd /content/drive/MyDrive/Github\n",
        "# !git init ph-dash-dev\n",
        "# %cd ph-dash-dev\n",
        "# !git remote add origin https://github.com/hluling/ph-dash-dev\n",
        "#!git add .\n",
        "# !git commit -m 'repo setup'\n",
        "# !git config --global user.email \"hluling@outlook.com\"\n",
        "# !git push -u origin master"
      ],
      "metadata": {
        "id": "Dh29sh0P5PWs"
      },
      "execution_count": null,
      "outputs": []
    },
    {
      "cell_type": "markdown",
      "source": [
        "# Install Libraries"
      ],
      "metadata": {
        "id": "v6NGyaaBewnE"
      }
    },
    {
      "cell_type": "code",
      "source": [
        "import requests\n",
        "import pandas as pd\n",
        "from io import StringIO"
      ],
      "metadata": {
        "id": "OEtK3iSM8zin"
      },
      "execution_count": 1,
      "outputs": []
    },
    {
      "cell_type": "markdown",
      "source": [
        "## Query API"
      ],
      "metadata": {
        "id": "u3hHgxSTe2Jb"
      }
    },
    {
      "cell_type": "code",
      "source": [
        "response = requests.get(\"https://api.gdeltproject.org/api/v2/tv/tv?query=%22puerto%20rico%22%20(station:CNN%20OR%20station:FOXNEWS)&mode=timelinevol&format=html&datanorm=perc&timelinesmooth=5&datacomb=sep&last24=yes&timezoom=no&STARTDATETIME=20170829120000&ENDDATETIME=20171007120000\")"
      ],
      "metadata": {
        "id": "dq5Ba9479SJC"
      },
      "execution_count": null,
      "outputs": []
    },
    {
      "cell_type": "code",
      "source": [
        "response_csv = requests.get(\"https://api.gdeltproject.org/api/v2/tv/tv?query=%22puerto%20rico%22%20(station:CNN%20OR%20station:FOXNEWS)&mode=timelinevol&format=html&datanorm=perc&timelinesmooth=5&format=csv&datacomb=sep&last24=yes&timezoom=no&STARTDATETIME=20210829120000&ENDDATETIME=20211007120000\")\n",
        "text=StringIO(response_csv.content.decode('utf-8'))"
      ],
      "metadata": {
        "id": "xXYI58mZMOay"
      },
      "execution_count": null,
      "outputs": []
    },
    {
      "cell_type": "code",
      "source": [
        "df=pd.read_csv(text)"
      ],
      "metadata": {
        "id": "-Oceyvd1NGgg"
      },
      "execution_count": null,
      "outputs": []
    },
    {
      "cell_type": "code",
      "source": [
        "df"
      ],
      "metadata": {
        "colab": {
          "base_uri": "https://localhost:8080/",
          "height": 424
        },
        "id": "eUCwELmBNKM4",
        "outputId": "5033fdcb-6637-4ce7-8d74-9e55b09194f7"
      },
      "execution_count": null,
      "outputs": [
        {
          "output_type": "execute_result",
          "data": {
            "text/plain": [
              "   Date (Daily +00:00: 08/29/2021 - 10/07/2021)   Series   Value\n",
              "0                                    2021-09-02      CNN  0.0170\n",
              "1                                    2021-09-03      CNN  0.0170\n",
              "2                                    2021-09-04      CNN  0.0170\n",
              "3                                    2021-09-05      CNN  0.0042\n",
              "4                                    2021-09-06      CNN  0.0042\n",
              "..                                          ...      ...     ...\n",
              "67                                   2021-10-03  FOXNEWS  0.0241\n",
              "68                                   2021-10-04  FOXNEWS  0.0241\n",
              "69                                   2021-10-05  FOXNEWS  0.0241\n",
              "70                                   2021-10-06  FOXNEWS  0.0098\n",
              "71                                   2021-10-07  FOXNEWS  0.0049\n",
              "\n",
              "[72 rows x 3 columns]"
            ],
            "text/html": [
              "\n",
              "  <div id=\"df-444d5e3a-d5be-4f4d-8300-18a323fd4a2c\">\n",
              "    <div class=\"colab-df-container\">\n",
              "      <div>\n",
              "<style scoped>\n",
              "    .dataframe tbody tr th:only-of-type {\n",
              "        vertical-align: middle;\n",
              "    }\n",
              "\n",
              "    .dataframe tbody tr th {\n",
              "        vertical-align: top;\n",
              "    }\n",
              "\n",
              "    .dataframe thead th {\n",
              "        text-align: right;\n",
              "    }\n",
              "</style>\n",
              "<table border=\"1\" class=\"dataframe\">\n",
              "  <thead>\n",
              "    <tr style=\"text-align: right;\">\n",
              "      <th></th>\n",
              "      <th>Date (Daily +00:00: 08/29/2021 - 10/07/2021)</th>\n",
              "      <th>Series</th>\n",
              "      <th>Value</th>\n",
              "    </tr>\n",
              "  </thead>\n",
              "  <tbody>\n",
              "    <tr>\n",
              "      <th>0</th>\n",
              "      <td>2021-09-02</td>\n",
              "      <td>CNN</td>\n",
              "      <td>0.0170</td>\n",
              "    </tr>\n",
              "    <tr>\n",
              "      <th>1</th>\n",
              "      <td>2021-09-03</td>\n",
              "      <td>CNN</td>\n",
              "      <td>0.0170</td>\n",
              "    </tr>\n",
              "    <tr>\n",
              "      <th>2</th>\n",
              "      <td>2021-09-04</td>\n",
              "      <td>CNN</td>\n",
              "      <td>0.0170</td>\n",
              "    </tr>\n",
              "    <tr>\n",
              "      <th>3</th>\n",
              "      <td>2021-09-05</td>\n",
              "      <td>CNN</td>\n",
              "      <td>0.0042</td>\n",
              "    </tr>\n",
              "    <tr>\n",
              "      <th>4</th>\n",
              "      <td>2021-09-06</td>\n",
              "      <td>CNN</td>\n",
              "      <td>0.0042</td>\n",
              "    </tr>\n",
              "    <tr>\n",
              "      <th>...</th>\n",
              "      <td>...</td>\n",
              "      <td>...</td>\n",
              "      <td>...</td>\n",
              "    </tr>\n",
              "    <tr>\n",
              "      <th>67</th>\n",
              "      <td>2021-10-03</td>\n",
              "      <td>FOXNEWS</td>\n",
              "      <td>0.0241</td>\n",
              "    </tr>\n",
              "    <tr>\n",
              "      <th>68</th>\n",
              "      <td>2021-10-04</td>\n",
              "      <td>FOXNEWS</td>\n",
              "      <td>0.0241</td>\n",
              "    </tr>\n",
              "    <tr>\n",
              "      <th>69</th>\n",
              "      <td>2021-10-05</td>\n",
              "      <td>FOXNEWS</td>\n",
              "      <td>0.0241</td>\n",
              "    </tr>\n",
              "    <tr>\n",
              "      <th>70</th>\n",
              "      <td>2021-10-06</td>\n",
              "      <td>FOXNEWS</td>\n",
              "      <td>0.0098</td>\n",
              "    </tr>\n",
              "    <tr>\n",
              "      <th>71</th>\n",
              "      <td>2021-10-07</td>\n",
              "      <td>FOXNEWS</td>\n",
              "      <td>0.0049</td>\n",
              "    </tr>\n",
              "  </tbody>\n",
              "</table>\n",
              "<p>72 rows × 3 columns</p>\n",
              "</div>\n",
              "      <button class=\"colab-df-convert\" onclick=\"convertToInteractive('df-444d5e3a-d5be-4f4d-8300-18a323fd4a2c')\"\n",
              "              title=\"Convert this dataframe to an interactive table.\"\n",
              "              style=\"display:none;\">\n",
              "        \n",
              "  <svg xmlns=\"http://www.w3.org/2000/svg\" height=\"24px\"viewBox=\"0 0 24 24\"\n",
              "       width=\"24px\">\n",
              "    <path d=\"M0 0h24v24H0V0z\" fill=\"none\"/>\n",
              "    <path d=\"M18.56 5.44l.94 2.06.94-2.06 2.06-.94-2.06-.94-.94-2.06-.94 2.06-2.06.94zm-11 1L8.5 8.5l.94-2.06 2.06-.94-2.06-.94L8.5 2.5l-.94 2.06-2.06.94zm10 10l.94 2.06.94-2.06 2.06-.94-2.06-.94-.94-2.06-.94 2.06-2.06.94z\"/><path d=\"M17.41 7.96l-1.37-1.37c-.4-.4-.92-.59-1.43-.59-.52 0-1.04.2-1.43.59L10.3 9.45l-7.72 7.72c-.78.78-.78 2.05 0 2.83L4 21.41c.39.39.9.59 1.41.59.51 0 1.02-.2 1.41-.59l7.78-7.78 2.81-2.81c.8-.78.8-2.07 0-2.86zM5.41 20L4 18.59l7.72-7.72 1.47 1.35L5.41 20z\"/>\n",
              "  </svg>\n",
              "      </button>\n",
              "      \n",
              "  <style>\n",
              "    .colab-df-container {\n",
              "      display:flex;\n",
              "      flex-wrap:wrap;\n",
              "      gap: 12px;\n",
              "    }\n",
              "\n",
              "    .colab-df-convert {\n",
              "      background-color: #E8F0FE;\n",
              "      border: none;\n",
              "      border-radius: 50%;\n",
              "      cursor: pointer;\n",
              "      display: none;\n",
              "      fill: #1967D2;\n",
              "      height: 32px;\n",
              "      padding: 0 0 0 0;\n",
              "      width: 32px;\n",
              "    }\n",
              "\n",
              "    .colab-df-convert:hover {\n",
              "      background-color: #E2EBFA;\n",
              "      box-shadow: 0px 1px 2px rgba(60, 64, 67, 0.3), 0px 1px 3px 1px rgba(60, 64, 67, 0.15);\n",
              "      fill: #174EA6;\n",
              "    }\n",
              "\n",
              "    [theme=dark] .colab-df-convert {\n",
              "      background-color: #3B4455;\n",
              "      fill: #D2E3FC;\n",
              "    }\n",
              "\n",
              "    [theme=dark] .colab-df-convert:hover {\n",
              "      background-color: #434B5C;\n",
              "      box-shadow: 0px 1px 3px 1px rgba(0, 0, 0, 0.15);\n",
              "      filter: drop-shadow(0px 1px 2px rgba(0, 0, 0, 0.3));\n",
              "      fill: #FFFFFF;\n",
              "    }\n",
              "  </style>\n",
              "\n",
              "      <script>\n",
              "        const buttonEl =\n",
              "          document.querySelector('#df-444d5e3a-d5be-4f4d-8300-18a323fd4a2c button.colab-df-convert');\n",
              "        buttonEl.style.display =\n",
              "          google.colab.kernel.accessAllowed ? 'block' : 'none';\n",
              "\n",
              "        async function convertToInteractive(key) {\n",
              "          const element = document.querySelector('#df-444d5e3a-d5be-4f4d-8300-18a323fd4a2c');\n",
              "          const dataTable =\n",
              "            await google.colab.kernel.invokeFunction('convertToInteractive',\n",
              "                                                     [key], {});\n",
              "          if (!dataTable) return;\n",
              "\n",
              "          const docLinkHtml = 'Like what you see? Visit the ' +\n",
              "            '<a target=\"_blank\" href=https://colab.research.google.com/notebooks/data_table.ipynb>data table notebook</a>'\n",
              "            + ' to learn more about interactive tables.';\n",
              "          element.innerHTML = '';\n",
              "          dataTable['output_type'] = 'display_data';\n",
              "          await google.colab.output.renderOutput(dataTable, element);\n",
              "          const docLink = document.createElement('div');\n",
              "          docLink.innerHTML = docLinkHtml;\n",
              "          element.appendChild(docLink);\n",
              "        }\n",
              "      </script>\n",
              "    </div>\n",
              "  </div>\n",
              "  "
            ]
          },
          "metadata": {},
          "execution_count": 4
        }
      ]
    },
    {
      "cell_type": "markdown",
      "source": [
        "## Search API: a quick test"
      ],
      "metadata": {
        "id": "Ducz-c1UfGVc"
      }
    },
    {
      "cell_type": "code",
      "source": [
        "query_url = \"https://api.gdeltproject.org/api/v2/tv/tv?query=(kremlin%20OR%20russia%20OR%20putin)%20(ukraine%20OR%20ukrainian%20OR%20zelenskyy)%20market:%22National%22&mode=timelinevol&format=html&datanorm=perc&format=csv&timelinesmooth=5&datacomb=sep&timezoom=yes&STARTDATETIME=20220224120000&ENDDATETIME=20220630120000\""
      ],
      "metadata": {
        "id": "T8QNcwwhNL0z"
      },
      "execution_count": null,
      "outputs": []
    },
    {
      "cell_type": "code",
      "source": [
        "def to_df(queryurl):\n",
        "  response = requests.get(queryurl)\n",
        "  content_text = StringIO(response.content.decode('utf-8'))\n",
        "  df = pd.read_csv(content_text)\n",
        "  return df"
      ],
      "metadata": {
        "id": "MGwtscGmNLwb"
      },
      "execution_count": 2,
      "outputs": []
    },
    {
      "cell_type": "code",
      "source": [
        "test_df = to_df(query_url)"
      ],
      "metadata": {
        "id": "6BR3GX2DNLuW"
      },
      "execution_count": null,
      "outputs": []
    },
    {
      "cell_type": "code",
      "source": [
        "test_df # each day corresponds to a group of channels\n",
        "# value is the percentage of number of matched 15-seconds clips over the number of monitored 15-seconds clips (because stations may devote different lengths of time to tv news)\n",
        "# if want raw count, then set datanorm=raw (now datanorm=perc)"
      ],
      "metadata": {
        "colab": {
          "base_uri": "https://localhost:8080/",
          "height": 424
        },
        "id": "sEfb43rPNLr9",
        "outputId": "0b660123-77c3-4308-8037-0804546637a9"
      },
      "execution_count": null,
      "outputs": [
        {
          "output_type": "execute_result",
          "data": {
            "text/plain": [
              "     Date (Daily +00:00: 02/24/2022 - 06/30/2022)     Series   Value\n",
              "0                                      2022-02-28  BLOOMBERG  4.6970\n",
              "1                                      2022-03-01  BLOOMBERG  4.3581\n",
              "2                                      2022-03-02  BLOOMBERG  3.7279\n",
              "3                                      2022-03-03  BLOOMBERG  4.4902\n",
              "4                                      2022-03-04  BLOOMBERG  4.5878\n",
              "...                                           ...        ...     ...\n",
              "1102                                   2022-06-26      MSNBC  0.1914\n",
              "1103                                   2022-06-27      MSNBC  0.2816\n",
              "1104                                   2022-06-28      MSNBC  0.3406\n",
              "1105                                   2022-06-29      MSNBC  0.4955\n",
              "1106                                   2022-06-30      MSNBC  0.7116\n",
              "\n",
              "[1107 rows x 3 columns]"
            ],
            "text/html": [
              "\n",
              "  <div id=\"df-1b9504cc-eee8-4cd1-9a92-fad521d4bf42\">\n",
              "    <div class=\"colab-df-container\">\n",
              "      <div>\n",
              "<style scoped>\n",
              "    .dataframe tbody tr th:only-of-type {\n",
              "        vertical-align: middle;\n",
              "    }\n",
              "\n",
              "    .dataframe tbody tr th {\n",
              "        vertical-align: top;\n",
              "    }\n",
              "\n",
              "    .dataframe thead th {\n",
              "        text-align: right;\n",
              "    }\n",
              "</style>\n",
              "<table border=\"1\" class=\"dataframe\">\n",
              "  <thead>\n",
              "    <tr style=\"text-align: right;\">\n",
              "      <th></th>\n",
              "      <th>Date (Daily +00:00: 02/24/2022 - 06/30/2022)</th>\n",
              "      <th>Series</th>\n",
              "      <th>Value</th>\n",
              "    </tr>\n",
              "  </thead>\n",
              "  <tbody>\n",
              "    <tr>\n",
              "      <th>0</th>\n",
              "      <td>2022-02-28</td>\n",
              "      <td>BLOOMBERG</td>\n",
              "      <td>4.6970</td>\n",
              "    </tr>\n",
              "    <tr>\n",
              "      <th>1</th>\n",
              "      <td>2022-03-01</td>\n",
              "      <td>BLOOMBERG</td>\n",
              "      <td>4.3581</td>\n",
              "    </tr>\n",
              "    <tr>\n",
              "      <th>2</th>\n",
              "      <td>2022-03-02</td>\n",
              "      <td>BLOOMBERG</td>\n",
              "      <td>3.7279</td>\n",
              "    </tr>\n",
              "    <tr>\n",
              "      <th>3</th>\n",
              "      <td>2022-03-03</td>\n",
              "      <td>BLOOMBERG</td>\n",
              "      <td>4.4902</td>\n",
              "    </tr>\n",
              "    <tr>\n",
              "      <th>4</th>\n",
              "      <td>2022-03-04</td>\n",
              "      <td>BLOOMBERG</td>\n",
              "      <td>4.5878</td>\n",
              "    </tr>\n",
              "    <tr>\n",
              "      <th>...</th>\n",
              "      <td>...</td>\n",
              "      <td>...</td>\n",
              "      <td>...</td>\n",
              "    </tr>\n",
              "    <tr>\n",
              "      <th>1102</th>\n",
              "      <td>2022-06-26</td>\n",
              "      <td>MSNBC</td>\n",
              "      <td>0.1914</td>\n",
              "    </tr>\n",
              "    <tr>\n",
              "      <th>1103</th>\n",
              "      <td>2022-06-27</td>\n",
              "      <td>MSNBC</td>\n",
              "      <td>0.2816</td>\n",
              "    </tr>\n",
              "    <tr>\n",
              "      <th>1104</th>\n",
              "      <td>2022-06-28</td>\n",
              "      <td>MSNBC</td>\n",
              "      <td>0.3406</td>\n",
              "    </tr>\n",
              "    <tr>\n",
              "      <th>1105</th>\n",
              "      <td>2022-06-29</td>\n",
              "      <td>MSNBC</td>\n",
              "      <td>0.4955</td>\n",
              "    </tr>\n",
              "    <tr>\n",
              "      <th>1106</th>\n",
              "      <td>2022-06-30</td>\n",
              "      <td>MSNBC</td>\n",
              "      <td>0.7116</td>\n",
              "    </tr>\n",
              "  </tbody>\n",
              "</table>\n",
              "<p>1107 rows × 3 columns</p>\n",
              "</div>\n",
              "      <button class=\"colab-df-convert\" onclick=\"convertToInteractive('df-1b9504cc-eee8-4cd1-9a92-fad521d4bf42')\"\n",
              "              title=\"Convert this dataframe to an interactive table.\"\n",
              "              style=\"display:none;\">\n",
              "        \n",
              "  <svg xmlns=\"http://www.w3.org/2000/svg\" height=\"24px\"viewBox=\"0 0 24 24\"\n",
              "       width=\"24px\">\n",
              "    <path d=\"M0 0h24v24H0V0z\" fill=\"none\"/>\n",
              "    <path d=\"M18.56 5.44l.94 2.06.94-2.06 2.06-.94-2.06-.94-.94-2.06-.94 2.06-2.06.94zm-11 1L8.5 8.5l.94-2.06 2.06-.94-2.06-.94L8.5 2.5l-.94 2.06-2.06.94zm10 10l.94 2.06.94-2.06 2.06-.94-2.06-.94-.94-2.06-.94 2.06-2.06.94z\"/><path d=\"M17.41 7.96l-1.37-1.37c-.4-.4-.92-.59-1.43-.59-.52 0-1.04.2-1.43.59L10.3 9.45l-7.72 7.72c-.78.78-.78 2.05 0 2.83L4 21.41c.39.39.9.59 1.41.59.51 0 1.02-.2 1.41-.59l7.78-7.78 2.81-2.81c.8-.78.8-2.07 0-2.86zM5.41 20L4 18.59l7.72-7.72 1.47 1.35L5.41 20z\"/>\n",
              "  </svg>\n",
              "      </button>\n",
              "      \n",
              "  <style>\n",
              "    .colab-df-container {\n",
              "      display:flex;\n",
              "      flex-wrap:wrap;\n",
              "      gap: 12px;\n",
              "    }\n",
              "\n",
              "    .colab-df-convert {\n",
              "      background-color: #E8F0FE;\n",
              "      border: none;\n",
              "      border-radius: 50%;\n",
              "      cursor: pointer;\n",
              "      display: none;\n",
              "      fill: #1967D2;\n",
              "      height: 32px;\n",
              "      padding: 0 0 0 0;\n",
              "      width: 32px;\n",
              "    }\n",
              "\n",
              "    .colab-df-convert:hover {\n",
              "      background-color: #E2EBFA;\n",
              "      box-shadow: 0px 1px 2px rgba(60, 64, 67, 0.3), 0px 1px 3px 1px rgba(60, 64, 67, 0.15);\n",
              "      fill: #174EA6;\n",
              "    }\n",
              "\n",
              "    [theme=dark] .colab-df-convert {\n",
              "      background-color: #3B4455;\n",
              "      fill: #D2E3FC;\n",
              "    }\n",
              "\n",
              "    [theme=dark] .colab-df-convert:hover {\n",
              "      background-color: #434B5C;\n",
              "      box-shadow: 0px 1px 3px 1px rgba(0, 0, 0, 0.15);\n",
              "      filter: drop-shadow(0px 1px 2px rgba(0, 0, 0, 0.3));\n",
              "      fill: #FFFFFF;\n",
              "    }\n",
              "  </style>\n",
              "\n",
              "      <script>\n",
              "        const buttonEl =\n",
              "          document.querySelector('#df-1b9504cc-eee8-4cd1-9a92-fad521d4bf42 button.colab-df-convert');\n",
              "        buttonEl.style.display =\n",
              "          google.colab.kernel.accessAllowed ? 'block' : 'none';\n",
              "\n",
              "        async function convertToInteractive(key) {\n",
              "          const element = document.querySelector('#df-1b9504cc-eee8-4cd1-9a92-fad521d4bf42');\n",
              "          const dataTable =\n",
              "            await google.colab.kernel.invokeFunction('convertToInteractive',\n",
              "                                                     [key], {});\n",
              "          if (!dataTable) return;\n",
              "\n",
              "          const docLinkHtml = 'Like what you see? Visit the ' +\n",
              "            '<a target=\"_blank\" href=https://colab.research.google.com/notebooks/data_table.ipynb>data table notebook</a>'\n",
              "            + ' to learn more about interactive tables.';\n",
              "          element.innerHTML = '';\n",
              "          dataTable['output_type'] = 'display_data';\n",
              "          await google.colab.output.renderOutput(dataTable, element);\n",
              "          const docLink = document.createElement('div');\n",
              "          docLink.innerHTML = docLinkHtml;\n",
              "          element.appendChild(docLink);\n",
              "        }\n",
              "      </script>\n",
              "    </div>\n",
              "  </div>\n",
              "  "
            ]
          },
          "metadata": {},
          "execution_count": 12
        }
      ]
    },
    {
      "cell_type": "code",
      "source": [
        "test_df.head(30)"
      ],
      "metadata": {
        "id": "QIWJz-42NLpn"
      },
      "execution_count": null,
      "outputs": []
    },
    {
      "cell_type": "code",
      "source": [
        "test_df.Series.unique()"
      ],
      "metadata": {
        "id": "VOSwo8XqNLnZ",
        "colab": {
          "base_uri": "https://localhost:8080/"
        },
        "outputId": "14aa3ba8-a51f-4ea1-f187-4b99ef96b986"
      },
      "execution_count": null,
      "outputs": [
        {
          "output_type": "execute_result",
          "data": {
            "text/plain": [
              "array(['BLOOMBERG', 'CNBC', 'CNN', 'CSPAN', 'CSPAN2', 'CSPAN3', 'FBC',\n",
              "       'FOXNEWS', 'MSNBC'], dtype=object)"
            ]
          },
          "metadata": {},
          "execution_count": 13
        }
      ]
    },
    {
      "cell_type": "code",
      "source": [
        "# The meat of the code for the article starts here"
      ],
      "metadata": {
        "id": "KDGrDiaBNLlC"
      },
      "execution_count": 86,
      "outputs": []
    },
    {
      "cell_type": "markdown",
      "source": [
        "## Retrieve and prepare data for dashboard\n",
        "2022/7/7"
      ],
      "metadata": {
        "id": "bp6-b9QUYQHc"
      }
    },
    {
      "cell_type": "code",
      "source": [
        "query_url_ukr = \"https://api.gdeltproject.org/api/v2/tv/tv?query=(ukraine%20OR%20ukrainian%20OR%20zelenskyy%20OR%20kiev)%20market:%22National%22&mode=timelinevol&format=html&datanorm=perc&format=csv&timelinesmooth=5&datacomb=sep&timezoom=yes&STARTDATETIME=20220224120000&ENDDATETIME=20220630120000\""
      ],
      "metadata": {
        "id": "CRE1mPD3NLd7"
      },
      "execution_count": 37,
      "outputs": []
    },
    {
      "cell_type": "code",
      "source": [
        "query_url_rus = \"https://api.gdeltproject.org/api/v2/tv/tv?query=(kremlin%20OR%20russia%20OR%20putin%20OR%20moscow%20OR%20russian)%20market:%22National%22&mode=timelinevol&format=html&datanorm=perc&format=csv&timelinesmooth=5&datacomb=sep&timezoom=yes&STARTDATETIME=20220224120000&ENDDATETIME=20220630120000\""
      ],
      "metadata": {
        "id": "_rDMxNVhNLUw"
      },
      "execution_count": 38,
      "outputs": []
    },
    {
      "cell_type": "code",
      "source": [
        "df_ukr = to_df(query_url_ukr)"
      ],
      "metadata": {
        "id": "RFzGI730NJWE"
      },
      "execution_count": 39,
      "outputs": []
    },
    {
      "cell_type": "code",
      "source": [
        "df_rus = to_df(query_url_rus)"
      ],
      "metadata": {
        "id": "5-K1x-RiCjvN"
      },
      "execution_count": 40,
      "outputs": []
    },
    {
      "cell_type": "code",
      "source": [
        "df_ukr.head()"
      ],
      "metadata": {
        "colab": {
          "base_uri": "https://localhost:8080/",
          "height": 206
        },
        "id": "z9U1A-HOCojy",
        "outputId": "b65b3049-cb49-44c4-f80e-6e53a8f00e46"
      },
      "execution_count": 7,
      "outputs": [
        {
          "output_type": "execute_result",
          "data": {
            "text/plain": [
              "  Date (Daily +00:00: 02/24/2022 - 06/30/2022)     Series    Value\n",
              "0                                   2022-02-28  BLOOMBERG  11.4829\n",
              "1                                   2022-03-01  BLOOMBERG  11.0797\n",
              "2                                   2022-03-02  BLOOMBERG   9.9667\n",
              "3                                   2022-03-03  BLOOMBERG  12.4323\n",
              "4                                   2022-03-04  BLOOMBERG  13.6899"
            ],
            "text/html": [
              "\n",
              "  <div id=\"df-62deb9a1-60d8-490b-875a-3cee544155cd\">\n",
              "    <div class=\"colab-df-container\">\n",
              "      <div>\n",
              "<style scoped>\n",
              "    .dataframe tbody tr th:only-of-type {\n",
              "        vertical-align: middle;\n",
              "    }\n",
              "\n",
              "    .dataframe tbody tr th {\n",
              "        vertical-align: top;\n",
              "    }\n",
              "\n",
              "    .dataframe thead th {\n",
              "        text-align: right;\n",
              "    }\n",
              "</style>\n",
              "<table border=\"1\" class=\"dataframe\">\n",
              "  <thead>\n",
              "    <tr style=\"text-align: right;\">\n",
              "      <th></th>\n",
              "      <th>Date (Daily +00:00: 02/24/2022 - 06/30/2022)</th>\n",
              "      <th>Series</th>\n",
              "      <th>Value</th>\n",
              "    </tr>\n",
              "  </thead>\n",
              "  <tbody>\n",
              "    <tr>\n",
              "      <th>0</th>\n",
              "      <td>2022-02-28</td>\n",
              "      <td>BLOOMBERG</td>\n",
              "      <td>11.4829</td>\n",
              "    </tr>\n",
              "    <tr>\n",
              "      <th>1</th>\n",
              "      <td>2022-03-01</td>\n",
              "      <td>BLOOMBERG</td>\n",
              "      <td>11.0797</td>\n",
              "    </tr>\n",
              "    <tr>\n",
              "      <th>2</th>\n",
              "      <td>2022-03-02</td>\n",
              "      <td>BLOOMBERG</td>\n",
              "      <td>9.9667</td>\n",
              "    </tr>\n",
              "    <tr>\n",
              "      <th>3</th>\n",
              "      <td>2022-03-03</td>\n",
              "      <td>BLOOMBERG</td>\n",
              "      <td>12.4323</td>\n",
              "    </tr>\n",
              "    <tr>\n",
              "      <th>4</th>\n",
              "      <td>2022-03-04</td>\n",
              "      <td>BLOOMBERG</td>\n",
              "      <td>13.6899</td>\n",
              "    </tr>\n",
              "  </tbody>\n",
              "</table>\n",
              "</div>\n",
              "      <button class=\"colab-df-convert\" onclick=\"convertToInteractive('df-62deb9a1-60d8-490b-875a-3cee544155cd')\"\n",
              "              title=\"Convert this dataframe to an interactive table.\"\n",
              "              style=\"display:none;\">\n",
              "        \n",
              "  <svg xmlns=\"http://www.w3.org/2000/svg\" height=\"24px\"viewBox=\"0 0 24 24\"\n",
              "       width=\"24px\">\n",
              "    <path d=\"M0 0h24v24H0V0z\" fill=\"none\"/>\n",
              "    <path d=\"M18.56 5.44l.94 2.06.94-2.06 2.06-.94-2.06-.94-.94-2.06-.94 2.06-2.06.94zm-11 1L8.5 8.5l.94-2.06 2.06-.94-2.06-.94L8.5 2.5l-.94 2.06-2.06.94zm10 10l.94 2.06.94-2.06 2.06-.94-2.06-.94-.94-2.06-.94 2.06-2.06.94z\"/><path d=\"M17.41 7.96l-1.37-1.37c-.4-.4-.92-.59-1.43-.59-.52 0-1.04.2-1.43.59L10.3 9.45l-7.72 7.72c-.78.78-.78 2.05 0 2.83L4 21.41c.39.39.9.59 1.41.59.51 0 1.02-.2 1.41-.59l7.78-7.78 2.81-2.81c.8-.78.8-2.07 0-2.86zM5.41 20L4 18.59l7.72-7.72 1.47 1.35L5.41 20z\"/>\n",
              "  </svg>\n",
              "      </button>\n",
              "      \n",
              "  <style>\n",
              "    .colab-df-container {\n",
              "      display:flex;\n",
              "      flex-wrap:wrap;\n",
              "      gap: 12px;\n",
              "    }\n",
              "\n",
              "    .colab-df-convert {\n",
              "      background-color: #E8F0FE;\n",
              "      border: none;\n",
              "      border-radius: 50%;\n",
              "      cursor: pointer;\n",
              "      display: none;\n",
              "      fill: #1967D2;\n",
              "      height: 32px;\n",
              "      padding: 0 0 0 0;\n",
              "      width: 32px;\n",
              "    }\n",
              "\n",
              "    .colab-df-convert:hover {\n",
              "      background-color: #E2EBFA;\n",
              "      box-shadow: 0px 1px 2px rgba(60, 64, 67, 0.3), 0px 1px 3px 1px rgba(60, 64, 67, 0.15);\n",
              "      fill: #174EA6;\n",
              "    }\n",
              "\n",
              "    [theme=dark] .colab-df-convert {\n",
              "      background-color: #3B4455;\n",
              "      fill: #D2E3FC;\n",
              "    }\n",
              "\n",
              "    [theme=dark] .colab-df-convert:hover {\n",
              "      background-color: #434B5C;\n",
              "      box-shadow: 0px 1px 3px 1px rgba(0, 0, 0, 0.15);\n",
              "      filter: drop-shadow(0px 1px 2px rgba(0, 0, 0, 0.3));\n",
              "      fill: #FFFFFF;\n",
              "    }\n",
              "  </style>\n",
              "\n",
              "      <script>\n",
              "        const buttonEl =\n",
              "          document.querySelector('#df-62deb9a1-60d8-490b-875a-3cee544155cd button.colab-df-convert');\n",
              "        buttonEl.style.display =\n",
              "          google.colab.kernel.accessAllowed ? 'block' : 'none';\n",
              "\n",
              "        async function convertToInteractive(key) {\n",
              "          const element = document.querySelector('#df-62deb9a1-60d8-490b-875a-3cee544155cd');\n",
              "          const dataTable =\n",
              "            await google.colab.kernel.invokeFunction('convertToInteractive',\n",
              "                                                     [key], {});\n",
              "          if (!dataTable) return;\n",
              "\n",
              "          const docLinkHtml = 'Like what you see? Visit the ' +\n",
              "            '<a target=\"_blank\" href=https://colab.research.google.com/notebooks/data_table.ipynb>data table notebook</a>'\n",
              "            + ' to learn more about interactive tables.';\n",
              "          element.innerHTML = '';\n",
              "          dataTable['output_type'] = 'display_data';\n",
              "          await google.colab.output.renderOutput(dataTable, element);\n",
              "          const docLink = document.createElement('div');\n",
              "          docLink.innerHTML = docLinkHtml;\n",
              "          element.appendChild(docLink);\n",
              "        }\n",
              "      </script>\n",
              "    </div>\n",
              "  </div>\n",
              "  "
            ]
          },
          "metadata": {},
          "execution_count": 7
        }
      ]
    },
    {
      "cell_type": "code",
      "source": [
        "df_rus.head()"
      ],
      "metadata": {
        "colab": {
          "base_uri": "https://localhost:8080/",
          "height": 206
        },
        "id": "-P4OT974CowA",
        "outputId": "8fae0418-7a47-4ca1-f988-b7a85c060bc1"
      },
      "execution_count": 8,
      "outputs": [
        {
          "output_type": "execute_result",
          "data": {
            "text/plain": [
              "  Date (Daily +00:00: 02/24/2022 - 06/30/2022)     Series    Value\n",
              "0                                   2022-02-28  BLOOMBERG  22.1849\n",
              "1                                   2022-03-01  BLOOMBERG  21.7927\n",
              "2                                   2022-03-02  BLOOMBERG  19.2834\n",
              "3                                   2022-03-03  BLOOMBERG  23.0547\n",
              "4                                   2022-03-04  BLOOMBERG  23.7903"
            ],
            "text/html": [
              "\n",
              "  <div id=\"df-689cc150-e5fb-471a-b2d8-1a117629613f\">\n",
              "    <div class=\"colab-df-container\">\n",
              "      <div>\n",
              "<style scoped>\n",
              "    .dataframe tbody tr th:only-of-type {\n",
              "        vertical-align: middle;\n",
              "    }\n",
              "\n",
              "    .dataframe tbody tr th {\n",
              "        vertical-align: top;\n",
              "    }\n",
              "\n",
              "    .dataframe thead th {\n",
              "        text-align: right;\n",
              "    }\n",
              "</style>\n",
              "<table border=\"1\" class=\"dataframe\">\n",
              "  <thead>\n",
              "    <tr style=\"text-align: right;\">\n",
              "      <th></th>\n",
              "      <th>Date (Daily +00:00: 02/24/2022 - 06/30/2022)</th>\n",
              "      <th>Series</th>\n",
              "      <th>Value</th>\n",
              "    </tr>\n",
              "  </thead>\n",
              "  <tbody>\n",
              "    <tr>\n",
              "      <th>0</th>\n",
              "      <td>2022-02-28</td>\n",
              "      <td>BLOOMBERG</td>\n",
              "      <td>22.1849</td>\n",
              "    </tr>\n",
              "    <tr>\n",
              "      <th>1</th>\n",
              "      <td>2022-03-01</td>\n",
              "      <td>BLOOMBERG</td>\n",
              "      <td>21.7927</td>\n",
              "    </tr>\n",
              "    <tr>\n",
              "      <th>2</th>\n",
              "      <td>2022-03-02</td>\n",
              "      <td>BLOOMBERG</td>\n",
              "      <td>19.2834</td>\n",
              "    </tr>\n",
              "    <tr>\n",
              "      <th>3</th>\n",
              "      <td>2022-03-03</td>\n",
              "      <td>BLOOMBERG</td>\n",
              "      <td>23.0547</td>\n",
              "    </tr>\n",
              "    <tr>\n",
              "      <th>4</th>\n",
              "      <td>2022-03-04</td>\n",
              "      <td>BLOOMBERG</td>\n",
              "      <td>23.7903</td>\n",
              "    </tr>\n",
              "  </tbody>\n",
              "</table>\n",
              "</div>\n",
              "      <button class=\"colab-df-convert\" onclick=\"convertToInteractive('df-689cc150-e5fb-471a-b2d8-1a117629613f')\"\n",
              "              title=\"Convert this dataframe to an interactive table.\"\n",
              "              style=\"display:none;\">\n",
              "        \n",
              "  <svg xmlns=\"http://www.w3.org/2000/svg\" height=\"24px\"viewBox=\"0 0 24 24\"\n",
              "       width=\"24px\">\n",
              "    <path d=\"M0 0h24v24H0V0z\" fill=\"none\"/>\n",
              "    <path d=\"M18.56 5.44l.94 2.06.94-2.06 2.06-.94-2.06-.94-.94-2.06-.94 2.06-2.06.94zm-11 1L8.5 8.5l.94-2.06 2.06-.94-2.06-.94L8.5 2.5l-.94 2.06-2.06.94zm10 10l.94 2.06.94-2.06 2.06-.94-2.06-.94-.94-2.06-.94 2.06-2.06.94z\"/><path d=\"M17.41 7.96l-1.37-1.37c-.4-.4-.92-.59-1.43-.59-.52 0-1.04.2-1.43.59L10.3 9.45l-7.72 7.72c-.78.78-.78 2.05 0 2.83L4 21.41c.39.39.9.59 1.41.59.51 0 1.02-.2 1.41-.59l7.78-7.78 2.81-2.81c.8-.78.8-2.07 0-2.86zM5.41 20L4 18.59l7.72-7.72 1.47 1.35L5.41 20z\"/>\n",
              "  </svg>\n",
              "      </button>\n",
              "      \n",
              "  <style>\n",
              "    .colab-df-container {\n",
              "      display:flex;\n",
              "      flex-wrap:wrap;\n",
              "      gap: 12px;\n",
              "    }\n",
              "\n",
              "    .colab-df-convert {\n",
              "      background-color: #E8F0FE;\n",
              "      border: none;\n",
              "      border-radius: 50%;\n",
              "      cursor: pointer;\n",
              "      display: none;\n",
              "      fill: #1967D2;\n",
              "      height: 32px;\n",
              "      padding: 0 0 0 0;\n",
              "      width: 32px;\n",
              "    }\n",
              "\n",
              "    .colab-df-convert:hover {\n",
              "      background-color: #E2EBFA;\n",
              "      box-shadow: 0px 1px 2px rgba(60, 64, 67, 0.3), 0px 1px 3px 1px rgba(60, 64, 67, 0.15);\n",
              "      fill: #174EA6;\n",
              "    }\n",
              "\n",
              "    [theme=dark] .colab-df-convert {\n",
              "      background-color: #3B4455;\n",
              "      fill: #D2E3FC;\n",
              "    }\n",
              "\n",
              "    [theme=dark] .colab-df-convert:hover {\n",
              "      background-color: #434B5C;\n",
              "      box-shadow: 0px 1px 3px 1px rgba(0, 0, 0, 0.15);\n",
              "      filter: drop-shadow(0px 1px 2px rgba(0, 0, 0, 0.3));\n",
              "      fill: #FFFFFF;\n",
              "    }\n",
              "  </style>\n",
              "\n",
              "      <script>\n",
              "        const buttonEl =\n",
              "          document.querySelector('#df-689cc150-e5fb-471a-b2d8-1a117629613f button.colab-df-convert');\n",
              "        buttonEl.style.display =\n",
              "          google.colab.kernel.accessAllowed ? 'block' : 'none';\n",
              "\n",
              "        async function convertToInteractive(key) {\n",
              "          const element = document.querySelector('#df-689cc150-e5fb-471a-b2d8-1a117629613f');\n",
              "          const dataTable =\n",
              "            await google.colab.kernel.invokeFunction('convertToInteractive',\n",
              "                                                     [key], {});\n",
              "          if (!dataTable) return;\n",
              "\n",
              "          const docLinkHtml = 'Like what you see? Visit the ' +\n",
              "            '<a target=\"_blank\" href=https://colab.research.google.com/notebooks/data_table.ipynb>data table notebook</a>'\n",
              "            + ' to learn more about interactive tables.';\n",
              "          element.innerHTML = '';\n",
              "          dataTable['output_type'] = 'display_data';\n",
              "          await google.colab.output.renderOutput(dataTable, element);\n",
              "          const docLink = document.createElement('div');\n",
              "          docLink.innerHTML = docLinkHtml;\n",
              "          element.appendChild(docLink);\n",
              "        }\n",
              "      </script>\n",
              "    </div>\n",
              "  </div>\n",
              "  "
            ]
          },
          "metadata": {},
          "execution_count": 8
        }
      ]
    },
    {
      "cell_type": "code",
      "source": [
        "df_ukr = df_ukr.rename(columns={\"Date (Daily +00:00: 02/24/2022 - 06/30/2022)\": \"date_col\"})\n",
        "df_rus = df_rus.rename(columns={\"Date (Daily +00:00: 02/24/2022 - 06/30/2022)\": \"date_col\"})"
      ],
      "metadata": {
        "id": "9XVDMKxhCo3P"
      },
      "execution_count": 41,
      "outputs": []
    },
    {
      "cell_type": "code",
      "source": [
        "df_ukr.dtypes"
      ],
      "metadata": {
        "colab": {
          "base_uri": "https://localhost:8080/"
        },
        "id": "yiFSV_JyPsIS",
        "outputId": "ef9e1f25-47ad-4886-ad96-eff69d33ce99"
      },
      "execution_count": null,
      "outputs": [
        {
          "output_type": "execute_result",
          "data": {
            "text/plain": [
              "date_col     object\n",
              "Series       object\n",
              "Value       float64\n",
              "dtype: object"
            ]
          },
          "metadata": {},
          "execution_count": 41
        }
      ]
    },
    {
      "cell_type": "code",
      "source": [
        "df_ukr['date_col'] = pd.to_datetime(df_ukr['date_col'])"
      ],
      "metadata": {
        "id": "feS9sEQfPr1Y"
      },
      "execution_count": 42,
      "outputs": []
    },
    {
      "cell_type": "code",
      "source": [
        "df_ukr.dtypes"
      ],
      "metadata": {
        "colab": {
          "base_uri": "https://localhost:8080/"
        },
        "id": "DYoAvZfFPrnr",
        "outputId": "35dc537c-3bb1-4ed6-e636-36cafd817e54"
      },
      "execution_count": 67,
      "outputs": [
        {
          "output_type": "execute_result",
          "data": {
            "text/plain": [
              "date_col    datetime64[ns]\n",
              "Series              object\n",
              "Value              float64\n",
              "dtype: object"
            ]
          },
          "metadata": {},
          "execution_count": 67
        }
      ]
    },
    {
      "cell_type": "code",
      "source": [
        "df_rus['date_col'] = pd.to_datetime(df_rus['date_col'])"
      ],
      "metadata": {
        "id": "dj0StXsNSG43"
      },
      "execution_count": 43,
      "outputs": []
    },
    {
      "cell_type": "code",
      "source": [
        "df_rus = df_rus[[x in ['CNN', 'FOXNEWS', 'MSNBC'] for x in df_rus.Series]]"
      ],
      "metadata": {
        "id": "Tv3dX-FCSGhE"
      },
      "execution_count": 45,
      "outputs": []
    },
    {
      "cell_type": "code",
      "source": [
        "df_ukr = df_ukr[[x in ['CNN', 'FOXNEWS', 'MSNBC'] for x in df_ukr.Series]]"
      ],
      "metadata": {
        "id": "PdYGlcgBSGWL"
      },
      "execution_count": 47,
      "outputs": []
    },
    {
      "cell_type": "code",
      "source": [
        ""
      ],
      "metadata": {
        "id": "Ot_Ikn9ESGLG"
      },
      "execution_count": null,
      "outputs": []
    },
    {
      "cell_type": "code",
      "source": [
        ""
      ],
      "metadata": {
        "id": "O4S4ILUsSF_3"
      },
      "execution_count": null,
      "outputs": []
    },
    {
      "cell_type": "markdown",
      "source": [
        "# Dashboard part starts here"
      ],
      "metadata": {
        "id": "G6W-spDgX3AT"
      }
    },
    {
      "cell_type": "code",
      "source": [
        "!pip install jupyter-dash"
      ],
      "metadata": {
        "id": "z43iZEguCo5w",
        "colab": {
          "base_uri": "https://localhost:8080/"
        },
        "outputId": "7090e576-440f-40ac-b583-7b6a2e51fb7e"
      },
      "execution_count": 13,
      "outputs": [
        {
          "output_type": "stream",
          "name": "stdout",
          "text": [
            "Looking in indexes: https://pypi.org/simple, https://us-python.pkg.dev/colab-wheels/public/simple/\n",
            "Collecting jupyter-dash\n",
            "  Downloading jupyter_dash-0.4.2-py3-none-any.whl (23 kB)\n",
            "Requirement already satisfied: flask in /usr/local/lib/python3.7/dist-packages (from jupyter-dash) (1.1.4)\n",
            "Collecting retrying\n",
            "  Downloading retrying-1.3.3.tar.gz (10 kB)\n",
            "Collecting dash\n",
            "  Downloading dash-2.5.1-py3-none-any.whl (9.8 MB)\n",
            "\u001b[K     |████████████████████████████████| 9.8 MB 7.0 MB/s \n",
            "\u001b[?25hCollecting ansi2html\n",
            "  Downloading ansi2html-1.8.0-py3-none-any.whl (16 kB)\n",
            "Requirement already satisfied: nest-asyncio in /usr/local/lib/python3.7/dist-packages (from jupyter-dash) (1.5.5)\n",
            "Requirement already satisfied: requests in /usr/local/lib/python3.7/dist-packages (from jupyter-dash) (2.23.0)\n",
            "Requirement already satisfied: ipython in /usr/local/lib/python3.7/dist-packages (from jupyter-dash) (5.5.0)\n",
            "Requirement already satisfied: ipykernel in /usr/local/lib/python3.7/dist-packages (from jupyter-dash) (4.10.1)\n",
            "Requirement already satisfied: importlib-metadata in /usr/local/lib/python3.7/dist-packages (from ansi2html->jupyter-dash) (4.11.4)\n",
            "Collecting flask-compress\n",
            "  Downloading Flask_Compress-1.12-py3-none-any.whl (7.9 kB)\n",
            "Collecting dash-table==5.0.0\n",
            "  Downloading dash_table-5.0.0-py3-none-any.whl (3.9 kB)\n",
            "Collecting dash-core-components==2.0.0\n",
            "  Downloading dash_core_components-2.0.0-py3-none-any.whl (3.8 kB)\n",
            "Collecting dash-html-components==2.0.0\n",
            "  Downloading dash_html_components-2.0.0-py3-none-any.whl (4.1 kB)\n",
            "Requirement already satisfied: plotly>=5.0.0 in /usr/local/lib/python3.7/dist-packages (from dash->jupyter-dash) (5.5.0)\n",
            "Requirement already satisfied: itsdangerous<2.0,>=0.24 in /usr/local/lib/python3.7/dist-packages (from flask->jupyter-dash) (1.1.0)\n",
            "Requirement already satisfied: Werkzeug<2.0,>=0.15 in /usr/local/lib/python3.7/dist-packages (from flask->jupyter-dash) (1.0.1)\n",
            "Requirement already satisfied: Jinja2<3.0,>=2.10.1 in /usr/local/lib/python3.7/dist-packages (from flask->jupyter-dash) (2.11.3)\n",
            "Requirement already satisfied: click<8.0,>=5.1 in /usr/local/lib/python3.7/dist-packages (from flask->jupyter-dash) (7.1.2)\n",
            "Requirement already satisfied: MarkupSafe>=0.23 in /usr/local/lib/python3.7/dist-packages (from Jinja2<3.0,>=2.10.1->flask->jupyter-dash) (2.0.1)\n",
            "Requirement already satisfied: tenacity>=6.2.0 in /usr/local/lib/python3.7/dist-packages (from plotly>=5.0.0->dash->jupyter-dash) (8.0.1)\n",
            "Requirement already satisfied: six in /usr/local/lib/python3.7/dist-packages (from plotly>=5.0.0->dash->jupyter-dash) (1.15.0)\n",
            "Collecting brotli\n",
            "  Downloading Brotli-1.0.9-cp37-cp37m-manylinux1_x86_64.whl (357 kB)\n",
            "\u001b[K     |████████████████████████████████| 357 kB 54.2 MB/s \n",
            "\u001b[?25hRequirement already satisfied: zipp>=0.5 in /usr/local/lib/python3.7/dist-packages (from importlib-metadata->ansi2html->jupyter-dash) (3.8.0)\n",
            "Requirement already satisfied: typing-extensions>=3.6.4 in /usr/local/lib/python3.7/dist-packages (from importlib-metadata->ansi2html->jupyter-dash) (4.1.1)\n",
            "Requirement already satisfied: jupyter-client in /usr/local/lib/python3.7/dist-packages (from ipykernel->jupyter-dash) (5.3.5)\n",
            "Requirement already satisfied: traitlets>=4.1.0 in /usr/local/lib/python3.7/dist-packages (from ipykernel->jupyter-dash) (5.1.1)\n",
            "Requirement already satisfied: tornado>=4.0 in /usr/local/lib/python3.7/dist-packages (from ipykernel->jupyter-dash) (5.1.1)\n",
            "Requirement already satisfied: setuptools>=18.5 in /usr/local/lib/python3.7/dist-packages (from ipython->jupyter-dash) (57.4.0)\n",
            "Requirement already satisfied: decorator in /usr/local/lib/python3.7/dist-packages (from ipython->jupyter-dash) (4.4.2)\n",
            "Requirement already satisfied: pexpect in /usr/local/lib/python3.7/dist-packages (from ipython->jupyter-dash) (4.8.0)\n",
            "Requirement already satisfied: pygments in /usr/local/lib/python3.7/dist-packages (from ipython->jupyter-dash) (2.6.1)\n",
            "Requirement already satisfied: pickleshare in /usr/local/lib/python3.7/dist-packages (from ipython->jupyter-dash) (0.7.5)\n",
            "Requirement already satisfied: simplegeneric>0.8 in /usr/local/lib/python3.7/dist-packages (from ipython->jupyter-dash) (0.8.1)\n",
            "Requirement already satisfied: prompt-toolkit<2.0.0,>=1.0.4 in /usr/local/lib/python3.7/dist-packages (from ipython->jupyter-dash) (1.0.18)\n",
            "Requirement already satisfied: wcwidth in /usr/local/lib/python3.7/dist-packages (from prompt-toolkit<2.0.0,>=1.0.4->ipython->jupyter-dash) (0.2.5)\n",
            "Requirement already satisfied: pyzmq>=13 in /usr/local/lib/python3.7/dist-packages (from jupyter-client->ipykernel->jupyter-dash) (23.1.0)\n",
            "Requirement already satisfied: python-dateutil>=2.1 in /usr/local/lib/python3.7/dist-packages (from jupyter-client->ipykernel->jupyter-dash) (2.8.2)\n",
            "Requirement already satisfied: jupyter-core>=4.6.0 in /usr/local/lib/python3.7/dist-packages (from jupyter-client->ipykernel->jupyter-dash) (4.10.0)\n",
            "Requirement already satisfied: ptyprocess>=0.5 in /usr/local/lib/python3.7/dist-packages (from pexpect->ipython->jupyter-dash) (0.7.0)\n",
            "Requirement already satisfied: chardet<4,>=3.0.2 in /usr/local/lib/python3.7/dist-packages (from requests->jupyter-dash) (3.0.4)\n",
            "Requirement already satisfied: certifi>=2017.4.17 in /usr/local/lib/python3.7/dist-packages (from requests->jupyter-dash) (2022.6.15)\n",
            "Requirement already satisfied: urllib3!=1.25.0,!=1.25.1,<1.26,>=1.21.1 in /usr/local/lib/python3.7/dist-packages (from requests->jupyter-dash) (1.24.3)\n",
            "Requirement already satisfied: idna<3,>=2.5 in /usr/local/lib/python3.7/dist-packages (from requests->jupyter-dash) (2.10)\n",
            "Building wheels for collected packages: retrying\n",
            "  Building wheel for retrying (setup.py) ... \u001b[?25l\u001b[?25hdone\n",
            "  Created wheel for retrying: filename=retrying-1.3.3-py3-none-any.whl size=11447 sha256=cf5bc6d24e85afd794c2e57748346fa586ca88a7b5ce79d8af0940ce57c8a3c0\n",
            "  Stored in directory: /root/.cache/pip/wheels/f9/8d/8d/f6af3f7f9eea3553bc2fe6d53e4b287dad18b06a861ac56ddf\n",
            "Successfully built retrying\n",
            "Installing collected packages: brotli, flask-compress, dash-table, dash-html-components, dash-core-components, retrying, dash, ansi2html, jupyter-dash\n",
            "Successfully installed ansi2html-1.8.0 brotli-1.0.9 dash-2.5.1 dash-core-components-2.0.0 dash-html-components-2.0.0 dash-table-5.0.0 flask-compress-1.12 jupyter-dash-0.4.2 retrying-1.3.3\n"
          ]
        }
      ]
    },
    {
      "cell_type": "code",
      "source": [
        "!pip install dash"
      ],
      "metadata": {
        "id": "k-Y8EsXpCo8f",
        "colab": {
          "base_uri": "https://localhost:8080/"
        },
        "outputId": "6b82646d-08f7-4fd8-c1a3-0cd98412cedb"
      },
      "execution_count": 14,
      "outputs": [
        {
          "output_type": "stream",
          "name": "stdout",
          "text": [
            "Looking in indexes: https://pypi.org/simple, https://us-python.pkg.dev/colab-wheels/public/simple/\n",
            "Requirement already satisfied: dash in /usr/local/lib/python3.7/dist-packages (2.5.1)\n",
            "Requirement already satisfied: plotly>=5.0.0 in /usr/local/lib/python3.7/dist-packages (from dash) (5.5.0)\n",
            "Requirement already satisfied: dash-html-components==2.0.0 in /usr/local/lib/python3.7/dist-packages (from dash) (2.0.0)\n",
            "Requirement already satisfied: dash-core-components==2.0.0 in /usr/local/lib/python3.7/dist-packages (from dash) (2.0.0)\n",
            "Requirement already satisfied: flask-compress in /usr/local/lib/python3.7/dist-packages (from dash) (1.12)\n",
            "Requirement already satisfied: Flask>=1.0.4 in /usr/local/lib/python3.7/dist-packages (from dash) (1.1.4)\n",
            "Requirement already satisfied: dash-table==5.0.0 in /usr/local/lib/python3.7/dist-packages (from dash) (5.0.0)\n",
            "Requirement already satisfied: Jinja2<3.0,>=2.10.1 in /usr/local/lib/python3.7/dist-packages (from Flask>=1.0.4->dash) (2.11.3)\n",
            "Requirement already satisfied: click<8.0,>=5.1 in /usr/local/lib/python3.7/dist-packages (from Flask>=1.0.4->dash) (7.1.2)\n",
            "Requirement already satisfied: Werkzeug<2.0,>=0.15 in /usr/local/lib/python3.7/dist-packages (from Flask>=1.0.4->dash) (1.0.1)\n",
            "Requirement already satisfied: itsdangerous<2.0,>=0.24 in /usr/local/lib/python3.7/dist-packages (from Flask>=1.0.4->dash) (1.1.0)\n",
            "Requirement already satisfied: MarkupSafe>=0.23 in /usr/local/lib/python3.7/dist-packages (from Jinja2<3.0,>=2.10.1->Flask>=1.0.4->dash) (2.0.1)\n",
            "Requirement already satisfied: six in /usr/local/lib/python3.7/dist-packages (from plotly>=5.0.0->dash) (1.15.0)\n",
            "Requirement already satisfied: tenacity>=6.2.0 in /usr/local/lib/python3.7/dist-packages (from plotly>=5.0.0->dash) (8.0.1)\n",
            "Requirement already satisfied: brotli in /usr/local/lib/python3.7/dist-packages (from flask-compress->dash) (1.0.9)\n"
          ]
        }
      ]
    },
    {
      "cell_type": "code",
      "source": [
        "!pip install dash_bootstrap_components"
      ],
      "metadata": {
        "id": "QxQhgG0dCo-n",
        "colab": {
          "base_uri": "https://localhost:8080/"
        },
        "outputId": "a521d33d-bfc8-4917-d49a-3ac25695c49a"
      },
      "execution_count": 15,
      "outputs": [
        {
          "output_type": "stream",
          "name": "stdout",
          "text": [
            "Looking in indexes: https://pypi.org/simple, https://us-python.pkg.dev/colab-wheels/public/simple/\n",
            "Collecting dash_bootstrap_components\n",
            "  Downloading dash_bootstrap_components-1.2.0-py3-none-any.whl (216 kB)\n",
            "\u001b[K     |████████████████████████████████| 216 kB 6.3 MB/s \n",
            "\u001b[?25hRequirement already satisfied: dash>=2.0.0 in /usr/local/lib/python3.7/dist-packages (from dash_bootstrap_components) (2.5.1)\n",
            "Requirement already satisfied: plotly>=5.0.0 in /usr/local/lib/python3.7/dist-packages (from dash>=2.0.0->dash_bootstrap_components) (5.5.0)\n",
            "Requirement already satisfied: Flask>=1.0.4 in /usr/local/lib/python3.7/dist-packages (from dash>=2.0.0->dash_bootstrap_components) (1.1.4)\n",
            "Requirement already satisfied: dash-table==5.0.0 in /usr/local/lib/python3.7/dist-packages (from dash>=2.0.0->dash_bootstrap_components) (5.0.0)\n",
            "Requirement already satisfied: dash-html-components==2.0.0 in /usr/local/lib/python3.7/dist-packages (from dash>=2.0.0->dash_bootstrap_components) (2.0.0)\n",
            "Requirement already satisfied: dash-core-components==2.0.0 in /usr/local/lib/python3.7/dist-packages (from dash>=2.0.0->dash_bootstrap_components) (2.0.0)\n",
            "Requirement already satisfied: flask-compress in /usr/local/lib/python3.7/dist-packages (from dash>=2.0.0->dash_bootstrap_components) (1.12)\n",
            "Requirement already satisfied: itsdangerous<2.0,>=0.24 in /usr/local/lib/python3.7/dist-packages (from Flask>=1.0.4->dash>=2.0.0->dash_bootstrap_components) (1.1.0)\n",
            "Requirement already satisfied: click<8.0,>=5.1 in /usr/local/lib/python3.7/dist-packages (from Flask>=1.0.4->dash>=2.0.0->dash_bootstrap_components) (7.1.2)\n",
            "Requirement already satisfied: Jinja2<3.0,>=2.10.1 in /usr/local/lib/python3.7/dist-packages (from Flask>=1.0.4->dash>=2.0.0->dash_bootstrap_components) (2.11.3)\n",
            "Requirement already satisfied: Werkzeug<2.0,>=0.15 in /usr/local/lib/python3.7/dist-packages (from Flask>=1.0.4->dash>=2.0.0->dash_bootstrap_components) (1.0.1)\n",
            "Requirement already satisfied: MarkupSafe>=0.23 in /usr/local/lib/python3.7/dist-packages (from Jinja2<3.0,>=2.10.1->Flask>=1.0.4->dash>=2.0.0->dash_bootstrap_components) (2.0.1)\n",
            "Requirement already satisfied: six in /usr/local/lib/python3.7/dist-packages (from plotly>=5.0.0->dash>=2.0.0->dash_bootstrap_components) (1.15.0)\n",
            "Requirement already satisfied: tenacity>=6.2.0 in /usr/local/lib/python3.7/dist-packages (from plotly>=5.0.0->dash>=2.0.0->dash_bootstrap_components) (8.0.1)\n",
            "Requirement already satisfied: brotli in /usr/local/lib/python3.7/dist-packages (from flask-compress->dash>=2.0.0->dash_bootstrap_components) (1.0.9)\n",
            "Installing collected packages: dash-bootstrap-components\n",
            "Successfully installed dash-bootstrap-components-1.2.0\n"
          ]
        }
      ]
    },
    {
      "cell_type": "code",
      "source": [
        "import dash\n",
        "from jupyter_dash import JupyterDash\n",
        "from dash import dcc\n",
        "from dash import html\n",
        "from dash.dependencies import Input, Output, State\n",
        "import dash_bootstrap_components as dbc\n",
        "import plotly.express as px"
      ],
      "metadata": {
        "id": "-L4rxrwkCpAp"
      },
      "execution_count": 16,
      "outputs": []
    },
    {
      "cell_type": "code",
      "source": [
        "# Initiate a dashboard instance\n",
        "app = JupyterDash(__name__, external_stylesheets=[dbc.themes.LITERA])\n",
        "server = app.server\n",
        "\n",
        "# Dashboard front end\n",
        "app.layout = dbc.Container(\n",
        "    [   dbc.Row([\n",
        "        dbc.Col([html.H1('US National Television News Coverage of the War in Ukrain')],\n",
        "        #html.Hr()],\n",
        "        className=\"text-center mt-3 mb-1\")\n",
        "    ]\n",
        "    ),\n",
        "        dbc.Row([\n",
        "            dbc.Label(\"Select a date range:\", className=\"fw-bold\")\n",
        "    ]),\n",
        "    \n",
        "     dbc.Row([\n",
        "              dcc.DatePickerRange(\n",
        "                id='date-range',\n",
        "                min_date_allowed=df_ukr['date_col'].min().date(),\n",
        "                max_date_allowed=df_ukr['date_col'].max().date(),\n",
        "                initial_visible_month=df_ukr['date_col'].min().date(),\n",
        "                start_date=df_ukr['date_col'].min().date(),\n",
        "                end_date=df_ukr['date_col'].max().date()\n",
        "              )\n",
        "    ]),\n",
        "\n",
        "     dbc.Row([\n",
        "              dbc.Col(dcc.Graph(id='line-graph-ukr'), \n",
        "                      )\n",
        "     ]),\n",
        "\n",
        "    dbc.Row([\n",
        "              dbc.Col(dcc.Graph(id='line-graph-rus'), \n",
        "                      )\n",
        "     ])\n",
        "\n",
        "    ])\n",
        "\n",
        "# Dashboard back end\n",
        "@app.callback(\n",
        "    Output('line-graph-ukr', 'figure'),\n",
        "    Output('line-graph-rus', 'figure'),\n",
        "    Input('date-range', 'start_date'),\n",
        "    Input('date-range', 'end_date')   \n",
        ")\n",
        "def update_output(start_date, end_date):\n",
        "    mask_ukr = (df_ukr['date_col'] >= start_date) & (df_ukr['date_col'] <= end_date)\n",
        "    mask_rus = (df_rus['date_col'] >= start_date) & (df_rus['date_col'] <= end_date)\n",
        "\n",
        "    df_ukr_filtered = df_ukr.loc[mask_ukr]\n",
        "    df_rus_filtered = df_rus.loc[mask_rus]\n",
        "    \n",
        "    line_fig_ukr = px.line(df_ukr_filtered, x=\"date_col\", y=\"Value\", \n",
        "                     color='Series', title=\"Coverage of Ukranian Keywords\")\n",
        "    line_fig_rus = px.line(df_rus_filtered, x='date_col', y='Value', \n",
        "                     color='Series', title=\"Coverage of Russian Keywords\")\n",
        "\n",
        "    line_fig_ukr.update_layout(\n",
        "                   xaxis_title='Date',\n",
        "                   yaxis_title='Percentage of Airtime')\n",
        "    \n",
        "    line_fig_rus.update_layout(\n",
        "                   xaxis_title='Date',\n",
        "                   yaxis_title='Percentage of Airtime')\n",
        "\n",
        "    line_fig_ukr.update_xaxes(tickformat=\"%b %d<br>%Y\")\n",
        "    line_fig_rus.update_xaxes(tickformat=\"%b %d<br>%Y\")\n",
        "    \n",
        "    return line_fig_ukr, line_fig_rus"
      ],
      "metadata": {
        "id": "MFmK9eXCMxaS"
      },
      "execution_count": 84,
      "outputs": []
    },
    {
      "cell_type": "code",
      "source": [
        "# Show dashboard inside the notebook\n",
        "app.run_server(debug=True, mode=\"inline\")"
      ],
      "metadata": {
        "colab": {
          "base_uri": "https://localhost:8080/",
          "height": 671
        },
        "id": "1rRCxeW7Uu2O",
        "outputId": "53b11784-d05b-427a-afd6-15222b061e4a"
      },
      "execution_count": 85,
      "outputs": [
        {
          "output_type": "display_data",
          "data": {
            "text/plain": [
              "<IPython.core.display.Javascript object>"
            ],
            "application/javascript": [
              "(async (port, path, width, height, cache, element) => {\n",
              "    if (!google.colab.kernel.accessAllowed && !cache) {\n",
              "      return;\n",
              "    }\n",
              "    element.appendChild(document.createTextNode(''));\n",
              "    const url = await google.colab.kernel.proxyPort(port, {cache});\n",
              "    const iframe = document.createElement('iframe');\n",
              "    iframe.src = new URL(path, url).toString();\n",
              "    iframe.height = height;\n",
              "    iframe.width = width;\n",
              "    iframe.style.border = 0;\n",
              "    element.appendChild(iframe);\n",
              "  })(8050, \"/\", \"100%\", 650, false, window.element)"
            ]
          },
          "metadata": {}
        }
      ]
    },
    {
      "cell_type": "code",
      "source": [
        "# Show dashboard in browser (in a separate window)\n",
        "app.run_server(debug=True)"
      ],
      "metadata": {
        "id": "ZUqHtfjdZAHq"
      },
      "execution_count": null,
      "outputs": []
    },
    {
      "cell_type": "code",
      "source": [
        ""
      ],
      "metadata": {
        "id": "Xt9lRbRVY_uZ"
      },
      "execution_count": null,
      "outputs": []
    },
    {
      "cell_type": "markdown",
      "source": [
        "# Recycle bin:"
      ],
      "metadata": {
        "id": "t6rviedqZHoN"
      }
    },
    {
      "cell_type": "code",
      "source": [
        "app = JupyterDash(__name__, external_stylesheets=[dbc.themes.LITERA])\n",
        "server = app.server"
      ],
      "metadata": {
        "id": "uJVIpaGYMw86"
      },
      "execution_count": 57,
      "outputs": []
    },
    {
      "cell_type": "code",
      "source": [
        "from datetime import date"
      ],
      "metadata": {
        "id": "GbbXBgBGI1zn"
      },
      "execution_count": 65,
      "outputs": []
    },
    {
      "cell_type": "code",
      "source": [
        "mask_ukr = (df_ukr['date_col'].dt.date >= date(2022, 3, 1)) & (df_ukr['date_col'].dt.date <= date(2022, 3, 31))\n",
        "mask_rus = (df_rus['date_col'].dt.date >= date(2022, 3, 1)) & (df_rus['date_col'].dt.date <= date(2022, 3, 31))\n",
        "df_ukr_filtered = df_ukr.loc[mask_ukr]\n",
        "df_rus_filtered = df_rus.loc[mask_rus]\n",
        "\n",
        "print(df_ukr_filtered['date_col'])"
      ],
      "metadata": {
        "colab": {
          "base_uri": "https://localhost:8080/"
        },
        "id": "xfddD13LIWRu",
        "outputId": "19ead2af-44cc-4252-94ad-ec40160720f4"
      },
      "execution_count": 70,
      "outputs": [
        {
          "output_type": "stream",
          "name": "stdout",
          "text": [
            "247    2022-03-01\n",
            "248    2022-03-02\n",
            "249    2022-03-03\n",
            "250    2022-03-04\n",
            "251    2022-03-05\n",
            "          ...    \n",
            "1011   2022-03-27\n",
            "1012   2022-03-28\n",
            "1013   2022-03-29\n",
            "1014   2022-03-30\n",
            "1015   2022-03-31\n",
            "Name: date_col, Length: 93, dtype: datetime64[ns]\n"
          ]
        }
      ]
    },
    {
      "cell_type": "code",
      "source": [
        "fig = px.line(df_ukr_filtered, x=\"date_col\", y=\"Value\", \n",
        "                     color='Series', title=\"UKR Results\")"
      ],
      "metadata": {
        "id": "BAPN3IYKJFes"
      },
      "execution_count": 72,
      "outputs": []
    },
    {
      "cell_type": "code",
      "source": [
        "fig.update_xaxes(\n",
        "    #dtick=\"M1\",\n",
        "    tickformat=\"%b %d<br>%Y\")\n",
        "fig.show()"
      ],
      "metadata": {
        "colab": {
          "base_uri": "https://localhost:8080/",
          "height": 542
        },
        "id": "U4FU54QAJFRf",
        "outputId": "9fe9522a-1659-455f-dc42-3edbf9b8522c"
      },
      "execution_count": 75,
      "outputs": [
        {
          "output_type": "display_data",
          "data": {
            "text/html": [
              "<html>\n",
              "<head><meta charset=\"utf-8\" /></head>\n",
              "<body>\n",
              "    <div>            <script src=\"https://cdnjs.cloudflare.com/ajax/libs/mathjax/2.7.5/MathJax.js?config=TeX-AMS-MML_SVG\"></script><script type=\"text/javascript\">if (window.MathJax) {MathJax.Hub.Config({SVG: {font: \"STIX-Web\"}});}</script>                <script type=\"text/javascript\">window.PlotlyConfig = {MathJaxConfig: 'local'};</script>\n",
              "        <script src=\"https://cdn.plot.ly/plotly-2.8.3.min.js\"></script>                <div id=\"a49f9c58-45a5-450a-9d3f-8587690716c9\" class=\"plotly-graph-div\" style=\"height:525px; width:100%;\"></div>            <script type=\"text/javascript\">                                    window.PLOTLYENV=window.PLOTLYENV || {};                                    if (document.getElementById(\"a49f9c58-45a5-450a-9d3f-8587690716c9\")) {                    Plotly.newPlot(                        \"a49f9c58-45a5-450a-9d3f-8587690716c9\",                        [{\"hovertemplate\":\"Series=CNN<br>date_col=%{x}<br>Value=%{y}<extra></extra>\",\"legendgroup\":\"CNN\",\"line\":{\"color\":\"#636efa\",\"dash\":\"solid\"},\"marker\":{\"symbol\":\"circle\"},\"mode\":\"lines\",\"name\":\"CNN\",\"orientation\":\"v\",\"showlegend\":true,\"x\":[\"2022-03-01T00:00:00\",\"2022-03-02T00:00:00\",\"2022-03-03T00:00:00\",\"2022-03-04T00:00:00\",\"2022-03-05T00:00:00\",\"2022-03-06T00:00:00\",\"2022-03-07T00:00:00\",\"2022-03-08T00:00:00\",\"2022-03-09T00:00:00\",\"2022-03-10T00:00:00\",\"2022-03-11T00:00:00\",\"2022-03-12T00:00:00\",\"2022-03-13T00:00:00\",\"2022-03-14T00:00:00\",\"2022-03-15T00:00:00\",\"2022-03-16T00:00:00\",\"2022-03-17T00:00:00\",\"2022-03-18T00:00:00\",\"2022-03-19T00:00:00\",\"2022-03-20T00:00:00\",\"2022-03-21T00:00:00\",\"2022-03-22T00:00:00\",\"2022-03-23T00:00:00\",\"2022-03-24T00:00:00\",\"2022-03-25T00:00:00\",\"2022-03-26T00:00:00\",\"2022-03-27T00:00:00\",\"2022-03-28T00:00:00\",\"2022-03-29T00:00:00\",\"2022-03-30T00:00:00\",\"2022-03-31T00:00:00\"],\"xaxis\":\"x\",\"y\":[27.8885,27.244,26.4617,25.6478,25.4867,25.7362,25.797,25.4438,24.9821,24.854,24.5169,24.5389,25.1246,26.2094,25.7134,26.2736,25.685,24.6025,24.2337,24.6647,23.003,21.1579,20.9065,20.4986,19.8717,20.4654,22.0826,22.7592,22.7424,22.357,21.3846],\"yaxis\":\"y\",\"type\":\"scatter\"},{\"hovertemplate\":\"Series=FOXNEWS<br>date_col=%{x}<br>Value=%{y}<extra></extra>\",\"legendgroup\":\"FOXNEWS\",\"line\":{\"color\":\"#EF553B\",\"dash\":\"solid\"},\"marker\":{\"symbol\":\"circle\"},\"mode\":\"lines\",\"name\":\"FOXNEWS\",\"orientation\":\"v\",\"showlegend\":true,\"x\":[\"2022-03-01T00:00:00\",\"2022-03-02T00:00:00\",\"2022-03-03T00:00:00\",\"2022-03-04T00:00:00\",\"2022-03-05T00:00:00\",\"2022-03-06T00:00:00\",\"2022-03-07T00:00:00\",\"2022-03-08T00:00:00\",\"2022-03-09T00:00:00\",\"2022-03-10T00:00:00\",\"2022-03-11T00:00:00\",\"2022-03-12T00:00:00\",\"2022-03-13T00:00:00\",\"2022-03-14T00:00:00\",\"2022-03-15T00:00:00\",\"2022-03-16T00:00:00\",\"2022-03-17T00:00:00\",\"2022-03-18T00:00:00\",\"2022-03-19T00:00:00\",\"2022-03-20T00:00:00\",\"2022-03-21T00:00:00\",\"2022-03-22T00:00:00\",\"2022-03-23T00:00:00\",\"2022-03-24T00:00:00\",\"2022-03-25T00:00:00\",\"2022-03-26T00:00:00\",\"2022-03-27T00:00:00\",\"2022-03-28T00:00:00\",\"2022-03-29T00:00:00\",\"2022-03-30T00:00:00\",\"2022-03-31T00:00:00\"],\"xaxis\":\"x\",\"y\":[27.0105,25.5493,24.0351,24.0748,24.1695,25.0227,25.2517,25.0854,24.2334,23.8849,22.3484,22.1877,21.9659,21.2784,21.0603,21.5647,21.0642,19.876,19.6985,18.974,17.3555,15.5736,14.6608,14.6018,13.4723,14.1346,15.3222,16.5556,15.4243,15.2278,13.374],\"yaxis\":\"y\",\"type\":\"scatter\"},{\"hovertemplate\":\"Series=MSNBC<br>date_col=%{x}<br>Value=%{y}<extra></extra>\",\"legendgroup\":\"MSNBC\",\"line\":{\"color\":\"#00cc96\",\"dash\":\"solid\"},\"marker\":{\"symbol\":\"circle\"},\"mode\":\"lines\",\"name\":\"MSNBC\",\"orientation\":\"v\",\"showlegend\":true,\"x\":[\"2022-03-01T00:00:00\",\"2022-03-02T00:00:00\",\"2022-03-03T00:00:00\",\"2022-03-04T00:00:00\",\"2022-03-05T00:00:00\",\"2022-03-06T00:00:00\",\"2022-03-07T00:00:00\",\"2022-03-08T00:00:00\",\"2022-03-09T00:00:00\",\"2022-03-10T00:00:00\",\"2022-03-11T00:00:00\",\"2022-03-12T00:00:00\",\"2022-03-13T00:00:00\",\"2022-03-14T00:00:00\",\"2022-03-15T00:00:00\",\"2022-03-16T00:00:00\",\"2022-03-17T00:00:00\",\"2022-03-18T00:00:00\",\"2022-03-19T00:00:00\",\"2022-03-20T00:00:00\",\"2022-03-21T00:00:00\",\"2022-03-22T00:00:00\",\"2022-03-23T00:00:00\",\"2022-03-24T00:00:00\",\"2022-03-25T00:00:00\",\"2022-03-26T00:00:00\",\"2022-03-27T00:00:00\",\"2022-03-28T00:00:00\",\"2022-03-29T00:00:00\",\"2022-03-30T00:00:00\",\"2022-03-31T00:00:00\"],\"xaxis\":\"x\",\"y\":[24.0825,23.4186,21.7933,21.7579,22.46,23.1899,23.6386,24.5894,24.5812,24.8367,24.4086,24.7348,25.0566,24.8608,23.8534,24.3289,24.4511,23.5245,23.2699,23.4358,21.8326,19.1974,17.5434,16.8368,15.7013,15.8468,17.2318,17.8699,17.3289,16.7379,15.6537],\"yaxis\":\"y\",\"type\":\"scatter\"}],                        {\"template\":{\"data\":{\"bar\":[{\"error_x\":{\"color\":\"#2a3f5f\"},\"error_y\":{\"color\":\"#2a3f5f\"},\"marker\":{\"line\":{\"color\":\"#E5ECF6\",\"width\":0.5},\"pattern\":{\"fillmode\":\"overlay\",\"size\":10,\"solidity\":0.2}},\"type\":\"bar\"}],\"barpolar\":[{\"marker\":{\"line\":{\"color\":\"#E5ECF6\",\"width\":0.5},\"pattern\":{\"fillmode\":\"overlay\",\"size\":10,\"solidity\":0.2}},\"type\":\"barpolar\"}],\"carpet\":[{\"aaxis\":{\"endlinecolor\":\"#2a3f5f\",\"gridcolor\":\"white\",\"linecolor\":\"white\",\"minorgridcolor\":\"white\",\"startlinecolor\":\"#2a3f5f\"},\"baxis\":{\"endlinecolor\":\"#2a3f5f\",\"gridcolor\":\"white\",\"linecolor\":\"white\",\"minorgridcolor\":\"white\",\"startlinecolor\":\"#2a3f5f\"},\"type\":\"carpet\"}],\"choropleth\":[{\"colorbar\":{\"outlinewidth\":0,\"ticks\":\"\"},\"type\":\"choropleth\"}],\"contour\":[{\"colorbar\":{\"outlinewidth\":0,\"ticks\":\"\"},\"colorscale\":[[0.0,\"#0d0887\"],[0.1111111111111111,\"#46039f\"],[0.2222222222222222,\"#7201a8\"],[0.3333333333333333,\"#9c179e\"],[0.4444444444444444,\"#bd3786\"],[0.5555555555555556,\"#d8576b\"],[0.6666666666666666,\"#ed7953\"],[0.7777777777777778,\"#fb9f3a\"],[0.8888888888888888,\"#fdca26\"],[1.0,\"#f0f921\"]],\"type\":\"contour\"}],\"contourcarpet\":[{\"colorbar\":{\"outlinewidth\":0,\"ticks\":\"\"},\"type\":\"contourcarpet\"}],\"heatmap\":[{\"colorbar\":{\"outlinewidth\":0,\"ticks\":\"\"},\"colorscale\":[[0.0,\"#0d0887\"],[0.1111111111111111,\"#46039f\"],[0.2222222222222222,\"#7201a8\"],[0.3333333333333333,\"#9c179e\"],[0.4444444444444444,\"#bd3786\"],[0.5555555555555556,\"#d8576b\"],[0.6666666666666666,\"#ed7953\"],[0.7777777777777778,\"#fb9f3a\"],[0.8888888888888888,\"#fdca26\"],[1.0,\"#f0f921\"]],\"type\":\"heatmap\"}],\"heatmapgl\":[{\"colorbar\":{\"outlinewidth\":0,\"ticks\":\"\"},\"colorscale\":[[0.0,\"#0d0887\"],[0.1111111111111111,\"#46039f\"],[0.2222222222222222,\"#7201a8\"],[0.3333333333333333,\"#9c179e\"],[0.4444444444444444,\"#bd3786\"],[0.5555555555555556,\"#d8576b\"],[0.6666666666666666,\"#ed7953\"],[0.7777777777777778,\"#fb9f3a\"],[0.8888888888888888,\"#fdca26\"],[1.0,\"#f0f921\"]],\"type\":\"heatmapgl\"}],\"histogram\":[{\"marker\":{\"pattern\":{\"fillmode\":\"overlay\",\"size\":10,\"solidity\":0.2}},\"type\":\"histogram\"}],\"histogram2d\":[{\"colorbar\":{\"outlinewidth\":0,\"ticks\":\"\"},\"colorscale\":[[0.0,\"#0d0887\"],[0.1111111111111111,\"#46039f\"],[0.2222222222222222,\"#7201a8\"],[0.3333333333333333,\"#9c179e\"],[0.4444444444444444,\"#bd3786\"],[0.5555555555555556,\"#d8576b\"],[0.6666666666666666,\"#ed7953\"],[0.7777777777777778,\"#fb9f3a\"],[0.8888888888888888,\"#fdca26\"],[1.0,\"#f0f921\"]],\"type\":\"histogram2d\"}],\"histogram2dcontour\":[{\"colorbar\":{\"outlinewidth\":0,\"ticks\":\"\"},\"colorscale\":[[0.0,\"#0d0887\"],[0.1111111111111111,\"#46039f\"],[0.2222222222222222,\"#7201a8\"],[0.3333333333333333,\"#9c179e\"],[0.4444444444444444,\"#bd3786\"],[0.5555555555555556,\"#d8576b\"],[0.6666666666666666,\"#ed7953\"],[0.7777777777777778,\"#fb9f3a\"],[0.8888888888888888,\"#fdca26\"],[1.0,\"#f0f921\"]],\"type\":\"histogram2dcontour\"}],\"mesh3d\":[{\"colorbar\":{\"outlinewidth\":0,\"ticks\":\"\"},\"type\":\"mesh3d\"}],\"parcoords\":[{\"line\":{\"colorbar\":{\"outlinewidth\":0,\"ticks\":\"\"}},\"type\":\"parcoords\"}],\"pie\":[{\"automargin\":true,\"type\":\"pie\"}],\"scatter\":[{\"marker\":{\"colorbar\":{\"outlinewidth\":0,\"ticks\":\"\"}},\"type\":\"scatter\"}],\"scatter3d\":[{\"line\":{\"colorbar\":{\"outlinewidth\":0,\"ticks\":\"\"}},\"marker\":{\"colorbar\":{\"outlinewidth\":0,\"ticks\":\"\"}},\"type\":\"scatter3d\"}],\"scattercarpet\":[{\"marker\":{\"colorbar\":{\"outlinewidth\":0,\"ticks\":\"\"}},\"type\":\"scattercarpet\"}],\"scattergeo\":[{\"marker\":{\"colorbar\":{\"outlinewidth\":0,\"ticks\":\"\"}},\"type\":\"scattergeo\"}],\"scattergl\":[{\"marker\":{\"colorbar\":{\"outlinewidth\":0,\"ticks\":\"\"}},\"type\":\"scattergl\"}],\"scattermapbox\":[{\"marker\":{\"colorbar\":{\"outlinewidth\":0,\"ticks\":\"\"}},\"type\":\"scattermapbox\"}],\"scatterpolar\":[{\"marker\":{\"colorbar\":{\"outlinewidth\":0,\"ticks\":\"\"}},\"type\":\"scatterpolar\"}],\"scatterpolargl\":[{\"marker\":{\"colorbar\":{\"outlinewidth\":0,\"ticks\":\"\"}},\"type\":\"scatterpolargl\"}],\"scatterternary\":[{\"marker\":{\"colorbar\":{\"outlinewidth\":0,\"ticks\":\"\"}},\"type\":\"scatterternary\"}],\"surface\":[{\"colorbar\":{\"outlinewidth\":0,\"ticks\":\"\"},\"colorscale\":[[0.0,\"#0d0887\"],[0.1111111111111111,\"#46039f\"],[0.2222222222222222,\"#7201a8\"],[0.3333333333333333,\"#9c179e\"],[0.4444444444444444,\"#bd3786\"],[0.5555555555555556,\"#d8576b\"],[0.6666666666666666,\"#ed7953\"],[0.7777777777777778,\"#fb9f3a\"],[0.8888888888888888,\"#fdca26\"],[1.0,\"#f0f921\"]],\"type\":\"surface\"}],\"table\":[{\"cells\":{\"fill\":{\"color\":\"#EBF0F8\"},\"line\":{\"color\":\"white\"}},\"header\":{\"fill\":{\"color\":\"#C8D4E3\"},\"line\":{\"color\":\"white\"}},\"type\":\"table\"}]},\"layout\":{\"annotationdefaults\":{\"arrowcolor\":\"#2a3f5f\",\"arrowhead\":0,\"arrowwidth\":1},\"autotypenumbers\":\"strict\",\"coloraxis\":{\"colorbar\":{\"outlinewidth\":0,\"ticks\":\"\"}},\"colorscale\":{\"diverging\":[[0,\"#8e0152\"],[0.1,\"#c51b7d\"],[0.2,\"#de77ae\"],[0.3,\"#f1b6da\"],[0.4,\"#fde0ef\"],[0.5,\"#f7f7f7\"],[0.6,\"#e6f5d0\"],[0.7,\"#b8e186\"],[0.8,\"#7fbc41\"],[0.9,\"#4d9221\"],[1,\"#276419\"]],\"sequential\":[[0.0,\"#0d0887\"],[0.1111111111111111,\"#46039f\"],[0.2222222222222222,\"#7201a8\"],[0.3333333333333333,\"#9c179e\"],[0.4444444444444444,\"#bd3786\"],[0.5555555555555556,\"#d8576b\"],[0.6666666666666666,\"#ed7953\"],[0.7777777777777778,\"#fb9f3a\"],[0.8888888888888888,\"#fdca26\"],[1.0,\"#f0f921\"]],\"sequentialminus\":[[0.0,\"#0d0887\"],[0.1111111111111111,\"#46039f\"],[0.2222222222222222,\"#7201a8\"],[0.3333333333333333,\"#9c179e\"],[0.4444444444444444,\"#bd3786\"],[0.5555555555555556,\"#d8576b\"],[0.6666666666666666,\"#ed7953\"],[0.7777777777777778,\"#fb9f3a\"],[0.8888888888888888,\"#fdca26\"],[1.0,\"#f0f921\"]]},\"colorway\":[\"#636efa\",\"#EF553B\",\"#00cc96\",\"#ab63fa\",\"#FFA15A\",\"#19d3f3\",\"#FF6692\",\"#B6E880\",\"#FF97FF\",\"#FECB52\"],\"font\":{\"color\":\"#2a3f5f\"},\"geo\":{\"bgcolor\":\"white\",\"lakecolor\":\"white\",\"landcolor\":\"#E5ECF6\",\"showlakes\":true,\"showland\":true,\"subunitcolor\":\"white\"},\"hoverlabel\":{\"align\":\"left\"},\"hovermode\":\"closest\",\"mapbox\":{\"style\":\"light\"},\"paper_bgcolor\":\"white\",\"plot_bgcolor\":\"#E5ECF6\",\"polar\":{\"angularaxis\":{\"gridcolor\":\"white\",\"linecolor\":\"white\",\"ticks\":\"\"},\"bgcolor\":\"#E5ECF6\",\"radialaxis\":{\"gridcolor\":\"white\",\"linecolor\":\"white\",\"ticks\":\"\"}},\"scene\":{\"xaxis\":{\"backgroundcolor\":\"#E5ECF6\",\"gridcolor\":\"white\",\"gridwidth\":2,\"linecolor\":\"white\",\"showbackground\":true,\"ticks\":\"\",\"zerolinecolor\":\"white\"},\"yaxis\":{\"backgroundcolor\":\"#E5ECF6\",\"gridcolor\":\"white\",\"gridwidth\":2,\"linecolor\":\"white\",\"showbackground\":true,\"ticks\":\"\",\"zerolinecolor\":\"white\"},\"zaxis\":{\"backgroundcolor\":\"#E5ECF6\",\"gridcolor\":\"white\",\"gridwidth\":2,\"linecolor\":\"white\",\"showbackground\":true,\"ticks\":\"\",\"zerolinecolor\":\"white\"}},\"shapedefaults\":{\"line\":{\"color\":\"#2a3f5f\"}},\"ternary\":{\"aaxis\":{\"gridcolor\":\"white\",\"linecolor\":\"white\",\"ticks\":\"\"},\"baxis\":{\"gridcolor\":\"white\",\"linecolor\":\"white\",\"ticks\":\"\"},\"bgcolor\":\"#E5ECF6\",\"caxis\":{\"gridcolor\":\"white\",\"linecolor\":\"white\",\"ticks\":\"\"}},\"title\":{\"x\":0.05},\"xaxis\":{\"automargin\":true,\"gridcolor\":\"white\",\"linecolor\":\"white\",\"ticks\":\"\",\"title\":{\"standoff\":15},\"zerolinecolor\":\"white\",\"zerolinewidth\":2},\"yaxis\":{\"automargin\":true,\"gridcolor\":\"white\",\"linecolor\":\"white\",\"ticks\":\"\",\"title\":{\"standoff\":15},\"zerolinecolor\":\"white\",\"zerolinewidth\":2}}},\"xaxis\":{\"anchor\":\"y\",\"domain\":[0.0,1.0],\"title\":{\"text\":\"date_col\"},\"tickformat\":\"%b %d<br>%Y\"},\"yaxis\":{\"anchor\":\"x\",\"domain\":[0.0,1.0],\"title\":{\"text\":\"Value\"}},\"legend\":{\"title\":{\"text\":\"Series\"},\"tracegroupgap\":0},\"title\":{\"text\":\"UKR Results\"}},                        {\"responsive\": true}                    ).then(function(){\n",
              "                            \n",
              "var gd = document.getElementById('a49f9c58-45a5-450a-9d3f-8587690716c9');\n",
              "var x = new MutationObserver(function (mutations, observer) {{\n",
              "        var display = window.getComputedStyle(gd).display;\n",
              "        if (!display || display === 'none') {{\n",
              "            console.log([gd, 'removed!']);\n",
              "            Plotly.purge(gd);\n",
              "            observer.disconnect();\n",
              "        }}\n",
              "}});\n",
              "\n",
              "// Listen for the removal of the full notebook cells\n",
              "var notebookContainer = gd.closest('#notebook-container');\n",
              "if (notebookContainer) {{\n",
              "    x.observe(notebookContainer, {childList: true});\n",
              "}}\n",
              "\n",
              "// Listen for the clearing of the current output cell\n",
              "var outputEl = gd.closest('.output');\n",
              "if (outputEl) {{\n",
              "    x.observe(outputEl, {childList: true});\n",
              "}}\n",
              "\n",
              "                        })                };                            </script>        </div>\n",
              "</body>\n",
              "</html>"
            ]
          },
          "metadata": {}
        }
      ]
    },
    {
      "cell_type": "code",
      "source": [
        ""
      ],
      "metadata": {
        "id": "s6S61HBcJE4G"
      },
      "execution_count": null,
      "outputs": []
    },
    {
      "cell_type": "code",
      "source": [
        "app = JupyterDash(__name__, external_stylesheets=[dbc.themes.LITERA])\n",
        "server = app.server\n",
        "\n",
        "app.layout = dbc.Container(\n",
        "    [   dbc.Row([\n",
        "        dbc.Col([html.H1('News Coverage TV Keyword')],\n",
        "        #html.Hr()],\n",
        "        className=\"text-center mt-3 mb-1\")\n",
        "    ]\n",
        "    ),\n",
        "        dbc.Row([\n",
        "\n",
        "        dbc.Col([\n",
        "            dbc.Label(\"Drag to modify date range:\", className=\"fw-bold\"),\n",
        "            dcc.DatePickerRange(\n",
        "                id='date-range',\n",
        "                min_date_allowed=df_ukr['date_col'].min().date(),\n",
        "                max_date_allowed=df_ukr['date_col'].max().date(),\n",
        "                initial_visible_month=df_ukr['date_col'].min().date(),\n",
        "                start_date=df_ukr['date_col'].min().date(),\n",
        "                end_date=df_ukr['date_col'].max().date()\n",
        "              )\n",
        "             ],\n",
        "        #width={'size': 8, \"offset\": 1}\n",
        "        )\n",
        "    ]),\n",
        "    #  dbc.Row([\n",
        "    #           dbc.Col(dcc.Graph(id='graph-ukr'), \n",
        "    #                   width={'size': 6, 'offset': 0}),\n",
        "    #           dbc.Col(dcc.Graph(id='graph-rus'), \n",
        "    #                   width={'size': 6, 'offset': 0})\n",
        "    #  ]),\n",
        "    #  dbc.Row([\n",
        "    #           dbc.Col(dcc.Graph(id='line-graph-ukr'), \n",
        "    #                   width={'size': 6, 'offset': 0}),\n",
        "    #           dbc.Col(dcc.Graph(id='line-graph-rus'), \n",
        "    #                   width={'size': 6, 'offset': 0})\n",
        "    #  ])\n",
        "     dbc.Row([\n",
        "              dbc.Col(dcc.Graph(id='line-graph-ukr'), \n",
        "                      )\n",
        "     ]),\n",
        "\n",
        "    dbc.Row([\n",
        "              dbc.Col(dcc.Graph(id='line-graph-rus'), \n",
        "                      )\n",
        "     ])\n",
        "\n",
        "    ])\n",
        "\n",
        "@app.callback(\n",
        "    # Output('graph-ukr', 'figure'),\n",
        "    # Output('graph-rus', 'figure'),\n",
        "    Output('line-graph-ukr', 'figure'),\n",
        "    Output('line-graph-rus', 'figure'),\n",
        "    Input('date-range', 'start_date'),\n",
        "    Input('date-range', 'end_date')   \n",
        ")\n",
        "def update_output(start_date, end_date):\n",
        "    mask_ukr = (df_ukr['date_col'] >= start_date) & (df_ukr['date_col'] <= end_date)\n",
        "    mask_rus = (df_rus['date_col'] >= start_date) & (df_rus['date_col'] <= end_date)\n",
        "\n",
        "    df_ukr_filtered = df_ukr.loc[mask_ukr]\n",
        "    df_rus_filtered = df_rus.loc[mask_rus]\n",
        "\n",
        "    print(df_ukr_filtered['Series'])\n",
        "\n",
        "    #fig_ukr = px.bar(df_ukr_filtered, x=\"Series\", y=\"Value\", title=\"UKR Results\")\n",
        "    #fig_rus = px.bar(df_rus_filtered, x=\"Series\", y=\"Value\", title=\"RUS Results\")\n",
        "\n",
        "    # fig_ukr = px.bar(df_ukr_filtered.groupby(['Series']).mean().reset_index(), \n",
        "    #                  x=\"Series\", y=\"Value\", title=\"UKR Results\")\n",
        "    # fig_rus = px.bar(df_rus_filtered.groupby(['Series']).mean().reset_index(), \n",
        "    #                  x=\"Series\", y=\"Value\", title=\"RUS Results\")\n",
        "    \n",
        "    line_fig_ukr = px.line(df_ukr_filtered, x=\"date_col\", y=\"Value\", \n",
        "                     color='Series', title=\"Coverage of Ukranian Keywords\")\n",
        "    line_fig_rus = px.line(df_rus_filtered, x='date_col', y='Value', \n",
        "                     color='Series', title=\"Coverage of Russian Keywords\")\n",
        "\n",
        "    # line_fig_ukr.update_layout(\n",
        "    #     xaxis=dict(\n",
        "    #         # showline=True,\n",
        "    #         # showgrid=False,\n",
        "    #         # showticklabels=True,\n",
        "    #         # linecolor='rgb(204, 204, 204)',\n",
        "    #         # linewidth=2,\n",
        "    #         # ticks='outside',\n",
        "    #         tickfont=dict(\n",
        "    #             #family='Arial',\n",
        "    #             size=8,\n",
        "    #             #color='rgb(82, 82, 82)',\n",
        "    #         ),\n",
        "    #     )\n",
        "    # )\n",
        "\n",
        "    line_fig_ukr.update_layout(\n",
        "                   xaxis_title='Date',\n",
        "                   yaxis_title='Percentage of Airtime')\n",
        "    \n",
        "    line_fig_rus.update_layout(\n",
        "                   xaxis_title='Date',\n",
        "                   yaxis_title='Percentage of Airtime')\n",
        "\n",
        "    line_fig_ukr.update_xaxes(tickformat=\"%b %d<br>%Y\")\n",
        "    line_fig_rus.update_xaxes(tickformat=\"%b %d<br>%Y\")\n",
        "    #return fig_ukr, fig_rus, line_fig_ukr, line_fig_rus\n",
        "    return line_fig_ukr, line_fig_rus"
      ],
      "metadata": {
        "id": "muPy7IolMxNC"
      },
      "execution_count": 78,
      "outputs": []
    },
    {
      "cell_type": "code",
      "source": [
        "app.run_server(debug=True, mode=\"inline\")"
      ],
      "metadata": {
        "id": "KvIDWNwf8rjy"
      },
      "execution_count": null,
      "outputs": []
    },
    {
      "cell_type": "code",
      "source": [
        ""
      ],
      "metadata": {
        "id": "cbulNHu-UxxG"
      },
      "execution_count": null,
      "outputs": []
    }
  ]
}