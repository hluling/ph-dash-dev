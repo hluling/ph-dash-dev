{
  "nbformat": 4,
  "nbformat_minor": 0,
  "metadata": {
    "colab": {
      "provenance": [],
      "collapsed_sections": [
        "lL26HRXf7lqB",
        "v6NGyaaBewnE",
        "u3hHgxSTe2Jb",
        "Ducz-c1UfGVc",
        "bp6-b9QUYQHc",
        "G6W-spDgX3AT",
        "o5ku10F5S_eL",
        "73ChAowBOTj2",
        "bBJK3031M-vl",
        "iLmiQG71oN2k",
        "DXUH8wUD16F3",
        "rjbccpChV6ym",
        "RDsHazxgVSsH",
        "0fgRjKLzkyop",
        "W9ObGaJdsWZf",
        "GxDO2jMduLiP",
        "t6rviedqZHoN"
      ],
      "toc_visible": true,
      "include_colab_link": true
    },
    "kernelspec": {
      "name": "python3",
      "display_name": "Python 3"
    },
    "language_info": {
      "name": "python"
    }
  },
  "cells": [
    {
      "cell_type": "markdown",
      "metadata": {
        "id": "view-in-github",
        "colab_type": "text"
      },
      "source": [
        "<a href=\"https://colab.research.google.com/github/hluling/ph-dash-dev/blob/master/ph_dash_dev.ipynb\" target=\"_parent\"><img src=\"https://colab.research.google.com/assets/colab-badge.svg\" alt=\"Open In Colab\"/></a>"
      ]
    },
    {
      "cell_type": "markdown",
      "source": [
        "# Notebook setup and Github setup\n",
        "2022/04/22\n",
        "\n"
      ],
      "metadata": {
        "id": "lL26HRXf7lqB"
      }
    },
    {
      "cell_type": "code",
      "execution_count": null,
      "metadata": {
        "id": "NlUIm0MnmPk0"
      },
      "outputs": [],
      "source": [
        "# from google.colab import drive\n",
        "# drive.mount('/content/drive')"
      ]
    },
    {
      "cell_type": "code",
      "source": [
        "# %cd /content/drive/MyDrive/Github\n",
        "# !git init ph-dash-dev\n",
        "# %cd ph-dash-dev\n",
        "# !git remote add origin https://github.com/hluling/ph-dash-dev\n",
        "#!git add .\n",
        "# !git commit -m 'repo setup'\n",
        "# !git config --global user.email \"hluling@outlook.com\"\n",
        "# !git push -u origin master"
      ],
      "metadata": {
        "id": "Dh29sh0P5PWs"
      },
      "execution_count": null,
      "outputs": []
    },
    {
      "cell_type": "markdown",
      "source": [
        "# Install Libraries"
      ],
      "metadata": {
        "id": "v6NGyaaBewnE"
      }
    },
    {
      "cell_type": "code",
      "source": [
        "import datetime\n",
        "import requests\n",
        "import pandas as pd\n",
        "from io import StringIO\n",
        "from datetime import date"
      ],
      "metadata": {
        "id": "OEtK3iSM8zin"
      },
      "execution_count": 1,
      "outputs": []
    },
    {
      "cell_type": "markdown",
      "source": [
        "## Query API"
      ],
      "metadata": {
        "id": "u3hHgxSTe2Jb"
      }
    },
    {
      "cell_type": "code",
      "source": [
        "response = requests.get(\"https://api.gdeltproject.org/api/v2/tv/tv?query=%22puerto%20rico%22%20(station:CNN%20OR%20station:FOXNEWS)&mode=timelinevol&format=html&datanorm=perc&timelinesmooth=5&datacomb=sep&last24=yes&timezoom=no&STARTDATETIME=20170829120000&ENDDATETIME=20171007120000\")"
      ],
      "metadata": {
        "id": "dq5Ba9479SJC"
      },
      "execution_count": null,
      "outputs": []
    },
    {
      "cell_type": "code",
      "source": [
        "response_csv = requests.get(\"https://api.gdeltproject.org/api/v2/tv/tv?query=%22puerto%20rico%22%20(station:CNN%20OR%20station:FOXNEWS)&mode=timelinevol&format=html&datanorm=perc&timelinesmooth=5&format=csv&datacomb=sep&last24=yes&timezoom=no&STARTDATETIME=20210829120000&ENDDATETIME=20211007120000\")\n",
        "text=StringIO(response_csv.content.decode('utf-8'))"
      ],
      "metadata": {
        "id": "xXYI58mZMOay"
      },
      "execution_count": null,
      "outputs": []
    },
    {
      "cell_type": "code",
      "source": [
        "df=pd.read_csv(text)"
      ],
      "metadata": {
        "id": "-Oceyvd1NGgg"
      },
      "execution_count": null,
      "outputs": []
    },
    {
      "cell_type": "code",
      "source": [
        "df"
      ],
      "metadata": {
        "colab": {
          "base_uri": "https://localhost:8080/",
          "height": 424
        },
        "id": "eUCwELmBNKM4",
        "outputId": "5033fdcb-6637-4ce7-8d74-9e55b09194f7"
      },
      "execution_count": null,
      "outputs": [
        {
          "output_type": "execute_result",
          "data": {
            "text/plain": [
              "   Date (Daily +00:00: 08/29/2021 - 10/07/2021)   Series   Value\n",
              "0                                    2021-09-02      CNN  0.0170\n",
              "1                                    2021-09-03      CNN  0.0170\n",
              "2                                    2021-09-04      CNN  0.0170\n",
              "3                                    2021-09-05      CNN  0.0042\n",
              "4                                    2021-09-06      CNN  0.0042\n",
              "..                                          ...      ...     ...\n",
              "67                                   2021-10-03  FOXNEWS  0.0241\n",
              "68                                   2021-10-04  FOXNEWS  0.0241\n",
              "69                                   2021-10-05  FOXNEWS  0.0241\n",
              "70                                   2021-10-06  FOXNEWS  0.0098\n",
              "71                                   2021-10-07  FOXNEWS  0.0049\n",
              "\n",
              "[72 rows x 3 columns]"
            ],
            "text/html": [
              "\n",
              "  <div id=\"df-444d5e3a-d5be-4f4d-8300-18a323fd4a2c\">\n",
              "    <div class=\"colab-df-container\">\n",
              "      <div>\n",
              "<style scoped>\n",
              "    .dataframe tbody tr th:only-of-type {\n",
              "        vertical-align: middle;\n",
              "    }\n",
              "\n",
              "    .dataframe tbody tr th {\n",
              "        vertical-align: top;\n",
              "    }\n",
              "\n",
              "    .dataframe thead th {\n",
              "        text-align: right;\n",
              "    }\n",
              "</style>\n",
              "<table border=\"1\" class=\"dataframe\">\n",
              "  <thead>\n",
              "    <tr style=\"text-align: right;\">\n",
              "      <th></th>\n",
              "      <th>Date (Daily +00:00: 08/29/2021 - 10/07/2021)</th>\n",
              "      <th>Series</th>\n",
              "      <th>Value</th>\n",
              "    </tr>\n",
              "  </thead>\n",
              "  <tbody>\n",
              "    <tr>\n",
              "      <th>0</th>\n",
              "      <td>2021-09-02</td>\n",
              "      <td>CNN</td>\n",
              "      <td>0.0170</td>\n",
              "    </tr>\n",
              "    <tr>\n",
              "      <th>1</th>\n",
              "      <td>2021-09-03</td>\n",
              "      <td>CNN</td>\n",
              "      <td>0.0170</td>\n",
              "    </tr>\n",
              "    <tr>\n",
              "      <th>2</th>\n",
              "      <td>2021-09-04</td>\n",
              "      <td>CNN</td>\n",
              "      <td>0.0170</td>\n",
              "    </tr>\n",
              "    <tr>\n",
              "      <th>3</th>\n",
              "      <td>2021-09-05</td>\n",
              "      <td>CNN</td>\n",
              "      <td>0.0042</td>\n",
              "    </tr>\n",
              "    <tr>\n",
              "      <th>4</th>\n",
              "      <td>2021-09-06</td>\n",
              "      <td>CNN</td>\n",
              "      <td>0.0042</td>\n",
              "    </tr>\n",
              "    <tr>\n",
              "      <th>...</th>\n",
              "      <td>...</td>\n",
              "      <td>...</td>\n",
              "      <td>...</td>\n",
              "    </tr>\n",
              "    <tr>\n",
              "      <th>67</th>\n",
              "      <td>2021-10-03</td>\n",
              "      <td>FOXNEWS</td>\n",
              "      <td>0.0241</td>\n",
              "    </tr>\n",
              "    <tr>\n",
              "      <th>68</th>\n",
              "      <td>2021-10-04</td>\n",
              "      <td>FOXNEWS</td>\n",
              "      <td>0.0241</td>\n",
              "    </tr>\n",
              "    <tr>\n",
              "      <th>69</th>\n",
              "      <td>2021-10-05</td>\n",
              "      <td>FOXNEWS</td>\n",
              "      <td>0.0241</td>\n",
              "    </tr>\n",
              "    <tr>\n",
              "      <th>70</th>\n",
              "      <td>2021-10-06</td>\n",
              "      <td>FOXNEWS</td>\n",
              "      <td>0.0098</td>\n",
              "    </tr>\n",
              "    <tr>\n",
              "      <th>71</th>\n",
              "      <td>2021-10-07</td>\n",
              "      <td>FOXNEWS</td>\n",
              "      <td>0.0049</td>\n",
              "    </tr>\n",
              "  </tbody>\n",
              "</table>\n",
              "<p>72 rows × 3 columns</p>\n",
              "</div>\n",
              "      <button class=\"colab-df-convert\" onclick=\"convertToInteractive('df-444d5e3a-d5be-4f4d-8300-18a323fd4a2c')\"\n",
              "              title=\"Convert this dataframe to an interactive table.\"\n",
              "              style=\"display:none;\">\n",
              "        \n",
              "  <svg xmlns=\"http://www.w3.org/2000/svg\" height=\"24px\"viewBox=\"0 0 24 24\"\n",
              "       width=\"24px\">\n",
              "    <path d=\"M0 0h24v24H0V0z\" fill=\"none\"/>\n",
              "    <path d=\"M18.56 5.44l.94 2.06.94-2.06 2.06-.94-2.06-.94-.94-2.06-.94 2.06-2.06.94zm-11 1L8.5 8.5l.94-2.06 2.06-.94-2.06-.94L8.5 2.5l-.94 2.06-2.06.94zm10 10l.94 2.06.94-2.06 2.06-.94-2.06-.94-.94-2.06-.94 2.06-2.06.94z\"/><path d=\"M17.41 7.96l-1.37-1.37c-.4-.4-.92-.59-1.43-.59-.52 0-1.04.2-1.43.59L10.3 9.45l-7.72 7.72c-.78.78-.78 2.05 0 2.83L4 21.41c.39.39.9.59 1.41.59.51 0 1.02-.2 1.41-.59l7.78-7.78 2.81-2.81c.8-.78.8-2.07 0-2.86zM5.41 20L4 18.59l7.72-7.72 1.47 1.35L5.41 20z\"/>\n",
              "  </svg>\n",
              "      </button>\n",
              "      \n",
              "  <style>\n",
              "    .colab-df-container {\n",
              "      display:flex;\n",
              "      flex-wrap:wrap;\n",
              "      gap: 12px;\n",
              "    }\n",
              "\n",
              "    .colab-df-convert {\n",
              "      background-color: #E8F0FE;\n",
              "      border: none;\n",
              "      border-radius: 50%;\n",
              "      cursor: pointer;\n",
              "      display: none;\n",
              "      fill: #1967D2;\n",
              "      height: 32px;\n",
              "      padding: 0 0 0 0;\n",
              "      width: 32px;\n",
              "    }\n",
              "\n",
              "    .colab-df-convert:hover {\n",
              "      background-color: #E2EBFA;\n",
              "      box-shadow: 0px 1px 2px rgba(60, 64, 67, 0.3), 0px 1px 3px 1px rgba(60, 64, 67, 0.15);\n",
              "      fill: #174EA6;\n",
              "    }\n",
              "\n",
              "    [theme=dark] .colab-df-convert {\n",
              "      background-color: #3B4455;\n",
              "      fill: #D2E3FC;\n",
              "    }\n",
              "\n",
              "    [theme=dark] .colab-df-convert:hover {\n",
              "      background-color: #434B5C;\n",
              "      box-shadow: 0px 1px 3px 1px rgba(0, 0, 0, 0.15);\n",
              "      filter: drop-shadow(0px 1px 2px rgba(0, 0, 0, 0.3));\n",
              "      fill: #FFFFFF;\n",
              "    }\n",
              "  </style>\n",
              "\n",
              "      <script>\n",
              "        const buttonEl =\n",
              "          document.querySelector('#df-444d5e3a-d5be-4f4d-8300-18a323fd4a2c button.colab-df-convert');\n",
              "        buttonEl.style.display =\n",
              "          google.colab.kernel.accessAllowed ? 'block' : 'none';\n",
              "\n",
              "        async function convertToInteractive(key) {\n",
              "          const element = document.querySelector('#df-444d5e3a-d5be-4f4d-8300-18a323fd4a2c');\n",
              "          const dataTable =\n",
              "            await google.colab.kernel.invokeFunction('convertToInteractive',\n",
              "                                                     [key], {});\n",
              "          if (!dataTable) return;\n",
              "\n",
              "          const docLinkHtml = 'Like what you see? Visit the ' +\n",
              "            '<a target=\"_blank\" href=https://colab.research.google.com/notebooks/data_table.ipynb>data table notebook</a>'\n",
              "            + ' to learn more about interactive tables.';\n",
              "          element.innerHTML = '';\n",
              "          dataTable['output_type'] = 'display_data';\n",
              "          await google.colab.output.renderOutput(dataTable, element);\n",
              "          const docLink = document.createElement('div');\n",
              "          docLink.innerHTML = docLinkHtml;\n",
              "          element.appendChild(docLink);\n",
              "        }\n",
              "      </script>\n",
              "    </div>\n",
              "  </div>\n",
              "  "
            ]
          },
          "metadata": {},
          "execution_count": 4
        }
      ]
    },
    {
      "cell_type": "markdown",
      "source": [
        "## Search API: a quick test"
      ],
      "metadata": {
        "id": "Ducz-c1UfGVc"
      }
    },
    {
      "cell_type": "code",
      "source": [
        "query_url = \"https://api.gdeltproject.org/api/v2/tv/tv?query=(kremlin%20OR%20russia%20OR%20putin)%20(ukraine%20OR%20ukrainian%20OR%20zelenskyy)%20market:%22National%22&mode=timelinevol&format=html&datanorm=perc&format=csv&timelinesmooth=5&datacomb=sep&timezoom=yes&STARTDATETIME=20220224120000&ENDDATETIME=20220630120000\""
      ],
      "metadata": {
        "id": "T8QNcwwhNL0z"
      },
      "execution_count": null,
      "outputs": []
    },
    {
      "cell_type": "code",
      "source": [
        "def to_df(queryurl):\n",
        "  response = requests.get(queryurl)\n",
        "  content_text = StringIO(response.content.decode('utf-8'))\n",
        "  df = pd.read_csv(content_text)\n",
        "  return df"
      ],
      "metadata": {
        "id": "MGwtscGmNLwb"
      },
      "execution_count": 9,
      "outputs": []
    },
    {
      "cell_type": "code",
      "source": [
        "test_df = to_df(query_url)"
      ],
      "metadata": {
        "id": "6BR3GX2DNLuW"
      },
      "execution_count": null,
      "outputs": []
    },
    {
      "cell_type": "code",
      "source": [
        "test_df # each day corresponds to a group of channels\n",
        "# value is the percentage of number of matched 15-seconds clips over the number of monitored 15-seconds clips (because stations may devote different lengths of time to tv news)\n",
        "# if want raw count, then set datanorm=raw (now datanorm=perc)"
      ],
      "metadata": {
        "colab": {
          "base_uri": "https://localhost:8080/",
          "height": 424
        },
        "id": "sEfb43rPNLr9",
        "outputId": "0b660123-77c3-4308-8037-0804546637a9"
      },
      "execution_count": null,
      "outputs": [
        {
          "output_type": "execute_result",
          "data": {
            "text/plain": [
              "     Date (Daily +00:00: 02/24/2022 - 06/30/2022)     Series   Value\n",
              "0                                      2022-02-28  BLOOMBERG  4.6970\n",
              "1                                      2022-03-01  BLOOMBERG  4.3581\n",
              "2                                      2022-03-02  BLOOMBERG  3.7279\n",
              "3                                      2022-03-03  BLOOMBERG  4.4902\n",
              "4                                      2022-03-04  BLOOMBERG  4.5878\n",
              "...                                           ...        ...     ...\n",
              "1102                                   2022-06-26      MSNBC  0.1914\n",
              "1103                                   2022-06-27      MSNBC  0.2816\n",
              "1104                                   2022-06-28      MSNBC  0.3406\n",
              "1105                                   2022-06-29      MSNBC  0.4955\n",
              "1106                                   2022-06-30      MSNBC  0.7116\n",
              "\n",
              "[1107 rows x 3 columns]"
            ],
            "text/html": [
              "\n",
              "  <div id=\"df-1b9504cc-eee8-4cd1-9a92-fad521d4bf42\">\n",
              "    <div class=\"colab-df-container\">\n",
              "      <div>\n",
              "<style scoped>\n",
              "    .dataframe tbody tr th:only-of-type {\n",
              "        vertical-align: middle;\n",
              "    }\n",
              "\n",
              "    .dataframe tbody tr th {\n",
              "        vertical-align: top;\n",
              "    }\n",
              "\n",
              "    .dataframe thead th {\n",
              "        text-align: right;\n",
              "    }\n",
              "</style>\n",
              "<table border=\"1\" class=\"dataframe\">\n",
              "  <thead>\n",
              "    <tr style=\"text-align: right;\">\n",
              "      <th></th>\n",
              "      <th>Date (Daily +00:00: 02/24/2022 - 06/30/2022)</th>\n",
              "      <th>Series</th>\n",
              "      <th>Value</th>\n",
              "    </tr>\n",
              "  </thead>\n",
              "  <tbody>\n",
              "    <tr>\n",
              "      <th>0</th>\n",
              "      <td>2022-02-28</td>\n",
              "      <td>BLOOMBERG</td>\n",
              "      <td>4.6970</td>\n",
              "    </tr>\n",
              "    <tr>\n",
              "      <th>1</th>\n",
              "      <td>2022-03-01</td>\n",
              "      <td>BLOOMBERG</td>\n",
              "      <td>4.3581</td>\n",
              "    </tr>\n",
              "    <tr>\n",
              "      <th>2</th>\n",
              "      <td>2022-03-02</td>\n",
              "      <td>BLOOMBERG</td>\n",
              "      <td>3.7279</td>\n",
              "    </tr>\n",
              "    <tr>\n",
              "      <th>3</th>\n",
              "      <td>2022-03-03</td>\n",
              "      <td>BLOOMBERG</td>\n",
              "      <td>4.4902</td>\n",
              "    </tr>\n",
              "    <tr>\n",
              "      <th>4</th>\n",
              "      <td>2022-03-04</td>\n",
              "      <td>BLOOMBERG</td>\n",
              "      <td>4.5878</td>\n",
              "    </tr>\n",
              "    <tr>\n",
              "      <th>...</th>\n",
              "      <td>...</td>\n",
              "      <td>...</td>\n",
              "      <td>...</td>\n",
              "    </tr>\n",
              "    <tr>\n",
              "      <th>1102</th>\n",
              "      <td>2022-06-26</td>\n",
              "      <td>MSNBC</td>\n",
              "      <td>0.1914</td>\n",
              "    </tr>\n",
              "    <tr>\n",
              "      <th>1103</th>\n",
              "      <td>2022-06-27</td>\n",
              "      <td>MSNBC</td>\n",
              "      <td>0.2816</td>\n",
              "    </tr>\n",
              "    <tr>\n",
              "      <th>1104</th>\n",
              "      <td>2022-06-28</td>\n",
              "      <td>MSNBC</td>\n",
              "      <td>0.3406</td>\n",
              "    </tr>\n",
              "    <tr>\n",
              "      <th>1105</th>\n",
              "      <td>2022-06-29</td>\n",
              "      <td>MSNBC</td>\n",
              "      <td>0.4955</td>\n",
              "    </tr>\n",
              "    <tr>\n",
              "      <th>1106</th>\n",
              "      <td>2022-06-30</td>\n",
              "      <td>MSNBC</td>\n",
              "      <td>0.7116</td>\n",
              "    </tr>\n",
              "  </tbody>\n",
              "</table>\n",
              "<p>1107 rows × 3 columns</p>\n",
              "</div>\n",
              "      <button class=\"colab-df-convert\" onclick=\"convertToInteractive('df-1b9504cc-eee8-4cd1-9a92-fad521d4bf42')\"\n",
              "              title=\"Convert this dataframe to an interactive table.\"\n",
              "              style=\"display:none;\">\n",
              "        \n",
              "  <svg xmlns=\"http://www.w3.org/2000/svg\" height=\"24px\"viewBox=\"0 0 24 24\"\n",
              "       width=\"24px\">\n",
              "    <path d=\"M0 0h24v24H0V0z\" fill=\"none\"/>\n",
              "    <path d=\"M18.56 5.44l.94 2.06.94-2.06 2.06-.94-2.06-.94-.94-2.06-.94 2.06-2.06.94zm-11 1L8.5 8.5l.94-2.06 2.06-.94-2.06-.94L8.5 2.5l-.94 2.06-2.06.94zm10 10l.94 2.06.94-2.06 2.06-.94-2.06-.94-.94-2.06-.94 2.06-2.06.94z\"/><path d=\"M17.41 7.96l-1.37-1.37c-.4-.4-.92-.59-1.43-.59-.52 0-1.04.2-1.43.59L10.3 9.45l-7.72 7.72c-.78.78-.78 2.05 0 2.83L4 21.41c.39.39.9.59 1.41.59.51 0 1.02-.2 1.41-.59l7.78-7.78 2.81-2.81c.8-.78.8-2.07 0-2.86zM5.41 20L4 18.59l7.72-7.72 1.47 1.35L5.41 20z\"/>\n",
              "  </svg>\n",
              "      </button>\n",
              "      \n",
              "  <style>\n",
              "    .colab-df-container {\n",
              "      display:flex;\n",
              "      flex-wrap:wrap;\n",
              "      gap: 12px;\n",
              "    }\n",
              "\n",
              "    .colab-df-convert {\n",
              "      background-color: #E8F0FE;\n",
              "      border: none;\n",
              "      border-radius: 50%;\n",
              "      cursor: pointer;\n",
              "      display: none;\n",
              "      fill: #1967D2;\n",
              "      height: 32px;\n",
              "      padding: 0 0 0 0;\n",
              "      width: 32px;\n",
              "    }\n",
              "\n",
              "    .colab-df-convert:hover {\n",
              "      background-color: #E2EBFA;\n",
              "      box-shadow: 0px 1px 2px rgba(60, 64, 67, 0.3), 0px 1px 3px 1px rgba(60, 64, 67, 0.15);\n",
              "      fill: #174EA6;\n",
              "    }\n",
              "\n",
              "    [theme=dark] .colab-df-convert {\n",
              "      background-color: #3B4455;\n",
              "      fill: #D2E3FC;\n",
              "    }\n",
              "\n",
              "    [theme=dark] .colab-df-convert:hover {\n",
              "      background-color: #434B5C;\n",
              "      box-shadow: 0px 1px 3px 1px rgba(0, 0, 0, 0.15);\n",
              "      filter: drop-shadow(0px 1px 2px rgba(0, 0, 0, 0.3));\n",
              "      fill: #FFFFFF;\n",
              "    }\n",
              "  </style>\n",
              "\n",
              "      <script>\n",
              "        const buttonEl =\n",
              "          document.querySelector('#df-1b9504cc-eee8-4cd1-9a92-fad521d4bf42 button.colab-df-convert');\n",
              "        buttonEl.style.display =\n",
              "          google.colab.kernel.accessAllowed ? 'block' : 'none';\n",
              "\n",
              "        async function convertToInteractive(key) {\n",
              "          const element = document.querySelector('#df-1b9504cc-eee8-4cd1-9a92-fad521d4bf42');\n",
              "          const dataTable =\n",
              "            await google.colab.kernel.invokeFunction('convertToInteractive',\n",
              "                                                     [key], {});\n",
              "          if (!dataTable) return;\n",
              "\n",
              "          const docLinkHtml = 'Like what you see? Visit the ' +\n",
              "            '<a target=\"_blank\" href=https://colab.research.google.com/notebooks/data_table.ipynb>data table notebook</a>'\n",
              "            + ' to learn more about interactive tables.';\n",
              "          element.innerHTML = '';\n",
              "          dataTable['output_type'] = 'display_data';\n",
              "          await google.colab.output.renderOutput(dataTable, element);\n",
              "          const docLink = document.createElement('div');\n",
              "          docLink.innerHTML = docLinkHtml;\n",
              "          element.appendChild(docLink);\n",
              "        }\n",
              "      </script>\n",
              "    </div>\n",
              "  </div>\n",
              "  "
            ]
          },
          "metadata": {},
          "execution_count": 12
        }
      ]
    },
    {
      "cell_type": "code",
      "source": [
        "test_df.head(30)"
      ],
      "metadata": {
        "id": "QIWJz-42NLpn"
      },
      "execution_count": null,
      "outputs": []
    },
    {
      "cell_type": "code",
      "source": [
        "test_df.Series.unique()"
      ],
      "metadata": {
        "id": "VOSwo8XqNLnZ",
        "colab": {
          "base_uri": "https://localhost:8080/"
        },
        "outputId": "14aa3ba8-a51f-4ea1-f187-4b99ef96b986"
      },
      "execution_count": null,
      "outputs": [
        {
          "output_type": "execute_result",
          "data": {
            "text/plain": [
              "array(['BLOOMBERG', 'CNBC', 'CNN', 'CSPAN', 'CSPAN2', 'CSPAN3', 'FBC',\n",
              "       'FOXNEWS', 'MSNBC'], dtype=object)"
            ]
          },
          "metadata": {},
          "execution_count": 13
        }
      ]
    },
    {
      "cell_type": "code",
      "source": [
        "# The meat of the code for the article starts here"
      ],
      "metadata": {
        "id": "KDGrDiaBNLlC"
      },
      "execution_count": null,
      "outputs": []
    },
    {
      "cell_type": "markdown",
      "source": [
        "## Retrieve and prepare data for dashboard\n",
        "2022/7/7"
      ],
      "metadata": {
        "id": "bp6-b9QUYQHc"
      }
    },
    {
      "cell_type": "code",
      "source": [
        "today = date.today()\n",
        "today_str = today.strftime(\"%Y%m%d\")\n",
        "print(today_str)"
      ],
      "metadata": {
        "colab": {
          "base_uri": "https://localhost:8080/"
        },
        "id": "PC8FdnawFxgt",
        "outputId": "eb9d4adc-8050-4fb7-9522-5c8382fc1c1a"
      },
      "execution_count": 2,
      "outputs": [
        {
          "output_type": "stream",
          "name": "stdout",
          "text": [
            "20221129\n"
          ]
        }
      ]
    },
    {
      "cell_type": "code",
      "source": [
        "start_day = today - datetime.timedelta(60)"
      ],
      "metadata": {
        "id": "rX5W87cRFw52"
      },
      "execution_count": 3,
      "outputs": []
    },
    {
      "cell_type": "code",
      "source": [
        "start_day_str = start_day.strftime(\"%Y%m%d\")"
      ],
      "metadata": {
        "id": "3_bVi98xsx4T"
      },
      "execution_count": 4,
      "outputs": []
    },
    {
      "cell_type": "code",
      "source": [
        "print(start_day_str)"
      ],
      "metadata": {
        "colab": {
          "base_uri": "https://localhost:8080/"
        },
        "id": "YlevFgBhs3Wn",
        "outputId": "f96dae96-5d87-4bef-b051-9afc41af8d12"
      },
      "execution_count": 5,
      "outputs": [
        {
          "output_type": "stream",
          "name": "stdout",
          "text": [
            "20220930\n"
          ]
        }
      ]
    },
    {
      "cell_type": "code",
      "source": [
        "query_url_ukr = f\"https://api.gdeltproject.org/api/v2/tv/tv?query=(ukraine%20OR%20ukrainian%20OR%20zelenskyy%20OR%20kiev)%20market:%22National%22&mode=timelinevol&format=html&datanorm=perc&format=csv&timelinesmooth=5&datacomb=sep&timezoom=yes&STARTDATETIME={start_day_str}120000&ENDDATETIME={today_str}120000\""
      ],
      "metadata": {
        "id": "CRE1mPD3NLd7"
      },
      "execution_count": 6,
      "outputs": []
    },
    {
      "cell_type": "code",
      "source": [
        "query_url_rus = f\"https://api.gdeltproject.org/api/v2/tv/tv?query=(kremlin%20OR%20russia%20OR%20putin%20OR%20moscow%20OR%20russian)%20market:%22National%22&mode=timelinevol&format=html&datanorm=perc&format=csv&timelinesmooth=5&datacomb=sep&timezoom=yes&STARTDATETIME={start_day_str}120000&ENDDATETIME={today_str}120000\""
      ],
      "metadata": {
        "id": "_rDMxNVhNLUw"
      },
      "execution_count": 7,
      "outputs": []
    },
    {
      "cell_type": "code",
      "source": [
        "df_ukr = to_df(query_url_ukr)"
      ],
      "metadata": {
        "id": "RFzGI730NJWE"
      },
      "execution_count": 10,
      "outputs": []
    },
    {
      "cell_type": "code",
      "source": [
        "df_rus = to_df(query_url_rus)"
      ],
      "metadata": {
        "id": "5-K1x-RiCjvN"
      },
      "execution_count": 11,
      "outputs": []
    },
    {
      "cell_type": "code",
      "source": [
        "df_ukr.head()"
      ],
      "metadata": {
        "colab": {
          "base_uri": "https://localhost:8080/",
          "height": 206
        },
        "id": "z9U1A-HOCojy",
        "outputId": "9f102e84-64ec-49b9-cfc6-99951c05fc49"
      },
      "execution_count": 12,
      "outputs": [
        {
          "output_type": "execute_result",
          "data": {
            "text/plain": [
              "  Date (Daily +00:00: 09/30/2022 - 11/27/2022)     Series   Value\n",
              "0                                   2022-10-04  BLOOMBERG  1.5418\n",
              "1                                   2022-10-05  BLOOMBERG  1.4015\n",
              "2                                   2022-10-06  BLOOMBERG  1.6101\n",
              "3                                   2022-10-07  BLOOMBERG  1.6264\n",
              "4                                   2022-10-08  BLOOMBERG  1.1735"
            ],
            "text/html": [
              "\n",
              "  <div id=\"df-8e45d45e-d45e-4c67-b80e-3623af6d9ad2\">\n",
              "    <div class=\"colab-df-container\">\n",
              "      <div>\n",
              "<style scoped>\n",
              "    .dataframe tbody tr th:only-of-type {\n",
              "        vertical-align: middle;\n",
              "    }\n",
              "\n",
              "    .dataframe tbody tr th {\n",
              "        vertical-align: top;\n",
              "    }\n",
              "\n",
              "    .dataframe thead th {\n",
              "        text-align: right;\n",
              "    }\n",
              "</style>\n",
              "<table border=\"1\" class=\"dataframe\">\n",
              "  <thead>\n",
              "    <tr style=\"text-align: right;\">\n",
              "      <th></th>\n",
              "      <th>Date (Daily +00:00: 09/30/2022 - 11/27/2022)</th>\n",
              "      <th>Series</th>\n",
              "      <th>Value</th>\n",
              "    </tr>\n",
              "  </thead>\n",
              "  <tbody>\n",
              "    <tr>\n",
              "      <th>0</th>\n",
              "      <td>2022-10-04</td>\n",
              "      <td>BLOOMBERG</td>\n",
              "      <td>1.5418</td>\n",
              "    </tr>\n",
              "    <tr>\n",
              "      <th>1</th>\n",
              "      <td>2022-10-05</td>\n",
              "      <td>BLOOMBERG</td>\n",
              "      <td>1.4015</td>\n",
              "    </tr>\n",
              "    <tr>\n",
              "      <th>2</th>\n",
              "      <td>2022-10-06</td>\n",
              "      <td>BLOOMBERG</td>\n",
              "      <td>1.6101</td>\n",
              "    </tr>\n",
              "    <tr>\n",
              "      <th>3</th>\n",
              "      <td>2022-10-07</td>\n",
              "      <td>BLOOMBERG</td>\n",
              "      <td>1.6264</td>\n",
              "    </tr>\n",
              "    <tr>\n",
              "      <th>4</th>\n",
              "      <td>2022-10-08</td>\n",
              "      <td>BLOOMBERG</td>\n",
              "      <td>1.1735</td>\n",
              "    </tr>\n",
              "  </tbody>\n",
              "</table>\n",
              "</div>\n",
              "      <button class=\"colab-df-convert\" onclick=\"convertToInteractive('df-8e45d45e-d45e-4c67-b80e-3623af6d9ad2')\"\n",
              "              title=\"Convert this dataframe to an interactive table.\"\n",
              "              style=\"display:none;\">\n",
              "        \n",
              "  <svg xmlns=\"http://www.w3.org/2000/svg\" height=\"24px\"viewBox=\"0 0 24 24\"\n",
              "       width=\"24px\">\n",
              "    <path d=\"M0 0h24v24H0V0z\" fill=\"none\"/>\n",
              "    <path d=\"M18.56 5.44l.94 2.06.94-2.06 2.06-.94-2.06-.94-.94-2.06-.94 2.06-2.06.94zm-11 1L8.5 8.5l.94-2.06 2.06-.94-2.06-.94L8.5 2.5l-.94 2.06-2.06.94zm10 10l.94 2.06.94-2.06 2.06-.94-2.06-.94-.94-2.06-.94 2.06-2.06.94z\"/><path d=\"M17.41 7.96l-1.37-1.37c-.4-.4-.92-.59-1.43-.59-.52 0-1.04.2-1.43.59L10.3 9.45l-7.72 7.72c-.78.78-.78 2.05 0 2.83L4 21.41c.39.39.9.59 1.41.59.51 0 1.02-.2 1.41-.59l7.78-7.78 2.81-2.81c.8-.78.8-2.07 0-2.86zM5.41 20L4 18.59l7.72-7.72 1.47 1.35L5.41 20z\"/>\n",
              "  </svg>\n",
              "      </button>\n",
              "      \n",
              "  <style>\n",
              "    .colab-df-container {\n",
              "      display:flex;\n",
              "      flex-wrap:wrap;\n",
              "      gap: 12px;\n",
              "    }\n",
              "\n",
              "    .colab-df-convert {\n",
              "      background-color: #E8F0FE;\n",
              "      border: none;\n",
              "      border-radius: 50%;\n",
              "      cursor: pointer;\n",
              "      display: none;\n",
              "      fill: #1967D2;\n",
              "      height: 32px;\n",
              "      padding: 0 0 0 0;\n",
              "      width: 32px;\n",
              "    }\n",
              "\n",
              "    .colab-df-convert:hover {\n",
              "      background-color: #E2EBFA;\n",
              "      box-shadow: 0px 1px 2px rgba(60, 64, 67, 0.3), 0px 1px 3px 1px rgba(60, 64, 67, 0.15);\n",
              "      fill: #174EA6;\n",
              "    }\n",
              "\n",
              "    [theme=dark] .colab-df-convert {\n",
              "      background-color: #3B4455;\n",
              "      fill: #D2E3FC;\n",
              "    }\n",
              "\n",
              "    [theme=dark] .colab-df-convert:hover {\n",
              "      background-color: #434B5C;\n",
              "      box-shadow: 0px 1px 3px 1px rgba(0, 0, 0, 0.15);\n",
              "      filter: drop-shadow(0px 1px 2px rgba(0, 0, 0, 0.3));\n",
              "      fill: #FFFFFF;\n",
              "    }\n",
              "  </style>\n",
              "\n",
              "      <script>\n",
              "        const buttonEl =\n",
              "          document.querySelector('#df-8e45d45e-d45e-4c67-b80e-3623af6d9ad2 button.colab-df-convert');\n",
              "        buttonEl.style.display =\n",
              "          google.colab.kernel.accessAllowed ? 'block' : 'none';\n",
              "\n",
              "        async function convertToInteractive(key) {\n",
              "          const element = document.querySelector('#df-8e45d45e-d45e-4c67-b80e-3623af6d9ad2');\n",
              "          const dataTable =\n",
              "            await google.colab.kernel.invokeFunction('convertToInteractive',\n",
              "                                                     [key], {});\n",
              "          if (!dataTable) return;\n",
              "\n",
              "          const docLinkHtml = 'Like what you see? Visit the ' +\n",
              "            '<a target=\"_blank\" href=https://colab.research.google.com/notebooks/data_table.ipynb>data table notebook</a>'\n",
              "            + ' to learn more about interactive tables.';\n",
              "          element.innerHTML = '';\n",
              "          dataTable['output_type'] = 'display_data';\n",
              "          await google.colab.output.renderOutput(dataTable, element);\n",
              "          const docLink = document.createElement('div');\n",
              "          docLink.innerHTML = docLinkHtml;\n",
              "          element.appendChild(docLink);\n",
              "        }\n",
              "      </script>\n",
              "    </div>\n",
              "  </div>\n",
              "  "
            ]
          },
          "metadata": {},
          "execution_count": 12
        }
      ]
    },
    {
      "cell_type": "code",
      "source": [
        "df_rus.head()"
      ],
      "metadata": {
        "colab": {
          "base_uri": "https://localhost:8080/",
          "height": 206
        },
        "id": "-P4OT974CowA",
        "outputId": "5dab5816-abf4-4e66-ae8d-2e0aab129ac1"
      },
      "execution_count": 13,
      "outputs": [
        {
          "output_type": "execute_result",
          "data": {
            "text/plain": [
              "  Date (Daily +00:00: 09/30/2022 - 11/27/2022)     Series   Value\n",
              "0                                   2022-10-04  BLOOMBERG  2.0916\n",
              "1                                   2022-10-05  BLOOMBERG  2.1513\n",
              "2                                   2022-10-06  BLOOMBERG  2.8406\n",
              "3                                   2022-10-07  BLOOMBERG  3.1954\n",
              "4                                   2022-10-08  BLOOMBERG  2.4405"
            ],
            "text/html": [
              "\n",
              "  <div id=\"df-da92b167-338e-4c23-8b5e-1f4912fac558\">\n",
              "    <div class=\"colab-df-container\">\n",
              "      <div>\n",
              "<style scoped>\n",
              "    .dataframe tbody tr th:only-of-type {\n",
              "        vertical-align: middle;\n",
              "    }\n",
              "\n",
              "    .dataframe tbody tr th {\n",
              "        vertical-align: top;\n",
              "    }\n",
              "\n",
              "    .dataframe thead th {\n",
              "        text-align: right;\n",
              "    }\n",
              "</style>\n",
              "<table border=\"1\" class=\"dataframe\">\n",
              "  <thead>\n",
              "    <tr style=\"text-align: right;\">\n",
              "      <th></th>\n",
              "      <th>Date (Daily +00:00: 09/30/2022 - 11/27/2022)</th>\n",
              "      <th>Series</th>\n",
              "      <th>Value</th>\n",
              "    </tr>\n",
              "  </thead>\n",
              "  <tbody>\n",
              "    <tr>\n",
              "      <th>0</th>\n",
              "      <td>2022-10-04</td>\n",
              "      <td>BLOOMBERG</td>\n",
              "      <td>2.0916</td>\n",
              "    </tr>\n",
              "    <tr>\n",
              "      <th>1</th>\n",
              "      <td>2022-10-05</td>\n",
              "      <td>BLOOMBERG</td>\n",
              "      <td>2.1513</td>\n",
              "    </tr>\n",
              "    <tr>\n",
              "      <th>2</th>\n",
              "      <td>2022-10-06</td>\n",
              "      <td>BLOOMBERG</td>\n",
              "      <td>2.8406</td>\n",
              "    </tr>\n",
              "    <tr>\n",
              "      <th>3</th>\n",
              "      <td>2022-10-07</td>\n",
              "      <td>BLOOMBERG</td>\n",
              "      <td>3.1954</td>\n",
              "    </tr>\n",
              "    <tr>\n",
              "      <th>4</th>\n",
              "      <td>2022-10-08</td>\n",
              "      <td>BLOOMBERG</td>\n",
              "      <td>2.4405</td>\n",
              "    </tr>\n",
              "  </tbody>\n",
              "</table>\n",
              "</div>\n",
              "      <button class=\"colab-df-convert\" onclick=\"convertToInteractive('df-da92b167-338e-4c23-8b5e-1f4912fac558')\"\n",
              "              title=\"Convert this dataframe to an interactive table.\"\n",
              "              style=\"display:none;\">\n",
              "        \n",
              "  <svg xmlns=\"http://www.w3.org/2000/svg\" height=\"24px\"viewBox=\"0 0 24 24\"\n",
              "       width=\"24px\">\n",
              "    <path d=\"M0 0h24v24H0V0z\" fill=\"none\"/>\n",
              "    <path d=\"M18.56 5.44l.94 2.06.94-2.06 2.06-.94-2.06-.94-.94-2.06-.94 2.06-2.06.94zm-11 1L8.5 8.5l.94-2.06 2.06-.94-2.06-.94L8.5 2.5l-.94 2.06-2.06.94zm10 10l.94 2.06.94-2.06 2.06-.94-2.06-.94-.94-2.06-.94 2.06-2.06.94z\"/><path d=\"M17.41 7.96l-1.37-1.37c-.4-.4-.92-.59-1.43-.59-.52 0-1.04.2-1.43.59L10.3 9.45l-7.72 7.72c-.78.78-.78 2.05 0 2.83L4 21.41c.39.39.9.59 1.41.59.51 0 1.02-.2 1.41-.59l7.78-7.78 2.81-2.81c.8-.78.8-2.07 0-2.86zM5.41 20L4 18.59l7.72-7.72 1.47 1.35L5.41 20z\"/>\n",
              "  </svg>\n",
              "      </button>\n",
              "      \n",
              "  <style>\n",
              "    .colab-df-container {\n",
              "      display:flex;\n",
              "      flex-wrap:wrap;\n",
              "      gap: 12px;\n",
              "    }\n",
              "\n",
              "    .colab-df-convert {\n",
              "      background-color: #E8F0FE;\n",
              "      border: none;\n",
              "      border-radius: 50%;\n",
              "      cursor: pointer;\n",
              "      display: none;\n",
              "      fill: #1967D2;\n",
              "      height: 32px;\n",
              "      padding: 0 0 0 0;\n",
              "      width: 32px;\n",
              "    }\n",
              "\n",
              "    .colab-df-convert:hover {\n",
              "      background-color: #E2EBFA;\n",
              "      box-shadow: 0px 1px 2px rgba(60, 64, 67, 0.3), 0px 1px 3px 1px rgba(60, 64, 67, 0.15);\n",
              "      fill: #174EA6;\n",
              "    }\n",
              "\n",
              "    [theme=dark] .colab-df-convert {\n",
              "      background-color: #3B4455;\n",
              "      fill: #D2E3FC;\n",
              "    }\n",
              "\n",
              "    [theme=dark] .colab-df-convert:hover {\n",
              "      background-color: #434B5C;\n",
              "      box-shadow: 0px 1px 3px 1px rgba(0, 0, 0, 0.15);\n",
              "      filter: drop-shadow(0px 1px 2px rgba(0, 0, 0, 0.3));\n",
              "      fill: #FFFFFF;\n",
              "    }\n",
              "  </style>\n",
              "\n",
              "      <script>\n",
              "        const buttonEl =\n",
              "          document.querySelector('#df-da92b167-338e-4c23-8b5e-1f4912fac558 button.colab-df-convert');\n",
              "        buttonEl.style.display =\n",
              "          google.colab.kernel.accessAllowed ? 'block' : 'none';\n",
              "\n",
              "        async function convertToInteractive(key) {\n",
              "          const element = document.querySelector('#df-da92b167-338e-4c23-8b5e-1f4912fac558');\n",
              "          const dataTable =\n",
              "            await google.colab.kernel.invokeFunction('convertToInteractive',\n",
              "                                                     [key], {});\n",
              "          if (!dataTable) return;\n",
              "\n",
              "          const docLinkHtml = 'Like what you see? Visit the ' +\n",
              "            '<a target=\"_blank\" href=https://colab.research.google.com/notebooks/data_table.ipynb>data table notebook</a>'\n",
              "            + ' to learn more about interactive tables.';\n",
              "          element.innerHTML = '';\n",
              "          dataTable['output_type'] = 'display_data';\n",
              "          await google.colab.output.renderOutput(dataTable, element);\n",
              "          const docLink = document.createElement('div');\n",
              "          docLink.innerHTML = docLinkHtml;\n",
              "          element.appendChild(docLink);\n",
              "        }\n",
              "      </script>\n",
              "    </div>\n",
              "  </div>\n",
              "  "
            ]
          },
          "metadata": {},
          "execution_count": 13
        }
      ]
    },
    {
      "cell_type": "code",
      "source": [
        "df_ukr = df_ukr.rename(columns={df_ukr.columns[0]: \"date_col\"})\n",
        "df_rus = df_rus.rename(columns={df_rus.columns[0]: \"date_col\"})"
      ],
      "metadata": {
        "id": "9XVDMKxhCo3P"
      },
      "execution_count": 14,
      "outputs": []
    },
    {
      "cell_type": "code",
      "source": [
        "df_ukr.dtypes"
      ],
      "metadata": {
        "colab": {
          "base_uri": "https://localhost:8080/"
        },
        "id": "yiFSV_JyPsIS",
        "outputId": "5cd15ea6-1c4b-40bd-f4ca-5a1b140659a9"
      },
      "execution_count": 13,
      "outputs": [
        {
          "output_type": "execute_result",
          "data": {
            "text/plain": [
              "date_col     object\n",
              "Series       object\n",
              "Value       float64\n",
              "dtype: object"
            ]
          },
          "metadata": {},
          "execution_count": 13
        }
      ]
    },
    {
      "cell_type": "code",
      "source": [
        "df_ukr['date_col'] = pd.to_datetime(df_ukr['date_col'])"
      ],
      "metadata": {
        "id": "feS9sEQfPr1Y"
      },
      "execution_count": 15,
      "outputs": []
    },
    {
      "cell_type": "code",
      "source": [
        "df_rus.dtypes"
      ],
      "metadata": {
        "colab": {
          "base_uri": "https://localhost:8080/"
        },
        "id": "DYoAvZfFPrnr",
        "outputId": "50a0b69d-3ca6-496a-a5b0-ed49f01888d2"
      },
      "execution_count": 15,
      "outputs": [
        {
          "output_type": "execute_result",
          "data": {
            "text/plain": [
              "date_col     object\n",
              "Series       object\n",
              "Value       float64\n",
              "dtype: object"
            ]
          },
          "metadata": {},
          "execution_count": 15
        }
      ]
    },
    {
      "cell_type": "code",
      "source": [
        "df_rus['date_col'] = pd.to_datetime(df_rus['date_col'])"
      ],
      "metadata": {
        "id": "dj0StXsNSG43"
      },
      "execution_count": 16,
      "outputs": []
    },
    {
      "cell_type": "code",
      "source": [
        "df_rus = df_rus[[x in ['CNN', 'FOXNEWS', 'MSNBC'] for x in df_rus.Series]]"
      ],
      "metadata": {
        "id": "Tv3dX-FCSGhE"
      },
      "execution_count": 17,
      "outputs": []
    },
    {
      "cell_type": "code",
      "source": [
        "df_ukr = df_ukr[[x in ['CNN', 'FOXNEWS', 'MSNBC'] for x in df_ukr.Series]]"
      ],
      "metadata": {
        "id": "PdYGlcgBSGWL"
      },
      "execution_count": 18,
      "outputs": []
    },
    {
      "cell_type": "code",
      "source": [],
      "metadata": {
        "id": "Ot_Ikn9ESGLG"
      },
      "execution_count": null,
      "outputs": []
    },
    {
      "cell_type": "code",
      "source": [],
      "metadata": {
        "id": "O4S4ILUsSF_3"
      },
      "execution_count": null,
      "outputs": []
    },
    {
      "cell_type": "markdown",
      "source": [
        "# Dashboard part starts here"
      ],
      "metadata": {
        "id": "G6W-spDgX3AT"
      }
    },
    {
      "cell_type": "code",
      "source": [
        "!pip install jupyter-dash"
      ],
      "metadata": {
        "id": "z43iZEguCo5w",
        "colab": {
          "base_uri": "https://localhost:8080/"
        },
        "outputId": "a1513e88-5709-42fd-9c7f-516af06888bb"
      },
      "execution_count": 19,
      "outputs": [
        {
          "output_type": "stream",
          "name": "stdout",
          "text": [
            "Looking in indexes: https://pypi.org/simple, https://us-python.pkg.dev/colab-wheels/public/simple/\n",
            "Collecting jupyter-dash\n",
            "  Downloading jupyter_dash-0.4.2-py3-none-any.whl (23 kB)\n",
            "Collecting nest-asyncio\n",
            "  Downloading nest_asyncio-1.5.6-py3-none-any.whl (5.2 kB)\n",
            "Requirement already satisfied: ipython in /usr/local/lib/python3.7/dist-packages (from jupyter-dash) (7.9.0)\n",
            "Requirement already satisfied: flask in /usr/local/lib/python3.7/dist-packages (from jupyter-dash) (1.1.4)\n",
            "Collecting ansi2html\n",
            "  Downloading ansi2html-1.8.0-py3-none-any.whl (16 kB)\n",
            "Requirement already satisfied: requests in /usr/local/lib/python3.7/dist-packages (from jupyter-dash) (2.23.0)\n",
            "Collecting retrying\n",
            "  Downloading retrying-1.3.4-py3-none-any.whl (11 kB)\n",
            "Collecting dash\n",
            "  Downloading dash-2.7.0-py3-none-any.whl (9.9 MB)\n",
            "\u001b[K     |████████████████████████████████| 9.9 MB 11.6 MB/s \n",
            "\u001b[?25hRequirement already satisfied: ipykernel in /usr/local/lib/python3.7/dist-packages (from jupyter-dash) (5.3.4)\n",
            "Requirement already satisfied: importlib-metadata in /usr/local/lib/python3.7/dist-packages (from ansi2html->jupyter-dash) (4.13.0)\n",
            "Collecting dash-table==5.0.0\n",
            "  Downloading dash_table-5.0.0-py3-none-any.whl (3.9 kB)\n",
            "Collecting dash-core-components==2.0.0\n",
            "  Downloading dash_core_components-2.0.0-py3-none-any.whl (3.8 kB)\n",
            "Collecting dash-html-components==2.0.0\n",
            "  Downloading dash_html_components-2.0.0-py3-none-any.whl (4.1 kB)\n",
            "Requirement already satisfied: plotly>=5.0.0 in /usr/local/lib/python3.7/dist-packages (from dash->jupyter-dash) (5.5.0)\n",
            "Requirement already satisfied: click<8.0,>=5.1 in /usr/local/lib/python3.7/dist-packages (from flask->jupyter-dash) (7.1.2)\n",
            "Requirement already satisfied: Werkzeug<2.0,>=0.15 in /usr/local/lib/python3.7/dist-packages (from flask->jupyter-dash) (1.0.1)\n",
            "Requirement already satisfied: Jinja2<3.0,>=2.10.1 in /usr/local/lib/python3.7/dist-packages (from flask->jupyter-dash) (2.11.3)\n",
            "Requirement already satisfied: itsdangerous<2.0,>=0.24 in /usr/local/lib/python3.7/dist-packages (from flask->jupyter-dash) (1.1.0)\n",
            "Requirement already satisfied: MarkupSafe>=0.23 in /usr/local/lib/python3.7/dist-packages (from Jinja2<3.0,>=2.10.1->flask->jupyter-dash) (2.0.1)\n",
            "Requirement already satisfied: six in /usr/local/lib/python3.7/dist-packages (from plotly>=5.0.0->dash->jupyter-dash) (1.15.0)\n",
            "Requirement already satisfied: tenacity>=6.2.0 in /usr/local/lib/python3.7/dist-packages (from plotly>=5.0.0->dash->jupyter-dash) (8.1.0)\n",
            "Requirement already satisfied: typing-extensions>=3.6.4 in /usr/local/lib/python3.7/dist-packages (from importlib-metadata->ansi2html->jupyter-dash) (4.1.1)\n",
            "Requirement already satisfied: zipp>=0.5 in /usr/local/lib/python3.7/dist-packages (from importlib-metadata->ansi2html->jupyter-dash) (3.10.0)\n",
            "Requirement already satisfied: tornado>=4.2 in /usr/local/lib/python3.7/dist-packages (from ipykernel->jupyter-dash) (6.0.4)\n",
            "Requirement already satisfied: jupyter-client in /usr/local/lib/python3.7/dist-packages (from ipykernel->jupyter-dash) (6.1.12)\n",
            "Requirement already satisfied: traitlets>=4.1.0 in /usr/local/lib/python3.7/dist-packages (from ipykernel->jupyter-dash) (5.1.1)\n",
            "Requirement already satisfied: backcall in /usr/local/lib/python3.7/dist-packages (from ipython->jupyter-dash) (0.2.0)\n",
            "Requirement already satisfied: prompt-toolkit<2.1.0,>=2.0.0 in /usr/local/lib/python3.7/dist-packages (from ipython->jupyter-dash) (2.0.10)\n",
            "Requirement already satisfied: pygments in /usr/local/lib/python3.7/dist-packages (from ipython->jupyter-dash) (2.6.1)\n",
            "Requirement already satisfied: pexpect in /usr/local/lib/python3.7/dist-packages (from ipython->jupyter-dash) (4.8.0)\n",
            "Requirement already satisfied: pickleshare in /usr/local/lib/python3.7/dist-packages (from ipython->jupyter-dash) (0.7.5)\n",
            "Requirement already satisfied: decorator in /usr/local/lib/python3.7/dist-packages (from ipython->jupyter-dash) (4.4.2)\n",
            "Requirement already satisfied: setuptools>=18.5 in /usr/local/lib/python3.7/dist-packages (from ipython->jupyter-dash) (57.4.0)\n",
            "Collecting jedi>=0.10\n",
            "  Downloading jedi-0.18.2-py2.py3-none-any.whl (1.6 MB)\n",
            "\u001b[K     |████████████████████████████████| 1.6 MB 43.0 MB/s \n",
            "\u001b[?25hRequirement already satisfied: parso<0.9.0,>=0.8.0 in /usr/local/lib/python3.7/dist-packages (from jedi>=0.10->ipython->jupyter-dash) (0.8.3)\n",
            "Requirement already satisfied: wcwidth in /usr/local/lib/python3.7/dist-packages (from prompt-toolkit<2.1.0,>=2.0.0->ipython->jupyter-dash) (0.2.5)\n",
            "Requirement already satisfied: jupyter-core>=4.6.0 in /usr/local/lib/python3.7/dist-packages (from jupyter-client->ipykernel->jupyter-dash) (4.11.2)\n",
            "Requirement already satisfied: pyzmq>=13 in /usr/local/lib/python3.7/dist-packages (from jupyter-client->ipykernel->jupyter-dash) (23.2.1)\n",
            "Requirement already satisfied: python-dateutil>=2.1 in /usr/local/lib/python3.7/dist-packages (from jupyter-client->ipykernel->jupyter-dash) (2.8.2)\n",
            "Requirement already satisfied: ptyprocess>=0.5 in /usr/local/lib/python3.7/dist-packages (from pexpect->ipython->jupyter-dash) (0.7.0)\n",
            "Requirement already satisfied: idna<3,>=2.5 in /usr/local/lib/python3.7/dist-packages (from requests->jupyter-dash) (2.10)\n",
            "Requirement already satisfied: chardet<4,>=3.0.2 in /usr/local/lib/python3.7/dist-packages (from requests->jupyter-dash) (3.0.4)\n",
            "Requirement already satisfied: certifi>=2017.4.17 in /usr/local/lib/python3.7/dist-packages (from requests->jupyter-dash) (2022.9.24)\n",
            "Requirement already satisfied: urllib3!=1.25.0,!=1.25.1,<1.26,>=1.21.1 in /usr/local/lib/python3.7/dist-packages (from requests->jupyter-dash) (1.24.3)\n",
            "Installing collected packages: jedi, dash-table, dash-html-components, dash-core-components, retrying, nest-asyncio, dash, ansi2html, jupyter-dash\n",
            "Successfully installed ansi2html-1.8.0 dash-2.7.0 dash-core-components-2.0.0 dash-html-components-2.0.0 dash-table-5.0.0 jedi-0.18.2 jupyter-dash-0.4.2 nest-asyncio-1.5.6 retrying-1.3.4\n"
          ]
        }
      ]
    },
    {
      "cell_type": "code",
      "source": [
        "!pip install dash"
      ],
      "metadata": {
        "id": "k-Y8EsXpCo8f",
        "colab": {
          "base_uri": "https://localhost:8080/"
        },
        "outputId": "7a66919a-b522-4208-bac7-7b6c2aaa3269"
      },
      "execution_count": 20,
      "outputs": [
        {
          "output_type": "stream",
          "name": "stdout",
          "text": [
            "Looking in indexes: https://pypi.org/simple, https://us-python.pkg.dev/colab-wheels/public/simple/\n",
            "Requirement already satisfied: dash in /usr/local/lib/python3.7/dist-packages (2.7.0)\n",
            "Requirement already satisfied: dash-table==5.0.0 in /usr/local/lib/python3.7/dist-packages (from dash) (5.0.0)\n",
            "Requirement already satisfied: dash-html-components==2.0.0 in /usr/local/lib/python3.7/dist-packages (from dash) (2.0.0)\n",
            "Requirement already satisfied: plotly>=5.0.0 in /usr/local/lib/python3.7/dist-packages (from dash) (5.5.0)\n",
            "Requirement already satisfied: Flask>=1.0.4 in /usr/local/lib/python3.7/dist-packages (from dash) (1.1.4)\n",
            "Requirement already satisfied: dash-core-components==2.0.0 in /usr/local/lib/python3.7/dist-packages (from dash) (2.0.0)\n",
            "Requirement already satisfied: Jinja2<3.0,>=2.10.1 in /usr/local/lib/python3.7/dist-packages (from Flask>=1.0.4->dash) (2.11.3)\n",
            "Requirement already satisfied: itsdangerous<2.0,>=0.24 in /usr/local/lib/python3.7/dist-packages (from Flask>=1.0.4->dash) (1.1.0)\n",
            "Requirement already satisfied: click<8.0,>=5.1 in /usr/local/lib/python3.7/dist-packages (from Flask>=1.0.4->dash) (7.1.2)\n",
            "Requirement already satisfied: Werkzeug<2.0,>=0.15 in /usr/local/lib/python3.7/dist-packages (from Flask>=1.0.4->dash) (1.0.1)\n",
            "Requirement already satisfied: MarkupSafe>=0.23 in /usr/local/lib/python3.7/dist-packages (from Jinja2<3.0,>=2.10.1->Flask>=1.0.4->dash) (2.0.1)\n",
            "Requirement already satisfied: tenacity>=6.2.0 in /usr/local/lib/python3.7/dist-packages (from plotly>=5.0.0->dash) (8.1.0)\n",
            "Requirement already satisfied: six in /usr/local/lib/python3.7/dist-packages (from plotly>=5.0.0->dash) (1.15.0)\n"
          ]
        }
      ]
    },
    {
      "cell_type": "code",
      "source": [
        "!pip install dash_bootstrap_components"
      ],
      "metadata": {
        "id": "QxQhgG0dCo-n",
        "colab": {
          "base_uri": "https://localhost:8080/"
        },
        "outputId": "b819e7e0-40b9-4441-d75b-7df724ee13a1"
      },
      "execution_count": 21,
      "outputs": [
        {
          "output_type": "stream",
          "name": "stdout",
          "text": [
            "Looking in indexes: https://pypi.org/simple, https://us-python.pkg.dev/colab-wheels/public/simple/\n",
            "Collecting dash_bootstrap_components\n",
            "  Downloading dash_bootstrap_components-1.2.1-py3-none-any.whl (216 kB)\n",
            "\u001b[K     |████████████████████████████████| 216 kB 5.4 MB/s \n",
            "\u001b[?25hRequirement already satisfied: dash>=2.0.0 in /usr/local/lib/python3.7/dist-packages (from dash_bootstrap_components) (2.7.0)\n",
            "Requirement already satisfied: dash-table==5.0.0 in /usr/local/lib/python3.7/dist-packages (from dash>=2.0.0->dash_bootstrap_components) (5.0.0)\n",
            "Requirement already satisfied: dash-html-components==2.0.0 in /usr/local/lib/python3.7/dist-packages (from dash>=2.0.0->dash_bootstrap_components) (2.0.0)\n",
            "Requirement already satisfied: Flask>=1.0.4 in /usr/local/lib/python3.7/dist-packages (from dash>=2.0.0->dash_bootstrap_components) (1.1.4)\n",
            "Requirement already satisfied: dash-core-components==2.0.0 in /usr/local/lib/python3.7/dist-packages (from dash>=2.0.0->dash_bootstrap_components) (2.0.0)\n",
            "Requirement already satisfied: plotly>=5.0.0 in /usr/local/lib/python3.7/dist-packages (from dash>=2.0.0->dash_bootstrap_components) (5.5.0)\n",
            "Requirement already satisfied: click<8.0,>=5.1 in /usr/local/lib/python3.7/dist-packages (from Flask>=1.0.4->dash>=2.0.0->dash_bootstrap_components) (7.1.2)\n",
            "Requirement already satisfied: itsdangerous<2.0,>=0.24 in /usr/local/lib/python3.7/dist-packages (from Flask>=1.0.4->dash>=2.0.0->dash_bootstrap_components) (1.1.0)\n",
            "Requirement already satisfied: Werkzeug<2.0,>=0.15 in /usr/local/lib/python3.7/dist-packages (from Flask>=1.0.4->dash>=2.0.0->dash_bootstrap_components) (1.0.1)\n",
            "Requirement already satisfied: Jinja2<3.0,>=2.10.1 in /usr/local/lib/python3.7/dist-packages (from Flask>=1.0.4->dash>=2.0.0->dash_bootstrap_components) (2.11.3)\n",
            "Requirement already satisfied: MarkupSafe>=0.23 in /usr/local/lib/python3.7/dist-packages (from Jinja2<3.0,>=2.10.1->Flask>=1.0.4->dash>=2.0.0->dash_bootstrap_components) (2.0.1)\n",
            "Requirement already satisfied: six in /usr/local/lib/python3.7/dist-packages (from plotly>=5.0.0->dash>=2.0.0->dash_bootstrap_components) (1.15.0)\n",
            "Requirement already satisfied: tenacity>=6.2.0 in /usr/local/lib/python3.7/dist-packages (from plotly>=5.0.0->dash>=2.0.0->dash_bootstrap_components) (8.1.0)\n",
            "Installing collected packages: dash-bootstrap-components\n",
            "Successfully installed dash-bootstrap-components-1.2.1\n"
          ]
        }
      ]
    },
    {
      "cell_type": "code",
      "source": [
        "import dash\n",
        "from jupyter_dash import JupyterDash\n",
        "from dash import dcc\n",
        "from dash import html\n",
        "from dash.dependencies import Input, Output, State\n",
        "import dash_bootstrap_components as dbc\n",
        "import plotly.express as px"
      ],
      "metadata": {
        "id": "-L4rxrwkCpAp"
      },
      "execution_count": 22,
      "outputs": []
    },
    {
      "cell_type": "code",
      "source": [
        "# Initiate a dashboard instance\n",
        "app = JupyterDash(__name__, external_stylesheets=[dbc.themes.LITERA])\n",
        "server = app.server\n",
        "\n",
        "# Dashboard front end\n",
        "app.layout = dbc.Container(\n",
        "    [   dbc.Row([\n",
        "        dbc.Col([html.H1('US National Television News Coverage of the War in Ukraine')],\n",
        "        #html.Hr()],\n",
        "        className=\"text-center mt-3 mb-1\")\n",
        "    ]\n",
        "    ),\n",
        "        dbc.Row([\n",
        "            dbc.Label(\"Select a date range:\", className=\"fw-bold\")\n",
        "    ]),\n",
        "    \n",
        "     dbc.Row([\n",
        "              dcc.DatePickerRange(\n",
        "                id='date-range',\n",
        "                min_date_allowed=df_ukr['date_col'].min().date(),\n",
        "                max_date_allowed=df_ukr['date_col'].max().date(),\n",
        "                initial_visible_month=df_ukr['date_col'].min().date(),\n",
        "                start_date=df_ukr['date_col'].min().date(),\n",
        "                end_date=df_ukr['date_col'].max().date()\n",
        "              )\n",
        "    ]),\n",
        "\n",
        "     dbc.Row([\n",
        "              dbc.Col(dcc.Graph(id='line-graph-ukr'), \n",
        "                      )\n",
        "     ]),\n",
        "\n",
        "    dbc.Row([\n",
        "              dbc.Col(dcc.Graph(id='line-graph-rus'), \n",
        "                      )\n",
        "     ])\n",
        "\n",
        "    ])\n",
        "\n",
        "# Dashboard back end\n",
        "@app.callback(\n",
        "    Output('line-graph-ukr', 'figure'),\n",
        "    Output('line-graph-rus', 'figure'),\n",
        "    Input('date-range', 'start_date'),\n",
        "    Input('date-range', 'end_date')   \n",
        ")\n",
        "def update_output(start_date, end_date):\n",
        "    mask_ukr = (df_ukr['date_col'] >= start_date) & (df_ukr['date_col'] <= end_date)\n",
        "    mask_rus = (df_rus['date_col'] >= start_date) & (df_rus['date_col'] <= end_date)\n",
        "\n",
        "    df_ukr_filtered = df_ukr.loc[mask_ukr]\n",
        "    df_rus_filtered = df_rus.loc[mask_rus]\n",
        "    \n",
        "    line_fig_ukr = px.line(df_ukr_filtered, x=\"date_col\", y=\"Value\", \n",
        "                     color='Series', title=\"Coverage of Ukranian Keywords\")\n",
        "    line_fig_rus = px.line(df_rus_filtered, x='date_col', y='Value', \n",
        "                     color='Series', title=\"Coverage of Russian Keywords\")\n",
        "\n",
        "    line_fig_ukr.update_layout(\n",
        "                   xaxis_title='Date',\n",
        "                   yaxis_title='Percentage of Airtime')\n",
        "    \n",
        "    line_fig_rus.update_layout(\n",
        "                   xaxis_title='Date',\n",
        "                   yaxis_title='Percentage of Airtime')\n",
        "\n",
        "    line_fig_ukr.update_xaxes(tickformat=\"%b %d<br>%Y\")\n",
        "    line_fig_rus.update_xaxes(tickformat=\"%b %d<br>%Y\")\n",
        "    \n",
        "    return line_fig_ukr, line_fig_rus"
      ],
      "metadata": {
        "id": "MFmK9eXCMxaS"
      },
      "execution_count": 23,
      "outputs": []
    },
    {
      "cell_type": "code",
      "source": [
        "# Show dashboard inside the notebook\n",
        "app.run_server(debug=True, mode=\"inline\")"
      ],
      "metadata": {
        "colab": {
          "base_uri": "https://localhost:8080/",
          "height": 671
        },
        "id": "1rRCxeW7Uu2O",
        "outputId": "c7c43a29-2d5e-41b4-8a56-88416adb5df9"
      },
      "execution_count": 24,
      "outputs": [
        {
          "output_type": "display_data",
          "data": {
            "text/plain": [
              "<IPython.core.display.Javascript object>"
            ],
            "application/javascript": [
              "(async (port, path, width, height, cache, element) => {\n",
              "    if (!google.colab.kernel.accessAllowed && !cache) {\n",
              "      return;\n",
              "    }\n",
              "    element.appendChild(document.createTextNode(''));\n",
              "    const url = await google.colab.kernel.proxyPort(port, {cache});\n",
              "    const iframe = document.createElement('iframe');\n",
              "    iframe.src = new URL(path, url).toString();\n",
              "    iframe.height = height;\n",
              "    iframe.width = width;\n",
              "    iframe.style.border = 0;\n",
              "    iframe.allow = [\n",
              "        'accelerometer',\n",
              "        'autoplay',\n",
              "        'camera',\n",
              "        'clipboard-read',\n",
              "        'clipboard-write',\n",
              "        'gyroscope',\n",
              "        'magnetometer',\n",
              "        'microphone',\n",
              "        'serial',\n",
              "        'usb',\n",
              "        'xr-spatial-tracking',\n",
              "    ].join('; ');\n",
              "    element.appendChild(iframe);\n",
              "  })(8050, \"/\", \"100%\", 650, false, window.element)"
            ]
          },
          "metadata": {}
        }
      ]
    },
    {
      "cell_type": "code",
      "source": [
        "# Show dashboard in browser (in a separate window)\n",
        "app.run_server(debug=True)"
      ],
      "metadata": {
        "id": "ZUqHtfjdZAHq",
        "colab": {
          "base_uri": "https://localhost:8080/",
          "height": 52
        },
        "outputId": "47d01674-52bc-4d4a-9fa2-d8b9f489a19f"
      },
      "execution_count": null,
      "outputs": [
        {
          "output_type": "stream",
          "name": "stdout",
          "text": [
            "Dash app running on:\n"
          ]
        },
        {
          "output_type": "display_data",
          "data": {
            "text/plain": [
              "<IPython.core.display.Javascript object>"
            ],
            "application/javascript": [
              "(async (port, path, text, element) => {\n",
              "    if (!google.colab.kernel.accessAllowed) {\n",
              "      return;\n",
              "    }\n",
              "    element.appendChild(document.createTextNode(''));\n",
              "    const url = await google.colab.kernel.proxyPort(port);\n",
              "    const anchor = document.createElement('a');\n",
              "    anchor.href = new URL(path, url).toString();\n",
              "    anchor.target = '_blank';\n",
              "    anchor.setAttribute('data-href', url + path);\n",
              "    anchor.textContent = text;\n",
              "    element.appendChild(anchor);\n",
              "  })(8050, \"/\", \"http://127.0.0.1:8050/\", window.element)"
            ]
          },
          "metadata": {}
        }
      ]
    },
    {
      "cell_type": "code",
      "source": [
        "!python --version"
      ],
      "metadata": {
        "id": "Xt9lRbRVY_uZ",
        "colab": {
          "base_uri": "https://localhost:8080/"
        },
        "outputId": "617027b9-33ee-4796-82a0-f38fe9b7dacd"
      },
      "execution_count": null,
      "outputs": [
        {
          "output_type": "stream",
          "name": "stdout",
          "text": [
            "Python 3.7.13\n"
          ]
        }
      ]
    },
    {
      "cell_type": "markdown",
      "source": [
        "# In lesson form (rough)\n",
        "11/28/2022"
      ],
      "metadata": {
        "id": "Kw3DeGLFPz7c"
      }
    },
    {
      "cell_type": "markdown",
      "source": [
        "# Title: Creat a Dashboard for Interactive Data Visualization with Dash in Python"
      ],
      "metadata": {
        "id": "IbJr4GycNaPw"
      }
    },
    {
      "cell_type": "markdown",
      "source": [
        "## Contents\n",
        "  * [Introduction](#introduction)\n",
        "  * [Lesson Goals](#lesson-goals)\n",
        "  * [A Research Question for Demonstration](#research-question)\n",
        "  * [Dataset](#dataset)\n",
        "  * [Prepare for the Lesson](#prepare-for-the-lesson)\n",
        "    * Prerequisites\n",
        "    * Create a Virtual Environment\n",
        "    * Install Libraries\n",
        "  * [An Idea of a Simple Dashboard](#dashboard-idea)\n",
        "  * [Coding the Dashboard](#coding-dashboard)\n",
        "  * [Deploying the Dashboard](#deploying-dashboard)\n",
        "  * [Conclusion](#conclusion)\n",
        "\n"
      ],
      "metadata": {
        "id": "o5ku10F5S_eL"
      }
    },
    {
      "cell_type": "markdown",
      "source": [
        "## Introduction\n",
        "\n",
        "To advance open scholarship in humanities, it is important to make the research output more accessible to other scholars and the general public. It would be beneficial for scholars to explore ways to better engage with a broader audience. Creating a web-based interactive dashboard to visualize data has become a popular method nowadays to achieve this goal. The current lesson will walk you through the process of creating an interactive dashboard using the latest data from a publicly available dataset using the Dash library in Python. For demonstration, this lesson uses a research question in the field of media studies: How do the U.S. television stations cover the war in Ukraine. The dataset used in this lesson is a publicly available data of transcription texts of television news.\n",
        "\n",
        "This lesson contributes to the existing Programming Historian lessons by adding a tutorial focused on creating an interactive web-based dashboard in Python ([see a similar English lesson focused on using Shiny in R](https://programminghistorian.org/en/lessons/shiny-leaflet-newspaper-map-tutorial))."
      ],
      "metadata": {
        "id": "73ChAowBOTj2"
      }
    },
    {
      "cell_type": "markdown",
      "source": [
        "## Lesson Goals\n",
        "You will learn how to:\n",
        "  * Retrieve latest data using [Application Programming Interface (API)](https://en.wikipedia.org/wiki/API)\n",
        "  * Create the frontend of dashboard that determines how it looks\n",
        "  * Create the backend of dashboard that determines how users interact with it\n",
        "  * Deploy dashboard onto the web using a free service\n",
        "\n",
        "Other essential steps such as installing necessary libraries, setting up a [virtual environment](https://docs.python.org/3/library/venv.html#venv-def), and manipulating the downloaded data will be included when appropriate as well."
      ],
      "metadata": {
        "id": "bBJK3031M-vl"
      }
    },
    {
      "cell_type": "markdown",
      "source": [
        "## A Research Question for Demonstration\n",
        "The research question in this lesson is whether the U.S. television stations have covered the war in Ukraine in a balance way. One way to address this research question is to compare whether the stations have mentioned the keywords related to Ukraine as frequently as the keywords related to Russia. Further, we want to compare the coverage frequency among some major stations.  "
      ],
      "metadata": {
        "id": "iLmiQG71oN2k"
      }
    },
    {
      "cell_type": "markdown",
      "source": [
        "## Dataset\n",
        "To answer the research question, this lesson uses a free and open dataset from the Internet Archive's [Television Explorer](https://blog.archive.org/2016/12/20/new-research-tool-for-visualizing-two-million-hours-of-television-news/). This dataset tracks how much airtime of news coverage television stations include certain keywords at the resolution of 15 seconds. The keyword searches are based on the text of closed captioning. The tool that will be used to retrieve the data is the [2.0 TV API](https://blog.gdeltproject.org/gdelt-2-0-television-api-debuts/) made available by the Global Database of Events, Language and Tone (GDELT)."
      ],
      "metadata": {
        "id": "DXUH8wUD16F3"
      }
    },
    {
      "cell_type": "markdown",
      "source": [
        "## Prepare for the Lesson"
      ],
      "metadata": {
        "id": "TozEnVv-SWFT"
      }
    },
    {
      "cell_type": "markdown",
      "source": [
        "### Prerequisites\n",
        "  * Python 3 (3.7.13 or later). See [Mac Installation](https://programminghistorian.org/lessons/mac-installation), [Windows Installation](https://programminghistorian.org/lessons/windows-installation), or [Linux Installation](https://programminghistorian.org/lessons/linux-installation)\n",
        "  * Command line. For introductions, see [Windows here](https://programminghistorian.org/en/lessons/intro-to-powershell) and [macOS/Linux here](https://programminghistorian.org/en/lessons/intro-to-bash)\n",
        "  * A text editor (e.g., Atom, Visual Studio Code) to write Python code\n",
        "  * A web browser\n",
        "\n",
        "Optional: Jupyter Notebook. If you prefer to run the code example in Jupyter Notebook, you'll need to install it (described later)."
      ],
      "metadata": {
        "id": "rjbccpChV6ym"
      }
    },
    {
      "cell_type": "markdown",
      "source": [
        "### Create a Virtual Environment\n",
        "To avoid conflicts in library versions among multiple Python projects, it is a common good practice to create a virtual environment for each project. We will do so for this lesson.\n",
        "\n",
        "There are several ways to create a virtual environment. One way is to use `conda` ([see this lesson for more details](https://programminghistorian.org/en/lessons/visualizing-with-bokeh#prerequisites)). This is a good option if you are already using [Anaconda](https://docs.conda.io/projects/conda/en/latest/glossary.html?highlight=anaconda#anaconda) for more data-science-oriented projects. Assuming that you are starting fresh, it would be more appropriate to go for a more lightweight method by using [virtualenv](https://virtualenv.pypa.io/en/latest/). To install, open a command line window and run `pip install virtualenv`.\n",
        "\n",
        "Next, create a folder at your preferred location for the current lesson and name it *ph-dash*. In your command line, navigate to the *ph-dash* directory. To create a virtual environment called *venv*, run `virtualenv venv`. Then, you need to activate the virtual environment by running:\n",
        "\n",
        "    venv\\Scripts\\activate # For Windows\n",
        "    source venv/bin/activate # For macOS/Linux\n",
        "\n",
        "If properly executed, you will see a pair of parentheses around *venv*, the name of the created virtual environment, at the start of the current line in your command line window. Now, you are in an isolated development environment with a specific version of Python and a specific list of libraries with their specific versions. To demonstrate the idea, within the virtual environment just activated, if you run `pip list` to get a list of the libraries currently installed under the *venv* environment, you will not see the virtualenv library. The reason is that we installed this library a moment ago system-wide, but now we are in an isolated virtual environment. When you are done writing code, to deactivate, just run `deactivate`."
      ],
      "metadata": {
        "id": "RDsHazxgVSsH"
      }
    },
    {
      "cell_type": "markdown",
      "source": [
        "### Install Libraries\n",
        "Once our virtual environment is set up, we are ready to install several third-party libraries needed for the current lesson. With the virtual environment still in the activated mode, run `pip install requests pandas dash dash_bootstrap_components`."
      ],
      "metadata": {
        "id": "0fgRjKLzkyop"
      }
    },
    {
      "cell_type": "markdown",
      "source": [
        "## An Idea of a Simple Dashboard\n",
        "To address the research question, we can envision a dashboard where there are two line graphs, one showing the trend of Russia-related terms and the other for the trend of Ukriane-related terms mentioned by television networks. More specifically, in either of the line graph, the y-axis represents the relative frequency of key terms mentioned by a certain national station, and the x-axis represents dates. In addition, there are multiple lines, each representing one station. A basic interactive component is a date-range selector that users can use to specify a range of dates, and the line graphs will be updated upon selection.\n"
      ],
      "metadata": {
        "id": "W9ObGaJdsWZf"
      }
    },
    {
      "cell_type": "markdown",
      "source": [
        "## Coding the Dashboard"
      ],
      "metadata": {
        "id": "rYoXTNPqrBSP"
      }
    },
    {
      "cell_type": "markdown",
      "source": [
        "### Import Libraries"
      ],
      "metadata": {
        "id": "EhVkee45rQD4"
      }
    },
    {
      "cell_type": "code",
      "source": [
        "import datetime\n",
        "import requests\n",
        "import pandas as pd\n",
        "from io import StringIO\n",
        "from datetime import date\n",
        "import dash\n",
        "from jupyter_dash import JupyterDash\n",
        "from dash import dcc\n",
        "from dash import html\n",
        "from dash.dependencies import Input, Output, State\n",
        "import dash_bootstrap_components as dbc\n",
        "import plotly.express as px"
      ],
      "metadata": {
        "id": "RBB2W02wQDUA"
      },
      "execution_count": 25,
      "outputs": []
    },
    {
      "cell_type": "markdown",
      "source": [
        "### Retrieve Data Using API"
      ],
      "metadata": {
        "id": "O81T4OidrT-h"
      }
    },
    {
      "cell_type": "code",
      "source": [
        "today = date.today()\n",
        "today_str = today.strftime(\"%Y%m%d\")\n",
        "start_day = today - datetime.timedelta(60)\n",
        "start_day_str = start_day.strftime(\"%Y%m%d\")"
      ],
      "metadata": {
        "id": "m9jav932QDKm"
      },
      "execution_count": 26,
      "outputs": []
    },
    {
      "cell_type": "markdown",
      "source": [
        "Code explanation: We first define a range of dates for the complete dataset we want to retrieve using the API. The goal here is to create two string objects: `today_str` and `start_day_str`. Note that here we restrict the range to be 60 days for demonstration purpose only.\n",
        "\n"
      ],
      "metadata": {
        "id": "P4zhn4XHuVVP"
      }
    },
    {
      "cell_type": "code",
      "source": [
        "query_url_ukr = f\"https://api.gdeltproject.org/api/v2/tv/tv?query=(ukraine%20OR%20ukrainian%20OR%20zelenskyy%20OR%20zelensky%20OR%20kiev)%20market:%22National%22&mode=timelinevol&format=html&datanorm=perc&format=csv&timelinesmooth=5&datacomb=sep&timezoom=yes&STARTDATETIME={start_day_str}120000&ENDDATETIME={today_str}120000\""
      ],
      "metadata": {
        "id": "bpMboAFYv1Ey"
      },
      "execution_count": 28,
      "outputs": []
    },
    {
      "cell_type": "code",
      "source": [
        "query_url_rus = f\"https://api.gdeltproject.org/api/v2/tv/tv?query=(kremlin%20OR%20russia%20OR%20putin%20OR%20moscow%20OR%20russian)%20market:%22National%22&mode=timelinevol&format=html&datanorm=perc&format=csv&timelinesmooth=5&datacomb=sep&timezoom=yes&STARTDATETIME={start_day_str}120000&ENDDATETIME={today_str}120000\""
      ],
      "metadata": {
        "id": "s2YIkQKQv1E3"
      },
      "execution_count": 29,
      "outputs": []
    },
    {
      "cell_type": "markdown",
      "source": [
        "Code explanation: We create two string objects for query: one for Ukraine-related terms and one for Russia-related terms. The parameters to be specified include keywords, geographic market, output mode, output format, range of dates, etc. See [this documentation](https://blog.gdeltproject.org/gdelt-2-0-television-api-debuts/) for a complete description of query parameters. "
      ],
      "metadata": {
        "id": "1npBOgbEv409"
      }
    },
    {
      "cell_type": "code",
      "source": [
        "def to_df(queryurl):\n",
        "  response = requests.get(queryurl)\n",
        "  content_text = StringIO(response.content.decode('utf-8'))\n",
        "  df = pd.read_csv(content_text)\n",
        "  return df"
      ],
      "metadata": {
        "id": "I-5TnQJkyuIW"
      },
      "execution_count": null,
      "outputs": []
    },
    {
      "cell_type": "markdown",
      "source": [
        "Code explanation: Now we use the `requests` library to execute the queries and transform the query results into a `pandas` dataframe. To do this, we create a function called `to_df()` to streamline the workflow."
      ],
      "metadata": {
        "id": "qRxIHn2py1Zz"
      }
    },
    {
      "cell_type": "code",
      "source": [
        "df_ukr = to_df(query_url_ukr)"
      ],
      "metadata": {
        "id": "2VbbFilTv1E3"
      },
      "execution_count": 31,
      "outputs": []
    },
    {
      "cell_type": "code",
      "source": [
        "df_rus = to_df(query_url_rus)"
      ],
      "metadata": {
        "id": "l5J65PMov1E3"
      },
      "execution_count": 32,
      "outputs": []
    },
    {
      "cell_type": "code",
      "source": [
        "# Take a look at the retrieved dataframe\n",
        "df_ukr.head()"
      ],
      "metadata": {
        "colab": {
          "base_uri": "https://localhost:8080/",
          "height": 206
        },
        "id": "xb8M76LJzhXk",
        "outputId": "05cee701-ac31-41ac-a177-634bcb54430d"
      },
      "execution_count": 33,
      "outputs": [
        {
          "output_type": "execute_result",
          "data": {
            "text/plain": [
              "  Date (Daily +00:00: 09/30/2022 - 11/27/2022)     Series   Value\n",
              "0                                   2022-10-04  BLOOMBERG  1.5418\n",
              "1                                   2022-10-05  BLOOMBERG  1.4015\n",
              "2                                   2022-10-06  BLOOMBERG  1.6101\n",
              "3                                   2022-10-07  BLOOMBERG  1.6264\n",
              "4                                   2022-10-08  BLOOMBERG  1.1735"
            ],
            "text/html": [
              "\n",
              "  <div id=\"df-4dfc0521-7fc2-4621-97bc-4e1720da45dd\">\n",
              "    <div class=\"colab-df-container\">\n",
              "      <div>\n",
              "<style scoped>\n",
              "    .dataframe tbody tr th:only-of-type {\n",
              "        vertical-align: middle;\n",
              "    }\n",
              "\n",
              "    .dataframe tbody tr th {\n",
              "        vertical-align: top;\n",
              "    }\n",
              "\n",
              "    .dataframe thead th {\n",
              "        text-align: right;\n",
              "    }\n",
              "</style>\n",
              "<table border=\"1\" class=\"dataframe\">\n",
              "  <thead>\n",
              "    <tr style=\"text-align: right;\">\n",
              "      <th></th>\n",
              "      <th>Date (Daily +00:00: 09/30/2022 - 11/27/2022)</th>\n",
              "      <th>Series</th>\n",
              "      <th>Value</th>\n",
              "    </tr>\n",
              "  </thead>\n",
              "  <tbody>\n",
              "    <tr>\n",
              "      <th>0</th>\n",
              "      <td>2022-10-04</td>\n",
              "      <td>BLOOMBERG</td>\n",
              "      <td>1.5418</td>\n",
              "    </tr>\n",
              "    <tr>\n",
              "      <th>1</th>\n",
              "      <td>2022-10-05</td>\n",
              "      <td>BLOOMBERG</td>\n",
              "      <td>1.4015</td>\n",
              "    </tr>\n",
              "    <tr>\n",
              "      <th>2</th>\n",
              "      <td>2022-10-06</td>\n",
              "      <td>BLOOMBERG</td>\n",
              "      <td>1.6101</td>\n",
              "    </tr>\n",
              "    <tr>\n",
              "      <th>3</th>\n",
              "      <td>2022-10-07</td>\n",
              "      <td>BLOOMBERG</td>\n",
              "      <td>1.6264</td>\n",
              "    </tr>\n",
              "    <tr>\n",
              "      <th>4</th>\n",
              "      <td>2022-10-08</td>\n",
              "      <td>BLOOMBERG</td>\n",
              "      <td>1.1735</td>\n",
              "    </tr>\n",
              "  </tbody>\n",
              "</table>\n",
              "</div>\n",
              "      <button class=\"colab-df-convert\" onclick=\"convertToInteractive('df-4dfc0521-7fc2-4621-97bc-4e1720da45dd')\"\n",
              "              title=\"Convert this dataframe to an interactive table.\"\n",
              "              style=\"display:none;\">\n",
              "        \n",
              "  <svg xmlns=\"http://www.w3.org/2000/svg\" height=\"24px\"viewBox=\"0 0 24 24\"\n",
              "       width=\"24px\">\n",
              "    <path d=\"M0 0h24v24H0V0z\" fill=\"none\"/>\n",
              "    <path d=\"M18.56 5.44l.94 2.06.94-2.06 2.06-.94-2.06-.94-.94-2.06-.94 2.06-2.06.94zm-11 1L8.5 8.5l.94-2.06 2.06-.94-2.06-.94L8.5 2.5l-.94 2.06-2.06.94zm10 10l.94 2.06.94-2.06 2.06-.94-2.06-.94-.94-2.06-.94 2.06-2.06.94z\"/><path d=\"M17.41 7.96l-1.37-1.37c-.4-.4-.92-.59-1.43-.59-.52 0-1.04.2-1.43.59L10.3 9.45l-7.72 7.72c-.78.78-.78 2.05 0 2.83L4 21.41c.39.39.9.59 1.41.59.51 0 1.02-.2 1.41-.59l7.78-7.78 2.81-2.81c.8-.78.8-2.07 0-2.86zM5.41 20L4 18.59l7.72-7.72 1.47 1.35L5.41 20z\"/>\n",
              "  </svg>\n",
              "      </button>\n",
              "      \n",
              "  <style>\n",
              "    .colab-df-container {\n",
              "      display:flex;\n",
              "      flex-wrap:wrap;\n",
              "      gap: 12px;\n",
              "    }\n",
              "\n",
              "    .colab-df-convert {\n",
              "      background-color: #E8F0FE;\n",
              "      border: none;\n",
              "      border-radius: 50%;\n",
              "      cursor: pointer;\n",
              "      display: none;\n",
              "      fill: #1967D2;\n",
              "      height: 32px;\n",
              "      padding: 0 0 0 0;\n",
              "      width: 32px;\n",
              "    }\n",
              "\n",
              "    .colab-df-convert:hover {\n",
              "      background-color: #E2EBFA;\n",
              "      box-shadow: 0px 1px 2px rgba(60, 64, 67, 0.3), 0px 1px 3px 1px rgba(60, 64, 67, 0.15);\n",
              "      fill: #174EA6;\n",
              "    }\n",
              "\n",
              "    [theme=dark] .colab-df-convert {\n",
              "      background-color: #3B4455;\n",
              "      fill: #D2E3FC;\n",
              "    }\n",
              "\n",
              "    [theme=dark] .colab-df-convert:hover {\n",
              "      background-color: #434B5C;\n",
              "      box-shadow: 0px 1px 3px 1px rgba(0, 0, 0, 0.15);\n",
              "      filter: drop-shadow(0px 1px 2px rgba(0, 0, 0, 0.3));\n",
              "      fill: #FFFFFF;\n",
              "    }\n",
              "  </style>\n",
              "\n",
              "      <script>\n",
              "        const buttonEl =\n",
              "          document.querySelector('#df-4dfc0521-7fc2-4621-97bc-4e1720da45dd button.colab-df-convert');\n",
              "        buttonEl.style.display =\n",
              "          google.colab.kernel.accessAllowed ? 'block' : 'none';\n",
              "\n",
              "        async function convertToInteractive(key) {\n",
              "          const element = document.querySelector('#df-4dfc0521-7fc2-4621-97bc-4e1720da45dd');\n",
              "          const dataTable =\n",
              "            await google.colab.kernel.invokeFunction('convertToInteractive',\n",
              "                                                     [key], {});\n",
              "          if (!dataTable) return;\n",
              "\n",
              "          const docLinkHtml = 'Like what you see? Visit the ' +\n",
              "            '<a target=\"_blank\" href=https://colab.research.google.com/notebooks/data_table.ipynb>data table notebook</a>'\n",
              "            + ' to learn more about interactive tables.';\n",
              "          element.innerHTML = '';\n",
              "          dataTable['output_type'] = 'display_data';\n",
              "          await google.colab.output.renderOutput(dataTable, element);\n",
              "          const docLink = document.createElement('div');\n",
              "          docLink.innerHTML = docLinkHtml;\n",
              "          element.appendChild(docLink);\n",
              "        }\n",
              "      </script>\n",
              "    </div>\n",
              "  </div>\n",
              "  "
            ]
          },
          "metadata": {},
          "execution_count": 33
        }
      ]
    },
    {
      "cell_type": "markdown",
      "source": [
        "So now we have two dataframes: one for Ukraine and one for Russia. In either, there are three columns: date, station, and relative frequency of keyword mentions (from left to right).\n",
        "\n"
      ],
      "metadata": {
        "id": "xPm_prsczqyo"
      }
    },
    {
      "cell_type": "markdown",
      "source": [
        "### Clean Data for Further Use"
      ],
      "metadata": {
        "id": "lYfDFqyp0QJu"
      }
    },
    {
      "cell_type": "code",
      "source": [
        "# Rename the first column to something shorter for convenience\n",
        "df_ukr = df_ukr.rename(columns={df_ukr.columns[0]: \"date_col\"})\n",
        "df_rus = df_rus.rename(columns={df_rus.columns[0]: \"date_col\"})"
      ],
      "metadata": {
        "id": "6HC5oLF2v1E3"
      },
      "execution_count": 34,
      "outputs": []
    },
    {
      "cell_type": "code",
      "source": [
        "# Transform the first column to the datetime format\n",
        "df_ukr['date_col'] = pd.to_datetime(df_ukr['date_col'])\n",
        "df_rus['date_col'] = pd.to_datetime(df_rus['date_col'])"
      ],
      "metadata": {
        "id": "eKuH6_lbv1E3"
      },
      "execution_count": 35,
      "outputs": []
    },
    {
      "cell_type": "code",
      "source": [
        "# Select three stations for comparison\n",
        "# CNN: Presumed to represent an ideological middle ground\n",
        "# FOXNEWS: Presumed to represent the ideological conservative\n",
        "# MSNBC: Presumed to represent the ideological liberal\n",
        "df_rus = df_rus[[x in ['CNN', 'FOXNEWS', 'MSNBC'] for x in df_rus.Series]]\n",
        "df_ukr = df_ukr[[x in ['CNN', 'FOXNEWS', 'MSNBC'] for x in df_ukr.Series]]"
      ],
      "metadata": {
        "id": "c2IPp3rLv1E4"
      },
      "execution_count": 40,
      "outputs": []
    },
    {
      "cell_type": "markdown",
      "source": [
        "### Initiate a Dashboard Instance\n",
        "\n"
      ],
      "metadata": {
        "id": "oDjUDl6DvWTf"
      }
    },
    {
      "cell_type": "code",
      "source": [
        "app = dash.Dash(__name__, external_stylesheets=[dbc.themes.LITERA])\n",
        "server = app.server"
      ],
      "metadata": {
        "id": "-4iYibplvWb3"
      },
      "execution_count": 46,
      "outputs": []
    },
    {
      "cell_type": "markdown",
      "source": [
        "Code explanation: This is just the formalities of creating a dashboard. To use a template that controls how our dashboard will look, we use the LITERA theme from [Dash Bootstrap Components](https://dash-bootstrap-components.opensource.faculty.ai/)(`dbc`). You can choose any theme you prefer from [this list](https://dash-bootstrap-components.opensource.faculty.ai/docs/themes/).  "
      ],
      "metadata": {
        "id": "0xhsGUXdvWiq"
      }
    },
    {
      "cell_type": "markdown",
      "source": [
        "### Coding the Frontend"
      ],
      "metadata": {
        "id": "C4f5HJHXvWzf"
      }
    },
    {
      "cell_type": "code",
      "source": [
        "app.layout = dbc.Container(\n",
        "    [   dbc.Row([ # row 1\n",
        "        dbc.Col([html.H1('US National Television News Coverage of the War in Ukraine')],\n",
        "        className=\"text-center mt-3 mb-1\")\n",
        "    ]\n",
        "    ),\n",
        "        dbc.Row([ # row 2\n",
        "            dbc.Label(\"Select a date range:\", className=\"fw-bold\")\n",
        "    ]),\n",
        "    \n",
        "     dbc.Row([ # row 3\n",
        "              dcc.DatePickerRange(\n",
        "                id='date-range',\n",
        "                min_date_allowed=df_ukr['date_col'].min().date(),\n",
        "                max_date_allowed=df_ukr['date_col'].max().date(),\n",
        "                initial_visible_month=df_ukr['date_col'].min().date(),\n",
        "                start_date=df_ukr['date_col'].min().date(),\n",
        "                end_date=df_ukr['date_col'].max().date()\n",
        "              )\n",
        "    ]),\n",
        "\n",
        "     dbc.Row([ # row 4\n",
        "              dbc.Col(dcc.Graph(id='line-graph-ukr'), \n",
        "                      )\n",
        "     ]),\n",
        "\n",
        "    dbc.Row([ # row 5\n",
        "              dbc.Col(dcc.Graph(id='line-graph-rus'), \n",
        "                      )\n",
        "     ])\n",
        "\n",
        "    ])"
      ],
      "metadata": {
        "id": "JJhCgd_PvWsA"
      },
      "execution_count": 58,
      "outputs": []
    },
    {
      "cell_type": "markdown",
      "source": [
        "Code explanation: Here, we need to think about the dashboard layout as a grid with rows and columns. In our dashboard, we have five rows from top to bottom: title, instruction text for the date-range selector, data-range selector, the first line graph, and the second line graph. If you want to add columns within a row, you can easily do so by nesting two `dbc.Col` components under the same `dbc.Row` component. Below is an example of placing the two line graphs side by side on the same row:"
      ],
      "metadata": {
        "id": "q0kG7yOZOw2k"
      }
    },
    {
      "cell_type": "code",
      "source": [
        "dbc.Row([\n",
        "          dbc.Col(dcc.Graph(id='line-graph-ukr'), \n",
        "                  ),\n",
        "          dbc.Col(dcc.Graph(id='line-graph-rus'), \n",
        "                  )\n",
        "  ])"
      ],
      "metadata": {
        "id": "ixowlCrcP5fQ"
      },
      "execution_count": 56,
      "outputs": []
    },
    {
      "cell_type": "markdown",
      "source": [
        "Also important to note in the frontend code above is that we explicitly give names to those components that are involved in user interaction. In our case, we have three such components: the data-range selector as input and the two line graphs as output (i.e., reacting to any update in the date-range selector triggered by a user). The names of these components are created using the `id` parameter. These names are very important when we code the backend."
      ],
      "metadata": {
        "id": "E2n-twuZVu5I"
      }
    },
    {
      "cell_type": "markdown",
      "source": [
        "### Coding the Backend"
      ],
      "metadata": {
        "id": "2g9sHVW5UIJb"
      }
    },
    {
      "cell_type": "code",
      "source": [
        "# callback decorator\n",
        "@app.callback(\n",
        "    Output('line-graph-ukr', 'figure'),\n",
        "    Output('line-graph-rus', 'figure'),\n",
        "    Input('date-range', 'start_date'),\n",
        "    Input('date-range', 'end_date')   \n",
        ")\n",
        "\n",
        "# callback function\n",
        "def update_output(start_date, end_date):\n",
        "    # filter dataframes based on updated data range\n",
        "    mask_ukr = (df_ukr['date_col'] >= start_date) & (df_ukr['date_col'] <= end_date)\n",
        "    mask_rus = (df_rus['date_col'] >= start_date) & (df_rus['date_col'] <= end_date)\n",
        "    df_ukr_filtered = df_ukr.loc[mask_ukr]\n",
        "    df_rus_filtered = df_rus.loc[mask_rus]\n",
        "    \n",
        "    # create line graphs based on filtered dataframes\n",
        "    line_fig_ukr = px.line(df_ukr_filtered, x=\"date_col\", y=\"Value\", \n",
        "                     color='Series', title=\"Coverage of Ukranian Keywords\")\n",
        "    line_fig_rus = px.line(df_rus_filtered, x='date_col', y='Value', \n",
        "                     color='Series', title=\"Coverage of Russian Keywords\")\n",
        "\n",
        "    # set x-axis title and y-axis title in line graphs \n",
        "    line_fig_ukr.update_layout(\n",
        "                   xaxis_title='Date',\n",
        "                   yaxis_title='Percentage of Airtime')\n",
        "    line_fig_rus.update_layout(\n",
        "                   xaxis_title='Date',\n",
        "                   yaxis_title='Percentage of Airtime')\n",
        "    \n",
        "    # set label format on y-axis in line graphs \n",
        "    line_fig_ukr.update_xaxes(tickformat=\"%b %d<br>%Y\")\n",
        "    line_fig_rus.update_xaxes(tickformat=\"%b %d<br>%Y\")\n",
        "    \n",
        "    return line_fig_ukr, line_fig_rus"
      ],
      "metadata": {
        "id": "ZD0qsQyHQG0n"
      },
      "execution_count": 48,
      "outputs": []
    },
    {
      "cell_type": "markdown",
      "source": [
        "Code explanation: In the backend, the core concepts are *callback decorator* and *callback function*. In the above code, `@app.callback`, the callback decorator, defines which output variables and input variables are included in a user interaction. For example, remember that when we code the frontend, we name the line graph for Ukraine as 'line-graph-ukr'. Now we refer this name in one of our Output variable. The parameter 'figure' specifies which property of the referred component is updated when needed.<br>\n",
        "\n",
        "The callback function, `update_output()`, defines how the interaction occurs: The two line graphs are updated whenever the start date or the end date in the date-range selector is changed by a user. This is called *reactive programming*, similar to [the server logic used in R Shiny](https://programminghistorian.org/en/lessons/shiny-leaflet-newspaper-map-tutorial#shiny-and-reactive-programming). More detailed explanations are provided as comments in the above code. Note that the two returned objects (`line_fig_ukr` and `line_fig_rus`) should be ordered in the same way as how the output variables are ordered in the callback decorator (i.e., Ukraine's line graph goes first)."
      ],
      "metadata": {
        "id": "sglD9KqqUNKl"
      }
    },
    {
      "cell_type": "markdown",
      "source": [
        "### Testing the Dashboard"
      ],
      "metadata": {
        "id": "pIIVNR-Gsqn3"
      }
    },
    {
      "cell_type": "code",
      "source": [
        "app.run_server(debug=True)"
      ],
      "metadata": {
        "colab": {
          "base_uri": "https://localhost:8080/",
          "height": 52
        },
        "id": "-eek-i_fQfJW",
        "outputId": "1611cd29-d7a8-4ee6-df75-e121c10d2d9f"
      },
      "execution_count": 59,
      "outputs": [
        {
          "output_type": "stream",
          "name": "stdout",
          "text": [
            "Dash app running on:\n"
          ]
        },
        {
          "output_type": "display_data",
          "data": {
            "text/plain": [
              "<IPython.core.display.Javascript object>"
            ],
            "application/javascript": [
              "(async (port, path, text, element) => {\n",
              "    if (!google.colab.kernel.accessAllowed) {\n",
              "      return;\n",
              "    }\n",
              "    element.appendChild(document.createTextNode(''));\n",
              "    const url = await google.colab.kernel.proxyPort(port);\n",
              "    const anchor = document.createElement('a');\n",
              "    anchor.href = new URL(path, url).toString();\n",
              "    anchor.target = '_blank';\n",
              "    anchor.setAttribute('data-href', url + path);\n",
              "    anchor.textContent = text;\n",
              "    element.appendChild(anchor);\n",
              "  })(8050, \"/\", \"http://127.0.0.1:8050/\", window.element)"
            ]
          },
          "metadata": {}
        }
      ]
    },
    {
      "cell_type": "markdown",
      "source": [
        "Code explanation: Now we can run the above code to actually see and test the created dashboard. It is recommended to turn on the debug mode so that any errors can be looked into when needed."
      ],
      "metadata": {
        "id": "Ui_7gekgsxWe"
      }
    },
    {
      "cell_type": "markdown",
      "source": [
        "## Deploying the Dashboard (to be written)\n",
        "it looks like heroku doesn't host free apps no more, my plan is to explore [render](https://render.com/docs/deploy-flask).com [suggested by the dash community](https://community.plotly.com/t/heroku-alternatives/67399/5). "
      ],
      "metadata": {
        "id": "3JhHdDN_tdDk"
      }
    },
    {
      "cell_type": "markdown",
      "source": [
        "## Conclusion (to be written)\n"
      ],
      "metadata": {
        "id": "cBoa-y6WvHcl"
      }
    },
    {
      "cell_type": "markdown",
      "source": [
        "# ignore"
      ],
      "metadata": {
        "id": "GxDO2jMduLiP"
      }
    },
    {
      "cell_type": "code",
      "source": [
        "# Show dashboard inside the notebook\n",
        "app.run_server(debug=True, mode=\"inline\")"
      ],
      "metadata": {
        "colab": {
          "base_uri": "https://localhost:8080/",
          "height": 328
        },
        "id": "i2l_K1f7QTMF",
        "outputId": "3234aed1-abb7-4c14-f9b6-b2c348f489d3"
      },
      "execution_count": 43,
      "outputs": [
        {
          "output_type": "error",
          "ename": "TypeError",
          "evalue": "ignored",
          "traceback": [
            "\u001b[0;31m---------------------------------------------------------------------------\u001b[0m",
            "\u001b[0;31mTypeError\u001b[0m                                 Traceback (most recent call last)",
            "\u001b[0;32m<ipython-input-43-ad2a52c951e3>\u001b[0m in \u001b[0;36m<module>\u001b[0;34m\u001b[0m\n\u001b[1;32m      1\u001b[0m \u001b[0;31m# Show dashboard inside the notebook\u001b[0m\u001b[0;34m\u001b[0m\u001b[0;34m\u001b[0m\u001b[0;34m\u001b[0m\u001b[0m\n\u001b[0;32m----> 2\u001b[0;31m \u001b[0mapp\u001b[0m\u001b[0;34m.\u001b[0m\u001b[0mrun_server\u001b[0m\u001b[0;34m(\u001b[0m\u001b[0mdebug\u001b[0m\u001b[0;34m=\u001b[0m\u001b[0;32mTrue\u001b[0m\u001b[0;34m,\u001b[0m \u001b[0mmode\u001b[0m\u001b[0;34m=\u001b[0m\u001b[0;34m\"inline\"\u001b[0m\u001b[0;34m)\u001b[0m\u001b[0;34m\u001b[0m\u001b[0;34m\u001b[0m\u001b[0m\n\u001b[0m",
            "\u001b[0;32m/usr/local/lib/python3.7/dist-packages/dash/dash.py\u001b[0m in \u001b[0;36mrun_server\u001b[0;34m(self, *args, **kwargs)\u001b[0m\n\u001b[1;32m   2131\u001b[0m         \u001b[0mSee\u001b[0m\u001b[0;31m \u001b[0m\u001b[0;31m`\u001b[0m\u001b[0mapp\u001b[0m\u001b[0;34m.\u001b[0m\u001b[0mrun\u001b[0m\u001b[0;31m`\u001b[0m \u001b[0;32mfor\u001b[0m \u001b[0musage\u001b[0m \u001b[0minformation\u001b[0m\u001b[0;34m.\u001b[0m\u001b[0;34m\u001b[0m\u001b[0;34m\u001b[0m\u001b[0m\n\u001b[1;32m   2132\u001b[0m         \"\"\"\n\u001b[0;32m-> 2133\u001b[0;31m         \u001b[0mself\u001b[0m\u001b[0;34m.\u001b[0m\u001b[0mrun\u001b[0m\u001b[0;34m(\u001b[0m\u001b[0;34m*\u001b[0m\u001b[0margs\u001b[0m\u001b[0;34m,\u001b[0m \u001b[0;34m**\u001b[0m\u001b[0mkwargs\u001b[0m\u001b[0;34m)\u001b[0m\u001b[0;34m\u001b[0m\u001b[0;34m\u001b[0m\u001b[0m\n\u001b[0m",
            "\u001b[0;32m/usr/local/lib/python3.7/dist-packages/dash/dash.py\u001b[0m in \u001b[0;36mrun\u001b[0;34m(self, host, port, proxy, debug, dev_tools_ui, dev_tools_props_check, dev_tools_serve_dev_bundles, dev_tools_hot_reload, dev_tools_hot_reload_interval, dev_tools_hot_reload_watch_interval, dev_tools_hot_reload_max_retry, dev_tools_silence_routes_logging, dev_tools_prune_errors, **flask_run_options)\u001b[0m\n\u001b[1;32m   1978\u001b[0m                     \u001b[0mextra_files\u001b[0m\u001b[0;34m.\u001b[0m\u001b[0mappend\u001b[0m\u001b[0;34m(\u001b[0m\u001b[0mpath\u001b[0m\u001b[0;34m)\u001b[0m\u001b[0;34m\u001b[0m\u001b[0;34m\u001b[0m\u001b[0m\n\u001b[1;32m   1979\u001b[0m \u001b[0;34m\u001b[0m\u001b[0m\n\u001b[0;32m-> 1980\u001b[0;31m         \u001b[0mself\u001b[0m\u001b[0;34m.\u001b[0m\u001b[0mserver\u001b[0m\u001b[0;34m.\u001b[0m\u001b[0mrun\u001b[0m\u001b[0;34m(\u001b[0m\u001b[0mhost\u001b[0m\u001b[0;34m=\u001b[0m\u001b[0mhost\u001b[0m\u001b[0;34m,\u001b[0m \u001b[0mport\u001b[0m\u001b[0;34m=\u001b[0m\u001b[0mport\u001b[0m\u001b[0;34m,\u001b[0m \u001b[0mdebug\u001b[0m\u001b[0;34m=\u001b[0m\u001b[0mdebug\u001b[0m\u001b[0;34m,\u001b[0m \u001b[0;34m**\u001b[0m\u001b[0mflask_run_options\u001b[0m\u001b[0;34m)\u001b[0m\u001b[0;34m\u001b[0m\u001b[0;34m\u001b[0m\u001b[0m\n\u001b[0m\u001b[1;32m   1981\u001b[0m \u001b[0;34m\u001b[0m\u001b[0m\n\u001b[1;32m   1982\u001b[0m     \u001b[0;32mdef\u001b[0m \u001b[0m_import_layouts_from_pages\u001b[0m\u001b[0;34m(\u001b[0m\u001b[0mself\u001b[0m\u001b[0;34m)\u001b[0m\u001b[0;34m:\u001b[0m\u001b[0;34m\u001b[0m\u001b[0;34m\u001b[0m\u001b[0m\n",
            "\u001b[0;32m/usr/local/lib/python3.7/dist-packages/flask/app.py\u001b[0m in \u001b[0;36mrun\u001b[0;34m(self, host, port, debug, load_dotenv, **options)\u001b[0m\n\u001b[1;32m    988\u001b[0m \u001b[0;34m\u001b[0m\u001b[0m\n\u001b[1;32m    989\u001b[0m         \u001b[0;32mtry\u001b[0m\u001b[0;34m:\u001b[0m\u001b[0;34m\u001b[0m\u001b[0;34m\u001b[0m\u001b[0m\n\u001b[0;32m--> 990\u001b[0;31m             \u001b[0mrun_simple\u001b[0m\u001b[0;34m(\u001b[0m\u001b[0mhost\u001b[0m\u001b[0;34m,\u001b[0m \u001b[0mport\u001b[0m\u001b[0;34m,\u001b[0m \u001b[0mself\u001b[0m\u001b[0;34m,\u001b[0m \u001b[0;34m**\u001b[0m\u001b[0moptions\u001b[0m\u001b[0;34m)\u001b[0m\u001b[0;34m\u001b[0m\u001b[0;34m\u001b[0m\u001b[0m\n\u001b[0m\u001b[1;32m    991\u001b[0m         \u001b[0;32mfinally\u001b[0m\u001b[0;34m:\u001b[0m\u001b[0;34m\u001b[0m\u001b[0;34m\u001b[0m\u001b[0m\n\u001b[1;32m    992\u001b[0m             \u001b[0;31m# reset the first request information if the development server\u001b[0m\u001b[0;34m\u001b[0m\u001b[0;34m\u001b[0m\u001b[0;34m\u001b[0m\u001b[0m\n",
            "\u001b[0;31mTypeError\u001b[0m: run_simple() got an unexpected keyword argument 'mode'"
          ]
        }
      ]
    },
    {
      "cell_type": "code",
      "source": [
        "# Initiate a dashboard instance\n",
        "app = JupyterDash(__name__, external_stylesheets=[dbc.themes.LITERA])\n",
        "server = app.server\n",
        "\n",
        "# Dashboard front end\n",
        "app.layout = dbc.Container(\n",
        "    [   dbc.Row([\n",
        "        dbc.Col([html.H1('US National Television News Coverage of the War in Ukraine')],\n",
        "        #html.Hr()],\n",
        "        className=\"text-center mt-3 mb-1\")\n",
        "    ]\n",
        "    ),\n",
        "        dbc.Row([\n",
        "            dbc.Label(\"Select a date range:\", className=\"fw-bold\")\n",
        "    ]),\n",
        "    \n",
        "     dbc.Row([\n",
        "              dcc.DatePickerRange(\n",
        "                id='date-range',\n",
        "                min_date_allowed=df_ukr['date_col'].min().date(),\n",
        "                max_date_allowed=df_ukr['date_col'].max().date(),\n",
        "                initial_visible_month=df_ukr['date_col'].min().date(),\n",
        "                start_date=df_ukr['date_col'].min().date(),\n",
        "                end_date=df_ukr['date_col'].max().date()\n",
        "              )\n",
        "    ]),\n",
        "\n",
        "     dbc.Row([\n",
        "              dbc.Col(dcc.Graph(id='line-graph-ukr'), \n",
        "                      )\n",
        "     ]),\n",
        "\n",
        "    dbc.Row([\n",
        "              dbc.Col(dcc.Graph(id='line-graph-rus'), \n",
        "                      )\n",
        "     ])\n",
        "\n",
        "    ])\n",
        "\n",
        "# Dashboard back end\n",
        "@app.callback(\n",
        "    Output('line-graph-ukr', 'figure'),\n",
        "    Output('line-graph-rus', 'figure'),\n",
        "    Input('date-range', 'start_date'),\n",
        "    Input('date-range', 'end_date')   \n",
        ")\n",
        "def update_output(start_date, end_date):\n",
        "    mask_ukr = (df_ukr['date_col'] >= start_date) & (df_ukr['date_col'] <= end_date)\n",
        "    mask_rus = (df_rus['date_col'] >= start_date) & (df_rus['date_col'] <= end_date)\n",
        "\n",
        "    df_ukr_filtered = df_ukr.loc[mask_ukr]\n",
        "    df_rus_filtered = df_rus.loc[mask_rus]\n",
        "    \n",
        "    line_fig_ukr = px.line(df_ukr_filtered, x=\"date_col\", y=\"Value\", \n",
        "                     color='Series', title=\"Coverage of Ukranian Keywords\")\n",
        "    line_fig_rus = px.line(df_rus_filtered, x='date_col', y='Value', \n",
        "                     color='Series', title=\"Coverage of Russian Keywords\")\n",
        "\n",
        "    line_fig_ukr.update_layout(\n",
        "                   xaxis_title='Date',\n",
        "                   yaxis_title='Percentage of Airtime')\n",
        "    \n",
        "    line_fig_rus.update_layout(\n",
        "                   xaxis_title='Date',\n",
        "                   yaxis_title='Percentage of Airtime')\n",
        "\n",
        "    line_fig_ukr.update_xaxes(tickformat=\"%b %d<br>%Y\")\n",
        "    line_fig_rus.update_xaxes(tickformat=\"%b %d<br>%Y\")\n",
        "    \n",
        "    return line_fig_ukr, line_fig_rus"
      ],
      "metadata": {
        "id": "rAtbvFtDvW-E"
      },
      "execution_count": 52,
      "outputs": []
    },
    {
      "cell_type": "markdown",
      "source": [],
      "metadata": {
        "id": "HYctW3_bOsL8"
      }
    },
    {
      "cell_type": "markdown",
      "source": [],
      "metadata": {
        "id": "82Yv9wBQvXHw"
      }
    },
    {
      "cell_type": "code",
      "source": [
        "requests.get(queryurl)"
      ],
      "metadata": {
        "id": "nA-fXOYrQDFZ"
      },
      "execution_count": null,
      "outputs": []
    },
    {
      "cell_type": "code",
      "source": [
        "query_cheney = f\"https://api.gdeltproject.org/api/v2/tv/tv?query=(cheney%20%28context%3A%22nomination%22%20OR%20context%3A%22election%22%20OR%20context%3A%22presidential%22%29)%20market:%22National%22&mode=timelinevol&format=html&datanorm=perc&format=csv&timelinesmooth=5&datacomb=sep&timezoom=yes&STARTDATETIME=20220101120000&ENDDATETIME={today_str}120000\""
      ],
      "metadata": {
        "id": "dWUF1FkhQDC5"
      },
      "execution_count": null,
      "outputs": []
    },
    {
      "cell_type": "code",
      "source": [
        "query_cheney = f\"https://api.gdeltproject.org/api/v2/tv/tv?query=(cheney%20context:%22nomination%22%20OR%20context:%22election%22%20OR%20context:%22presidential%22)%20market:%22National%22&mode=timelinevol&format=html&datanorm=perc&format=csv&timelinesmooth=5&datacomb=sep&timezoom=yes&STARTDATETIME=20220101120000&ENDDATETIME={today_str}120000\""
      ],
      "metadata": {
        "id": "ZnC-4GSF8hgN"
      },
      "execution_count": null,
      "outputs": []
    },
    {
      "cell_type": "code",
      "source": [
        "query_cheney = f\"https://api.gdeltproject.org/api/v2/tv/tv?query=cheney%20(context:%22nomination%22%20OR%20context:%22election%22%20OR%20context:%22presidential%22)%20market:%22National%22&mode=timelinevol&format=html&datanorm=perc&format=csv&datacomb=sep&STARTDATETIME=20220101120000&ENDDATETIME={today_str}120000\""
      ],
      "metadata": {
        "id": "pxsI9x-CBHAd"
      },
      "execution_count": null,
      "outputs": []
    },
    {
      "cell_type": "code",
      "source": [
        "query_cheney_cnn = \"https://api.gdeltproject.org/api/v2/tv/tv?query=cheney%20(context:%22election%22%%20OR%20context:%22election%22%20OR%20context:%22presidential%22)%20network:CNN&mode=timelinevol&format=html&datanorm=perc&format=csv&datacomb=sep&STARTDATETIME=20220701120000&ENDDATETIME=20220710120000\""
      ],
      "metadata": {
        "id": "Zgfe385oDOnb"
      },
      "execution_count": null,
      "outputs": []
    },
    {
      "cell_type": "code",
      "source": [
        "df_cheney = to_df(query_cheney)"
      ],
      "metadata": {
        "id": "L1hj4YAOQDAj"
      },
      "execution_count": null,
      "outputs": []
    },
    {
      "cell_type": "code",
      "source": [
        "df_cheney_cnn = to_df(query_cheney_cnn)"
      ],
      "metadata": {
        "id": "4hgS-ZWcDiMs"
      },
      "execution_count": null,
      "outputs": []
    },
    {
      "cell_type": "code",
      "source": [
        "df_cheney_cnn"
      ],
      "metadata": {
        "colab": {
          "base_uri": "https://localhost:8080/",
          "height": 363
        },
        "id": "YdJ9EtVKDltX",
        "outputId": "e0b7e106-73e0-443e-f522-555de26b324b"
      },
      "execution_count": null,
      "outputs": [
        {
          "output_type": "execute_result",
          "data": {
            "text/plain": [
              "  Date (Daily +00:00: 07/01/2022 - 07/10/2022) Series   Value\n",
              "0                                   2022-07-01    CNN  0.5039\n",
              "1                                   2022-07-02    CNN  0.3875\n",
              "2                                   2022-07-03    CNN  0.2087\n",
              "3                                   2022-07-04    CNN  0.1099\n",
              "4                                   2022-07-05    CNN  0.0458\n",
              "5                                   2022-07-06    CNN  0.0458\n",
              "6                                   2022-07-07    CNN  0.0461\n",
              "7                                   2022-07-08    CNN  0.0452\n",
              "8                                   2022-07-09    CNN  0.0000\n",
              "9                                   2022-07-10    CNN  0.0681"
            ],
            "text/html": [
              "\n",
              "  <div id=\"df-0c49edad-84dd-49de-a3e2-46a4fced3abc\">\n",
              "    <div class=\"colab-df-container\">\n",
              "      <div>\n",
              "<style scoped>\n",
              "    .dataframe tbody tr th:only-of-type {\n",
              "        vertical-align: middle;\n",
              "    }\n",
              "\n",
              "    .dataframe tbody tr th {\n",
              "        vertical-align: top;\n",
              "    }\n",
              "\n",
              "    .dataframe thead th {\n",
              "        text-align: right;\n",
              "    }\n",
              "</style>\n",
              "<table border=\"1\" class=\"dataframe\">\n",
              "  <thead>\n",
              "    <tr style=\"text-align: right;\">\n",
              "      <th></th>\n",
              "      <th>Date (Daily +00:00: 07/01/2022 - 07/10/2022)</th>\n",
              "      <th>Series</th>\n",
              "      <th>Value</th>\n",
              "    </tr>\n",
              "  </thead>\n",
              "  <tbody>\n",
              "    <tr>\n",
              "      <th>0</th>\n",
              "      <td>2022-07-01</td>\n",
              "      <td>CNN</td>\n",
              "      <td>0.5039</td>\n",
              "    </tr>\n",
              "    <tr>\n",
              "      <th>1</th>\n",
              "      <td>2022-07-02</td>\n",
              "      <td>CNN</td>\n",
              "      <td>0.3875</td>\n",
              "    </tr>\n",
              "    <tr>\n",
              "      <th>2</th>\n",
              "      <td>2022-07-03</td>\n",
              "      <td>CNN</td>\n",
              "      <td>0.2087</td>\n",
              "    </tr>\n",
              "    <tr>\n",
              "      <th>3</th>\n",
              "      <td>2022-07-04</td>\n",
              "      <td>CNN</td>\n",
              "      <td>0.1099</td>\n",
              "    </tr>\n",
              "    <tr>\n",
              "      <th>4</th>\n",
              "      <td>2022-07-05</td>\n",
              "      <td>CNN</td>\n",
              "      <td>0.0458</td>\n",
              "    </tr>\n",
              "    <tr>\n",
              "      <th>5</th>\n",
              "      <td>2022-07-06</td>\n",
              "      <td>CNN</td>\n",
              "      <td>0.0458</td>\n",
              "    </tr>\n",
              "    <tr>\n",
              "      <th>6</th>\n",
              "      <td>2022-07-07</td>\n",
              "      <td>CNN</td>\n",
              "      <td>0.0461</td>\n",
              "    </tr>\n",
              "    <tr>\n",
              "      <th>7</th>\n",
              "      <td>2022-07-08</td>\n",
              "      <td>CNN</td>\n",
              "      <td>0.0452</td>\n",
              "    </tr>\n",
              "    <tr>\n",
              "      <th>8</th>\n",
              "      <td>2022-07-09</td>\n",
              "      <td>CNN</td>\n",
              "      <td>0.0000</td>\n",
              "    </tr>\n",
              "    <tr>\n",
              "      <th>9</th>\n",
              "      <td>2022-07-10</td>\n",
              "      <td>CNN</td>\n",
              "      <td>0.0681</td>\n",
              "    </tr>\n",
              "  </tbody>\n",
              "</table>\n",
              "</div>\n",
              "      <button class=\"colab-df-convert\" onclick=\"convertToInteractive('df-0c49edad-84dd-49de-a3e2-46a4fced3abc')\"\n",
              "              title=\"Convert this dataframe to an interactive table.\"\n",
              "              style=\"display:none;\">\n",
              "        \n",
              "  <svg xmlns=\"http://www.w3.org/2000/svg\" height=\"24px\"viewBox=\"0 0 24 24\"\n",
              "       width=\"24px\">\n",
              "    <path d=\"M0 0h24v24H0V0z\" fill=\"none\"/>\n",
              "    <path d=\"M18.56 5.44l.94 2.06.94-2.06 2.06-.94-2.06-.94-.94-2.06-.94 2.06-2.06.94zm-11 1L8.5 8.5l.94-2.06 2.06-.94-2.06-.94L8.5 2.5l-.94 2.06-2.06.94zm10 10l.94 2.06.94-2.06 2.06-.94-2.06-.94-.94-2.06-.94 2.06-2.06.94z\"/><path d=\"M17.41 7.96l-1.37-1.37c-.4-.4-.92-.59-1.43-.59-.52 0-1.04.2-1.43.59L10.3 9.45l-7.72 7.72c-.78.78-.78 2.05 0 2.83L4 21.41c.39.39.9.59 1.41.59.51 0 1.02-.2 1.41-.59l7.78-7.78 2.81-2.81c.8-.78.8-2.07 0-2.86zM5.41 20L4 18.59l7.72-7.72 1.47 1.35L5.41 20z\"/>\n",
              "  </svg>\n",
              "      </button>\n",
              "      \n",
              "  <style>\n",
              "    .colab-df-container {\n",
              "      display:flex;\n",
              "      flex-wrap:wrap;\n",
              "      gap: 12px;\n",
              "    }\n",
              "\n",
              "    .colab-df-convert {\n",
              "      background-color: #E8F0FE;\n",
              "      border: none;\n",
              "      border-radius: 50%;\n",
              "      cursor: pointer;\n",
              "      display: none;\n",
              "      fill: #1967D2;\n",
              "      height: 32px;\n",
              "      padding: 0 0 0 0;\n",
              "      width: 32px;\n",
              "    }\n",
              "\n",
              "    .colab-df-convert:hover {\n",
              "      background-color: #E2EBFA;\n",
              "      box-shadow: 0px 1px 2px rgba(60, 64, 67, 0.3), 0px 1px 3px 1px rgba(60, 64, 67, 0.15);\n",
              "      fill: #174EA6;\n",
              "    }\n",
              "\n",
              "    [theme=dark] .colab-df-convert {\n",
              "      background-color: #3B4455;\n",
              "      fill: #D2E3FC;\n",
              "    }\n",
              "\n",
              "    [theme=dark] .colab-df-convert:hover {\n",
              "      background-color: #434B5C;\n",
              "      box-shadow: 0px 1px 3px 1px rgba(0, 0, 0, 0.15);\n",
              "      filter: drop-shadow(0px 1px 2px rgba(0, 0, 0, 0.3));\n",
              "      fill: #FFFFFF;\n",
              "    }\n",
              "  </style>\n",
              "\n",
              "      <script>\n",
              "        const buttonEl =\n",
              "          document.querySelector('#df-0c49edad-84dd-49de-a3e2-46a4fced3abc button.colab-df-convert');\n",
              "        buttonEl.style.display =\n",
              "          google.colab.kernel.accessAllowed ? 'block' : 'none';\n",
              "\n",
              "        async function convertToInteractive(key) {\n",
              "          const element = document.querySelector('#df-0c49edad-84dd-49de-a3e2-46a4fced3abc');\n",
              "          const dataTable =\n",
              "            await google.colab.kernel.invokeFunction('convertToInteractive',\n",
              "                                                     [key], {});\n",
              "          if (!dataTable) return;\n",
              "\n",
              "          const docLinkHtml = 'Like what you see? Visit the ' +\n",
              "            '<a target=\"_blank\" href=https://colab.research.google.com/notebooks/data_table.ipynb>data table notebook</a>'\n",
              "            + ' to learn more about interactive tables.';\n",
              "          element.innerHTML = '';\n",
              "          dataTable['output_type'] = 'display_data';\n",
              "          await google.colab.output.renderOutput(dataTable, element);\n",
              "          const docLink = document.createElement('div');\n",
              "          docLink.innerHTML = docLinkHtml;\n",
              "          element.appendChild(docLink);\n",
              "        }\n",
              "      </script>\n",
              "    </div>\n",
              "  </div>\n",
              "  "
            ]
          },
          "metadata": {},
          "execution_count": 63
        }
      ]
    },
    {
      "cell_type": "code",
      "source": [
        "df_cheney"
      ],
      "metadata": {
        "id": "HYYdTEiJQC-Q",
        "colab": {
          "base_uri": "https://localhost:8080/",
          "height": 424
        },
        "outputId": "9190ac44-ff80-48c1-d869-2c3fb0a43e40"
      },
      "execution_count": null,
      "outputs": [
        {
          "output_type": "execute_result",
          "data": {
            "text/plain": [
              "     Date (Daily +00:00: 01/01/2022 - 07/10/2022)     Series   Value\n",
              "0                                      2022-01-01  BLOOMBERG  0.0000\n",
              "1                                      2022-01-02  BLOOMBERG  0.0000\n",
              "2                                      2022-01-03  BLOOMBERG  0.0000\n",
              "3                                      2022-01-04  BLOOMBERG  0.0000\n",
              "4                                      2022-01-05  BLOOMBERG  0.0000\n",
              "...                                           ...        ...     ...\n",
              "1714                                   2022-07-06      MSNBC  0.0218\n",
              "1715                                   2022-07-07      MSNBC  0.0901\n",
              "1716                                   2022-07-08      MSNBC  0.0451\n",
              "1717                                   2022-07-09      MSNBC  0.0000\n",
              "1718                                   2022-07-10      MSNBC  0.0000\n",
              "\n",
              "[1719 rows x 3 columns]"
            ],
            "text/html": [
              "\n",
              "  <div id=\"df-39134132-5484-47f6-8386-d8ed60b42696\">\n",
              "    <div class=\"colab-df-container\">\n",
              "      <div>\n",
              "<style scoped>\n",
              "    .dataframe tbody tr th:only-of-type {\n",
              "        vertical-align: middle;\n",
              "    }\n",
              "\n",
              "    .dataframe tbody tr th {\n",
              "        vertical-align: top;\n",
              "    }\n",
              "\n",
              "    .dataframe thead th {\n",
              "        text-align: right;\n",
              "    }\n",
              "</style>\n",
              "<table border=\"1\" class=\"dataframe\">\n",
              "  <thead>\n",
              "    <tr style=\"text-align: right;\">\n",
              "      <th></th>\n",
              "      <th>Date (Daily +00:00: 01/01/2022 - 07/10/2022)</th>\n",
              "      <th>Series</th>\n",
              "      <th>Value</th>\n",
              "    </tr>\n",
              "  </thead>\n",
              "  <tbody>\n",
              "    <tr>\n",
              "      <th>0</th>\n",
              "      <td>2022-01-01</td>\n",
              "      <td>BLOOMBERG</td>\n",
              "      <td>0.0000</td>\n",
              "    </tr>\n",
              "    <tr>\n",
              "      <th>1</th>\n",
              "      <td>2022-01-02</td>\n",
              "      <td>BLOOMBERG</td>\n",
              "      <td>0.0000</td>\n",
              "    </tr>\n",
              "    <tr>\n",
              "      <th>2</th>\n",
              "      <td>2022-01-03</td>\n",
              "      <td>BLOOMBERG</td>\n",
              "      <td>0.0000</td>\n",
              "    </tr>\n",
              "    <tr>\n",
              "      <th>3</th>\n",
              "      <td>2022-01-04</td>\n",
              "      <td>BLOOMBERG</td>\n",
              "      <td>0.0000</td>\n",
              "    </tr>\n",
              "    <tr>\n",
              "      <th>4</th>\n",
              "      <td>2022-01-05</td>\n",
              "      <td>BLOOMBERG</td>\n",
              "      <td>0.0000</td>\n",
              "    </tr>\n",
              "    <tr>\n",
              "      <th>...</th>\n",
              "      <td>...</td>\n",
              "      <td>...</td>\n",
              "      <td>...</td>\n",
              "    </tr>\n",
              "    <tr>\n",
              "      <th>1714</th>\n",
              "      <td>2022-07-06</td>\n",
              "      <td>MSNBC</td>\n",
              "      <td>0.0218</td>\n",
              "    </tr>\n",
              "    <tr>\n",
              "      <th>1715</th>\n",
              "      <td>2022-07-07</td>\n",
              "      <td>MSNBC</td>\n",
              "      <td>0.0901</td>\n",
              "    </tr>\n",
              "    <tr>\n",
              "      <th>1716</th>\n",
              "      <td>2022-07-08</td>\n",
              "      <td>MSNBC</td>\n",
              "      <td>0.0451</td>\n",
              "    </tr>\n",
              "    <tr>\n",
              "      <th>1717</th>\n",
              "      <td>2022-07-09</td>\n",
              "      <td>MSNBC</td>\n",
              "      <td>0.0000</td>\n",
              "    </tr>\n",
              "    <tr>\n",
              "      <th>1718</th>\n",
              "      <td>2022-07-10</td>\n",
              "      <td>MSNBC</td>\n",
              "      <td>0.0000</td>\n",
              "    </tr>\n",
              "  </tbody>\n",
              "</table>\n",
              "<p>1719 rows × 3 columns</p>\n",
              "</div>\n",
              "      <button class=\"colab-df-convert\" onclick=\"convertToInteractive('df-39134132-5484-47f6-8386-d8ed60b42696')\"\n",
              "              title=\"Convert this dataframe to an interactive table.\"\n",
              "              style=\"display:none;\">\n",
              "        \n",
              "  <svg xmlns=\"http://www.w3.org/2000/svg\" height=\"24px\"viewBox=\"0 0 24 24\"\n",
              "       width=\"24px\">\n",
              "    <path d=\"M0 0h24v24H0V0z\" fill=\"none\"/>\n",
              "    <path d=\"M18.56 5.44l.94 2.06.94-2.06 2.06-.94-2.06-.94-.94-2.06-.94 2.06-2.06.94zm-11 1L8.5 8.5l.94-2.06 2.06-.94-2.06-.94L8.5 2.5l-.94 2.06-2.06.94zm10 10l.94 2.06.94-2.06 2.06-.94-2.06-.94-.94-2.06-.94 2.06-2.06.94z\"/><path d=\"M17.41 7.96l-1.37-1.37c-.4-.4-.92-.59-1.43-.59-.52 0-1.04.2-1.43.59L10.3 9.45l-7.72 7.72c-.78.78-.78 2.05 0 2.83L4 21.41c.39.39.9.59 1.41.59.51 0 1.02-.2 1.41-.59l7.78-7.78 2.81-2.81c.8-.78.8-2.07 0-2.86zM5.41 20L4 18.59l7.72-7.72 1.47 1.35L5.41 20z\"/>\n",
              "  </svg>\n",
              "      </button>\n",
              "      \n",
              "  <style>\n",
              "    .colab-df-container {\n",
              "      display:flex;\n",
              "      flex-wrap:wrap;\n",
              "      gap: 12px;\n",
              "    }\n",
              "\n",
              "    .colab-df-convert {\n",
              "      background-color: #E8F0FE;\n",
              "      border: none;\n",
              "      border-radius: 50%;\n",
              "      cursor: pointer;\n",
              "      display: none;\n",
              "      fill: #1967D2;\n",
              "      height: 32px;\n",
              "      padding: 0 0 0 0;\n",
              "      width: 32px;\n",
              "    }\n",
              "\n",
              "    .colab-df-convert:hover {\n",
              "      background-color: #E2EBFA;\n",
              "      box-shadow: 0px 1px 2px rgba(60, 64, 67, 0.3), 0px 1px 3px 1px rgba(60, 64, 67, 0.15);\n",
              "      fill: #174EA6;\n",
              "    }\n",
              "\n",
              "    [theme=dark] .colab-df-convert {\n",
              "      background-color: #3B4455;\n",
              "      fill: #D2E3FC;\n",
              "    }\n",
              "\n",
              "    [theme=dark] .colab-df-convert:hover {\n",
              "      background-color: #434B5C;\n",
              "      box-shadow: 0px 1px 3px 1px rgba(0, 0, 0, 0.15);\n",
              "      filter: drop-shadow(0px 1px 2px rgba(0, 0, 0, 0.3));\n",
              "      fill: #FFFFFF;\n",
              "    }\n",
              "  </style>\n",
              "\n",
              "      <script>\n",
              "        const buttonEl =\n",
              "          document.querySelector('#df-39134132-5484-47f6-8386-d8ed60b42696 button.colab-df-convert');\n",
              "        buttonEl.style.display =\n",
              "          google.colab.kernel.accessAllowed ? 'block' : 'none';\n",
              "\n",
              "        async function convertToInteractive(key) {\n",
              "          const element = document.querySelector('#df-39134132-5484-47f6-8386-d8ed60b42696');\n",
              "          const dataTable =\n",
              "            await google.colab.kernel.invokeFunction('convertToInteractive',\n",
              "                                                     [key], {});\n",
              "          if (!dataTable) return;\n",
              "\n",
              "          const docLinkHtml = 'Like what you see? Visit the ' +\n",
              "            '<a target=\"_blank\" href=https://colab.research.google.com/notebooks/data_table.ipynb>data table notebook</a>'\n",
              "            + ' to learn more about interactive tables.';\n",
              "          element.innerHTML = '';\n",
              "          dataTable['output_type'] = 'display_data';\n",
              "          await google.colab.output.renderOutput(dataTable, element);\n",
              "          const docLink = document.createElement('div');\n",
              "          docLink.innerHTML = docLinkHtml;\n",
              "          element.appendChild(docLink);\n",
              "        }\n",
              "      </script>\n",
              "    </div>\n",
              "  </div>\n",
              "  "
            ]
          },
          "metadata": {},
          "execution_count": 66
        }
      ]
    },
    {
      "cell_type": "code",
      "source": [],
      "metadata": {
        "id": "gwlSM8UUBYEE"
      },
      "execution_count": null,
      "outputs": []
    },
    {
      "cell_type": "code",
      "source": [
        "requests.get(query_cheney)"
      ],
      "metadata": {
        "id": "Z45gl8j3QC7h",
        "colab": {
          "base_uri": "https://localhost:8080/"
        },
        "outputId": "0e3ec562-711c-4a57-eb65-2c7d48c5ef0d"
      },
      "execution_count": null,
      "outputs": [
        {
          "output_type": "execute_result",
          "data": {
            "text/plain": [
              "<Response [200]>"
            ]
          },
          "metadata": {},
          "execution_count": 26
        }
      ]
    },
    {
      "cell_type": "code",
      "source": [
        "df_cheney[[x in ['CNN'] for x in df_cheney.Series]]"
      ],
      "metadata": {
        "id": "qosAfYMiQCux",
        "colab": {
          "base_uri": "https://localhost:8080/",
          "height": 424
        },
        "outputId": "1098f837-dd31-4a58-abc9-2e8116b0901e"
      },
      "execution_count": null,
      "outputs": [
        {
          "output_type": "execute_result",
          "data": {
            "text/plain": [
              "    Date (Daily +00:00: 01/01/2022 - 07/10/2022) Series    Value\n",
              "374                                   2022-01-05    CNN   6.0921\n",
              "375                                   2022-01-06    CNN   9.3895\n",
              "376                                   2022-01-07    CNN  10.6201\n",
              "377                                   2022-01-08    CNN  10.6026\n",
              "378                                   2022-01-09    CNN   9.5580\n",
              "..                                           ...    ...      ...\n",
              "556                                   2022-07-06    CNN   5.9535\n",
              "557                                   2022-07-07    CNN   5.2038\n",
              "558                                   2022-07-08    CNN   5.4129\n",
              "559                                   2022-07-09    CNN   5.7679\n",
              "560                                   2022-07-10    CNN   7.4857\n",
              "\n",
              "[187 rows x 3 columns]"
            ],
            "text/html": [
              "\n",
              "  <div id=\"df-ac7d7b3b-5867-4617-ab6a-82220f4327a6\">\n",
              "    <div class=\"colab-df-container\">\n",
              "      <div>\n",
              "<style scoped>\n",
              "    .dataframe tbody tr th:only-of-type {\n",
              "        vertical-align: middle;\n",
              "    }\n",
              "\n",
              "    .dataframe tbody tr th {\n",
              "        vertical-align: top;\n",
              "    }\n",
              "\n",
              "    .dataframe thead th {\n",
              "        text-align: right;\n",
              "    }\n",
              "</style>\n",
              "<table border=\"1\" class=\"dataframe\">\n",
              "  <thead>\n",
              "    <tr style=\"text-align: right;\">\n",
              "      <th></th>\n",
              "      <th>Date (Daily +00:00: 01/01/2022 - 07/10/2022)</th>\n",
              "      <th>Series</th>\n",
              "      <th>Value</th>\n",
              "    </tr>\n",
              "  </thead>\n",
              "  <tbody>\n",
              "    <tr>\n",
              "      <th>374</th>\n",
              "      <td>2022-01-05</td>\n",
              "      <td>CNN</td>\n",
              "      <td>6.0921</td>\n",
              "    </tr>\n",
              "    <tr>\n",
              "      <th>375</th>\n",
              "      <td>2022-01-06</td>\n",
              "      <td>CNN</td>\n",
              "      <td>9.3895</td>\n",
              "    </tr>\n",
              "    <tr>\n",
              "      <th>376</th>\n",
              "      <td>2022-01-07</td>\n",
              "      <td>CNN</td>\n",
              "      <td>10.6201</td>\n",
              "    </tr>\n",
              "    <tr>\n",
              "      <th>377</th>\n",
              "      <td>2022-01-08</td>\n",
              "      <td>CNN</td>\n",
              "      <td>10.6026</td>\n",
              "    </tr>\n",
              "    <tr>\n",
              "      <th>378</th>\n",
              "      <td>2022-01-09</td>\n",
              "      <td>CNN</td>\n",
              "      <td>9.5580</td>\n",
              "    </tr>\n",
              "    <tr>\n",
              "      <th>...</th>\n",
              "      <td>...</td>\n",
              "      <td>...</td>\n",
              "      <td>...</td>\n",
              "    </tr>\n",
              "    <tr>\n",
              "      <th>556</th>\n",
              "      <td>2022-07-06</td>\n",
              "      <td>CNN</td>\n",
              "      <td>5.9535</td>\n",
              "    </tr>\n",
              "    <tr>\n",
              "      <th>557</th>\n",
              "      <td>2022-07-07</td>\n",
              "      <td>CNN</td>\n",
              "      <td>5.2038</td>\n",
              "    </tr>\n",
              "    <tr>\n",
              "      <th>558</th>\n",
              "      <td>2022-07-08</td>\n",
              "      <td>CNN</td>\n",
              "      <td>5.4129</td>\n",
              "    </tr>\n",
              "    <tr>\n",
              "      <th>559</th>\n",
              "      <td>2022-07-09</td>\n",
              "      <td>CNN</td>\n",
              "      <td>5.7679</td>\n",
              "    </tr>\n",
              "    <tr>\n",
              "      <th>560</th>\n",
              "      <td>2022-07-10</td>\n",
              "      <td>CNN</td>\n",
              "      <td>7.4857</td>\n",
              "    </tr>\n",
              "  </tbody>\n",
              "</table>\n",
              "<p>187 rows × 3 columns</p>\n",
              "</div>\n",
              "      <button class=\"colab-df-convert\" onclick=\"convertToInteractive('df-ac7d7b3b-5867-4617-ab6a-82220f4327a6')\"\n",
              "              title=\"Convert this dataframe to an interactive table.\"\n",
              "              style=\"display:none;\">\n",
              "        \n",
              "  <svg xmlns=\"http://www.w3.org/2000/svg\" height=\"24px\"viewBox=\"0 0 24 24\"\n",
              "       width=\"24px\">\n",
              "    <path d=\"M0 0h24v24H0V0z\" fill=\"none\"/>\n",
              "    <path d=\"M18.56 5.44l.94 2.06.94-2.06 2.06-.94-2.06-.94-.94-2.06-.94 2.06-2.06.94zm-11 1L8.5 8.5l.94-2.06 2.06-.94-2.06-.94L8.5 2.5l-.94 2.06-2.06.94zm10 10l.94 2.06.94-2.06 2.06-.94-2.06-.94-.94-2.06-.94 2.06-2.06.94z\"/><path d=\"M17.41 7.96l-1.37-1.37c-.4-.4-.92-.59-1.43-.59-.52 0-1.04.2-1.43.59L10.3 9.45l-7.72 7.72c-.78.78-.78 2.05 0 2.83L4 21.41c.39.39.9.59 1.41.59.51 0 1.02-.2 1.41-.59l7.78-7.78 2.81-2.81c.8-.78.8-2.07 0-2.86zM5.41 20L4 18.59l7.72-7.72 1.47 1.35L5.41 20z\"/>\n",
              "  </svg>\n",
              "      </button>\n",
              "      \n",
              "  <style>\n",
              "    .colab-df-container {\n",
              "      display:flex;\n",
              "      flex-wrap:wrap;\n",
              "      gap: 12px;\n",
              "    }\n",
              "\n",
              "    .colab-df-convert {\n",
              "      background-color: #E8F0FE;\n",
              "      border: none;\n",
              "      border-radius: 50%;\n",
              "      cursor: pointer;\n",
              "      display: none;\n",
              "      fill: #1967D2;\n",
              "      height: 32px;\n",
              "      padding: 0 0 0 0;\n",
              "      width: 32px;\n",
              "    }\n",
              "\n",
              "    .colab-df-convert:hover {\n",
              "      background-color: #E2EBFA;\n",
              "      box-shadow: 0px 1px 2px rgba(60, 64, 67, 0.3), 0px 1px 3px 1px rgba(60, 64, 67, 0.15);\n",
              "      fill: #174EA6;\n",
              "    }\n",
              "\n",
              "    [theme=dark] .colab-df-convert {\n",
              "      background-color: #3B4455;\n",
              "      fill: #D2E3FC;\n",
              "    }\n",
              "\n",
              "    [theme=dark] .colab-df-convert:hover {\n",
              "      background-color: #434B5C;\n",
              "      box-shadow: 0px 1px 3px 1px rgba(0, 0, 0, 0.15);\n",
              "      filter: drop-shadow(0px 1px 2px rgba(0, 0, 0, 0.3));\n",
              "      fill: #FFFFFF;\n",
              "    }\n",
              "  </style>\n",
              "\n",
              "      <script>\n",
              "        const buttonEl =\n",
              "          document.querySelector('#df-ac7d7b3b-5867-4617-ab6a-82220f4327a6 button.colab-df-convert');\n",
              "        buttonEl.style.display =\n",
              "          google.colab.kernel.accessAllowed ? 'block' : 'none';\n",
              "\n",
              "        async function convertToInteractive(key) {\n",
              "          const element = document.querySelector('#df-ac7d7b3b-5867-4617-ab6a-82220f4327a6');\n",
              "          const dataTable =\n",
              "            await google.colab.kernel.invokeFunction('convertToInteractive',\n",
              "                                                     [key], {});\n",
              "          if (!dataTable) return;\n",
              "\n",
              "          const docLinkHtml = 'Like what you see? Visit the ' +\n",
              "            '<a target=\"_blank\" href=https://colab.research.google.com/notebooks/data_table.ipynb>data table notebook</a>'\n",
              "            + ' to learn more about interactive tables.';\n",
              "          element.innerHTML = '';\n",
              "          dataTable['output_type'] = 'display_data';\n",
              "          await google.colab.output.renderOutput(dataTable, element);\n",
              "          const docLink = document.createElement('div');\n",
              "          docLink.innerHTML = docLinkHtml;\n",
              "          element.appendChild(docLink);\n",
              "        }\n",
              "      </script>\n",
              "    </div>\n",
              "  </div>\n",
              "  "
            ]
          },
          "metadata": {},
          "execution_count": 42
        }
      ]
    },
    {
      "cell_type": "code",
      "source": [
        "df_cheney[[x in ['CNN'] for x in df_cheney.Series]]"
      ],
      "metadata": {
        "id": "RUfKm-Q4QClZ",
        "colab": {
          "base_uri": "https://localhost:8080/",
          "height": 424
        },
        "outputId": "312342de-1622-4939-f6a5-8893377d14d5"
      },
      "execution_count": null,
      "outputs": [
        {
          "output_type": "execute_result",
          "data": {
            "text/plain": [
              "    Date (Daily +00:00: 01/01/2022 - 07/10/2022) Series   Value\n",
              "382                                   2022-01-01    CNN  0.0222\n",
              "383                                   2022-01-02    CNN  0.1125\n",
              "384                                   2022-01-03    CNN  0.1614\n",
              "385                                   2022-01-04    CNN  0.1314\n",
              "386                                   2022-01-05    CNN  0.0000\n",
              "..                                           ...    ...     ...\n",
              "568                                   2022-07-06    CNN  0.0458\n",
              "569                                   2022-07-07    CNN  0.0461\n",
              "570                                   2022-07-08    CNN  0.0452\n",
              "571                                   2022-07-09    CNN  0.0000\n",
              "572                                   2022-07-10    CNN  0.0681\n",
              "\n",
              "[191 rows x 3 columns]"
            ],
            "text/html": [
              "\n",
              "  <div id=\"df-760b2625-30aa-40d7-a3bc-5678e12a0486\">\n",
              "    <div class=\"colab-df-container\">\n",
              "      <div>\n",
              "<style scoped>\n",
              "    .dataframe tbody tr th:only-of-type {\n",
              "        vertical-align: middle;\n",
              "    }\n",
              "\n",
              "    .dataframe tbody tr th {\n",
              "        vertical-align: top;\n",
              "    }\n",
              "\n",
              "    .dataframe thead th {\n",
              "        text-align: right;\n",
              "    }\n",
              "</style>\n",
              "<table border=\"1\" class=\"dataframe\">\n",
              "  <thead>\n",
              "    <tr style=\"text-align: right;\">\n",
              "      <th></th>\n",
              "      <th>Date (Daily +00:00: 01/01/2022 - 07/10/2022)</th>\n",
              "      <th>Series</th>\n",
              "      <th>Value</th>\n",
              "    </tr>\n",
              "  </thead>\n",
              "  <tbody>\n",
              "    <tr>\n",
              "      <th>382</th>\n",
              "      <td>2022-01-01</td>\n",
              "      <td>CNN</td>\n",
              "      <td>0.0222</td>\n",
              "    </tr>\n",
              "    <tr>\n",
              "      <th>383</th>\n",
              "      <td>2022-01-02</td>\n",
              "      <td>CNN</td>\n",
              "      <td>0.1125</td>\n",
              "    </tr>\n",
              "    <tr>\n",
              "      <th>384</th>\n",
              "      <td>2022-01-03</td>\n",
              "      <td>CNN</td>\n",
              "      <td>0.1614</td>\n",
              "    </tr>\n",
              "    <tr>\n",
              "      <th>385</th>\n",
              "      <td>2022-01-04</td>\n",
              "      <td>CNN</td>\n",
              "      <td>0.1314</td>\n",
              "    </tr>\n",
              "    <tr>\n",
              "      <th>386</th>\n",
              "      <td>2022-01-05</td>\n",
              "      <td>CNN</td>\n",
              "      <td>0.0000</td>\n",
              "    </tr>\n",
              "    <tr>\n",
              "      <th>...</th>\n",
              "      <td>...</td>\n",
              "      <td>...</td>\n",
              "      <td>...</td>\n",
              "    </tr>\n",
              "    <tr>\n",
              "      <th>568</th>\n",
              "      <td>2022-07-06</td>\n",
              "      <td>CNN</td>\n",
              "      <td>0.0458</td>\n",
              "    </tr>\n",
              "    <tr>\n",
              "      <th>569</th>\n",
              "      <td>2022-07-07</td>\n",
              "      <td>CNN</td>\n",
              "      <td>0.0461</td>\n",
              "    </tr>\n",
              "    <tr>\n",
              "      <th>570</th>\n",
              "      <td>2022-07-08</td>\n",
              "      <td>CNN</td>\n",
              "      <td>0.0452</td>\n",
              "    </tr>\n",
              "    <tr>\n",
              "      <th>571</th>\n",
              "      <td>2022-07-09</td>\n",
              "      <td>CNN</td>\n",
              "      <td>0.0000</td>\n",
              "    </tr>\n",
              "    <tr>\n",
              "      <th>572</th>\n",
              "      <td>2022-07-10</td>\n",
              "      <td>CNN</td>\n",
              "      <td>0.0681</td>\n",
              "    </tr>\n",
              "  </tbody>\n",
              "</table>\n",
              "<p>191 rows × 3 columns</p>\n",
              "</div>\n",
              "      <button class=\"colab-df-convert\" onclick=\"convertToInteractive('df-760b2625-30aa-40d7-a3bc-5678e12a0486')\"\n",
              "              title=\"Convert this dataframe to an interactive table.\"\n",
              "              style=\"display:none;\">\n",
              "        \n",
              "  <svg xmlns=\"http://www.w3.org/2000/svg\" height=\"24px\"viewBox=\"0 0 24 24\"\n",
              "       width=\"24px\">\n",
              "    <path d=\"M0 0h24v24H0V0z\" fill=\"none\"/>\n",
              "    <path d=\"M18.56 5.44l.94 2.06.94-2.06 2.06-.94-2.06-.94-.94-2.06-.94 2.06-2.06.94zm-11 1L8.5 8.5l.94-2.06 2.06-.94-2.06-.94L8.5 2.5l-.94 2.06-2.06.94zm10 10l.94 2.06.94-2.06 2.06-.94-2.06-.94-.94-2.06-.94 2.06-2.06.94z\"/><path d=\"M17.41 7.96l-1.37-1.37c-.4-.4-.92-.59-1.43-.59-.52 0-1.04.2-1.43.59L10.3 9.45l-7.72 7.72c-.78.78-.78 2.05 0 2.83L4 21.41c.39.39.9.59 1.41.59.51 0 1.02-.2 1.41-.59l7.78-7.78 2.81-2.81c.8-.78.8-2.07 0-2.86zM5.41 20L4 18.59l7.72-7.72 1.47 1.35L5.41 20z\"/>\n",
              "  </svg>\n",
              "      </button>\n",
              "      \n",
              "  <style>\n",
              "    .colab-df-container {\n",
              "      display:flex;\n",
              "      flex-wrap:wrap;\n",
              "      gap: 12px;\n",
              "    }\n",
              "\n",
              "    .colab-df-convert {\n",
              "      background-color: #E8F0FE;\n",
              "      border: none;\n",
              "      border-radius: 50%;\n",
              "      cursor: pointer;\n",
              "      display: none;\n",
              "      fill: #1967D2;\n",
              "      height: 32px;\n",
              "      padding: 0 0 0 0;\n",
              "      width: 32px;\n",
              "    }\n",
              "\n",
              "    .colab-df-convert:hover {\n",
              "      background-color: #E2EBFA;\n",
              "      box-shadow: 0px 1px 2px rgba(60, 64, 67, 0.3), 0px 1px 3px 1px rgba(60, 64, 67, 0.15);\n",
              "      fill: #174EA6;\n",
              "    }\n",
              "\n",
              "    [theme=dark] .colab-df-convert {\n",
              "      background-color: #3B4455;\n",
              "      fill: #D2E3FC;\n",
              "    }\n",
              "\n",
              "    [theme=dark] .colab-df-convert:hover {\n",
              "      background-color: #434B5C;\n",
              "      box-shadow: 0px 1px 3px 1px rgba(0, 0, 0, 0.15);\n",
              "      filter: drop-shadow(0px 1px 2px rgba(0, 0, 0, 0.3));\n",
              "      fill: #FFFFFF;\n",
              "    }\n",
              "  </style>\n",
              "\n",
              "      <script>\n",
              "        const buttonEl =\n",
              "          document.querySelector('#df-760b2625-30aa-40d7-a3bc-5678e12a0486 button.colab-df-convert');\n",
              "        buttonEl.style.display =\n",
              "          google.colab.kernel.accessAllowed ? 'block' : 'none';\n",
              "\n",
              "        async function convertToInteractive(key) {\n",
              "          const element = document.querySelector('#df-760b2625-30aa-40d7-a3bc-5678e12a0486');\n",
              "          const dataTable =\n",
              "            await google.colab.kernel.invokeFunction('convertToInteractive',\n",
              "                                                     [key], {});\n",
              "          if (!dataTable) return;\n",
              "\n",
              "          const docLinkHtml = 'Like what you see? Visit the ' +\n",
              "            '<a target=\"_blank\" href=https://colab.research.google.com/notebooks/data_table.ipynb>data table notebook</a>'\n",
              "            + ' to learn more about interactive tables.';\n",
              "          element.innerHTML = '';\n",
              "          dataTable['output_type'] = 'display_data';\n",
              "          await google.colab.output.renderOutput(dataTable, element);\n",
              "          const docLink = document.createElement('div');\n",
              "          docLink.innerHTML = docLinkHtml;\n",
              "          element.appendChild(docLink);\n",
              "        }\n",
              "      </script>\n",
              "    </div>\n",
              "  </div>\n",
              "  "
            ]
          },
          "metadata": {},
          "execution_count": 67
        }
      ]
    },
    {
      "cell_type": "code",
      "source": [],
      "metadata": {
        "id": "Qqq2f7U3HXvT"
      },
      "execution_count": null,
      "outputs": []
    },
    {
      "cell_type": "markdown",
      "source": [
        "# Recycle bin:"
      ],
      "metadata": {
        "id": "t6rviedqZHoN"
      }
    },
    {
      "cell_type": "code",
      "source": [
        "app = JupyterDash(__name__, external_stylesheets=[dbc.themes.LITERA])\n",
        "server = app.server"
      ],
      "metadata": {
        "id": "uJVIpaGYMw86"
      },
      "execution_count": null,
      "outputs": []
    },
    {
      "cell_type": "code",
      "source": [
        "from datetime import date"
      ],
      "metadata": {
        "id": "GbbXBgBGI1zn"
      },
      "execution_count": null,
      "outputs": []
    },
    {
      "cell_type": "code",
      "source": [
        "mask_ukr = (df_ukr['date_col'].dt.date >= date(2022, 3, 1)) & (df_ukr['date_col'].dt.date <= date(2022, 3, 31))\n",
        "mask_rus = (df_rus['date_col'].dt.date >= date(2022, 3, 1)) & (df_rus['date_col'].dt.date <= date(2022, 3, 31))\n",
        "df_ukr_filtered = df_ukr.loc[mask_ukr]\n",
        "df_rus_filtered = df_rus.loc[mask_rus]\n",
        "\n",
        "print(df_ukr_filtered['date_col'])"
      ],
      "metadata": {
        "colab": {
          "base_uri": "https://localhost:8080/"
        },
        "id": "xfddD13LIWRu",
        "outputId": "19ead2af-44cc-4252-94ad-ec40160720f4"
      },
      "execution_count": null,
      "outputs": [
        {
          "output_type": "stream",
          "name": "stdout",
          "text": [
            "247    2022-03-01\n",
            "248    2022-03-02\n",
            "249    2022-03-03\n",
            "250    2022-03-04\n",
            "251    2022-03-05\n",
            "          ...    \n",
            "1011   2022-03-27\n",
            "1012   2022-03-28\n",
            "1013   2022-03-29\n",
            "1014   2022-03-30\n",
            "1015   2022-03-31\n",
            "Name: date_col, Length: 93, dtype: datetime64[ns]\n"
          ]
        }
      ]
    },
    {
      "cell_type": "code",
      "source": [
        "fig = px.line(df_ukr_filtered, x=\"date_col\", y=\"Value\", \n",
        "                     color='Series', title=\"UKR Results\")"
      ],
      "metadata": {
        "id": "BAPN3IYKJFes"
      },
      "execution_count": null,
      "outputs": []
    },
    {
      "cell_type": "code",
      "source": [
        "fig.update_xaxes(\n",
        "    #dtick=\"M1\",\n",
        "    tickformat=\"%b %d<br>%Y\")\n",
        "fig.show()"
      ],
      "metadata": {
        "colab": {
          "base_uri": "https://localhost:8080/",
          "height": 542
        },
        "id": "U4FU54QAJFRf",
        "outputId": "9fe9522a-1659-455f-dc42-3edbf9b8522c"
      },
      "execution_count": null,
      "outputs": [
        {
          "output_type": "display_data",
          "data": {
            "text/html": [
              "<html>\n",
              "<head><meta charset=\"utf-8\" /></head>\n",
              "<body>\n",
              "    <div>            <script src=\"https://cdnjs.cloudflare.com/ajax/libs/mathjax/2.7.5/MathJax.js?config=TeX-AMS-MML_SVG\"></script><script type=\"text/javascript\">if (window.MathJax) {MathJax.Hub.Config({SVG: {font: \"STIX-Web\"}});}</script>                <script type=\"text/javascript\">window.PlotlyConfig = {MathJaxConfig: 'local'};</script>\n",
              "        <script src=\"https://cdn.plot.ly/plotly-2.8.3.min.js\"></script>                <div id=\"a49f9c58-45a5-450a-9d3f-8587690716c9\" class=\"plotly-graph-div\" style=\"height:525px; width:100%;\"></div>            <script type=\"text/javascript\">                                    window.PLOTLYENV=window.PLOTLYENV || {};                                    if (document.getElementById(\"a49f9c58-45a5-450a-9d3f-8587690716c9\")) {                    Plotly.newPlot(                        \"a49f9c58-45a5-450a-9d3f-8587690716c9\",                        [{\"hovertemplate\":\"Series=CNN<br>date_col=%{x}<br>Value=%{y}<extra></extra>\",\"legendgroup\":\"CNN\",\"line\":{\"color\":\"#636efa\",\"dash\":\"solid\"},\"marker\":{\"symbol\":\"circle\"},\"mode\":\"lines\",\"name\":\"CNN\",\"orientation\":\"v\",\"showlegend\":true,\"x\":[\"2022-03-01T00:00:00\",\"2022-03-02T00:00:00\",\"2022-03-03T00:00:00\",\"2022-03-04T00:00:00\",\"2022-03-05T00:00:00\",\"2022-03-06T00:00:00\",\"2022-03-07T00:00:00\",\"2022-03-08T00:00:00\",\"2022-03-09T00:00:00\",\"2022-03-10T00:00:00\",\"2022-03-11T00:00:00\",\"2022-03-12T00:00:00\",\"2022-03-13T00:00:00\",\"2022-03-14T00:00:00\",\"2022-03-15T00:00:00\",\"2022-03-16T00:00:00\",\"2022-03-17T00:00:00\",\"2022-03-18T00:00:00\",\"2022-03-19T00:00:00\",\"2022-03-20T00:00:00\",\"2022-03-21T00:00:00\",\"2022-03-22T00:00:00\",\"2022-03-23T00:00:00\",\"2022-03-24T00:00:00\",\"2022-03-25T00:00:00\",\"2022-03-26T00:00:00\",\"2022-03-27T00:00:00\",\"2022-03-28T00:00:00\",\"2022-03-29T00:00:00\",\"2022-03-30T00:00:00\",\"2022-03-31T00:00:00\"],\"xaxis\":\"x\",\"y\":[27.8885,27.244,26.4617,25.6478,25.4867,25.7362,25.797,25.4438,24.9821,24.854,24.5169,24.5389,25.1246,26.2094,25.7134,26.2736,25.685,24.6025,24.2337,24.6647,23.003,21.1579,20.9065,20.4986,19.8717,20.4654,22.0826,22.7592,22.7424,22.357,21.3846],\"yaxis\":\"y\",\"type\":\"scatter\"},{\"hovertemplate\":\"Series=FOXNEWS<br>date_col=%{x}<br>Value=%{y}<extra></extra>\",\"legendgroup\":\"FOXNEWS\",\"line\":{\"color\":\"#EF553B\",\"dash\":\"solid\"},\"marker\":{\"symbol\":\"circle\"},\"mode\":\"lines\",\"name\":\"FOXNEWS\",\"orientation\":\"v\",\"showlegend\":true,\"x\":[\"2022-03-01T00:00:00\",\"2022-03-02T00:00:00\",\"2022-03-03T00:00:00\",\"2022-03-04T00:00:00\",\"2022-03-05T00:00:00\",\"2022-03-06T00:00:00\",\"2022-03-07T00:00:00\",\"2022-03-08T00:00:00\",\"2022-03-09T00:00:00\",\"2022-03-10T00:00:00\",\"2022-03-11T00:00:00\",\"2022-03-12T00:00:00\",\"2022-03-13T00:00:00\",\"2022-03-14T00:00:00\",\"2022-03-15T00:00:00\",\"2022-03-16T00:00:00\",\"2022-03-17T00:00:00\",\"2022-03-18T00:00:00\",\"2022-03-19T00:00:00\",\"2022-03-20T00:00:00\",\"2022-03-21T00:00:00\",\"2022-03-22T00:00:00\",\"2022-03-23T00:00:00\",\"2022-03-24T00:00:00\",\"2022-03-25T00:00:00\",\"2022-03-26T00:00:00\",\"2022-03-27T00:00:00\",\"2022-03-28T00:00:00\",\"2022-03-29T00:00:00\",\"2022-03-30T00:00:00\",\"2022-03-31T00:00:00\"],\"xaxis\":\"x\",\"y\":[27.0105,25.5493,24.0351,24.0748,24.1695,25.0227,25.2517,25.0854,24.2334,23.8849,22.3484,22.1877,21.9659,21.2784,21.0603,21.5647,21.0642,19.876,19.6985,18.974,17.3555,15.5736,14.6608,14.6018,13.4723,14.1346,15.3222,16.5556,15.4243,15.2278,13.374],\"yaxis\":\"y\",\"type\":\"scatter\"},{\"hovertemplate\":\"Series=MSNBC<br>date_col=%{x}<br>Value=%{y}<extra></extra>\",\"legendgroup\":\"MSNBC\",\"line\":{\"color\":\"#00cc96\",\"dash\":\"solid\"},\"marker\":{\"symbol\":\"circle\"},\"mode\":\"lines\",\"name\":\"MSNBC\",\"orientation\":\"v\",\"showlegend\":true,\"x\":[\"2022-03-01T00:00:00\",\"2022-03-02T00:00:00\",\"2022-03-03T00:00:00\",\"2022-03-04T00:00:00\",\"2022-03-05T00:00:00\",\"2022-03-06T00:00:00\",\"2022-03-07T00:00:00\",\"2022-03-08T00:00:00\",\"2022-03-09T00:00:00\",\"2022-03-10T00:00:00\",\"2022-03-11T00:00:00\",\"2022-03-12T00:00:00\",\"2022-03-13T00:00:00\",\"2022-03-14T00:00:00\",\"2022-03-15T00:00:00\",\"2022-03-16T00:00:00\",\"2022-03-17T00:00:00\",\"2022-03-18T00:00:00\",\"2022-03-19T00:00:00\",\"2022-03-20T00:00:00\",\"2022-03-21T00:00:00\",\"2022-03-22T00:00:00\",\"2022-03-23T00:00:00\",\"2022-03-24T00:00:00\",\"2022-03-25T00:00:00\",\"2022-03-26T00:00:00\",\"2022-03-27T00:00:00\",\"2022-03-28T00:00:00\",\"2022-03-29T00:00:00\",\"2022-03-30T00:00:00\",\"2022-03-31T00:00:00\"],\"xaxis\":\"x\",\"y\":[24.0825,23.4186,21.7933,21.7579,22.46,23.1899,23.6386,24.5894,24.5812,24.8367,24.4086,24.7348,25.0566,24.8608,23.8534,24.3289,24.4511,23.5245,23.2699,23.4358,21.8326,19.1974,17.5434,16.8368,15.7013,15.8468,17.2318,17.8699,17.3289,16.7379,15.6537],\"yaxis\":\"y\",\"type\":\"scatter\"}],                        {\"template\":{\"data\":{\"bar\":[{\"error_x\":{\"color\":\"#2a3f5f\"},\"error_y\":{\"color\":\"#2a3f5f\"},\"marker\":{\"line\":{\"color\":\"#E5ECF6\",\"width\":0.5},\"pattern\":{\"fillmode\":\"overlay\",\"size\":10,\"solidity\":0.2}},\"type\":\"bar\"}],\"barpolar\":[{\"marker\":{\"line\":{\"color\":\"#E5ECF6\",\"width\":0.5},\"pattern\":{\"fillmode\":\"overlay\",\"size\":10,\"solidity\":0.2}},\"type\":\"barpolar\"}],\"carpet\":[{\"aaxis\":{\"endlinecolor\":\"#2a3f5f\",\"gridcolor\":\"white\",\"linecolor\":\"white\",\"minorgridcolor\":\"white\",\"startlinecolor\":\"#2a3f5f\"},\"baxis\":{\"endlinecolor\":\"#2a3f5f\",\"gridcolor\":\"white\",\"linecolor\":\"white\",\"minorgridcolor\":\"white\",\"startlinecolor\":\"#2a3f5f\"},\"type\":\"carpet\"}],\"choropleth\":[{\"colorbar\":{\"outlinewidth\":0,\"ticks\":\"\"},\"type\":\"choropleth\"}],\"contour\":[{\"colorbar\":{\"outlinewidth\":0,\"ticks\":\"\"},\"colorscale\":[[0.0,\"#0d0887\"],[0.1111111111111111,\"#46039f\"],[0.2222222222222222,\"#7201a8\"],[0.3333333333333333,\"#9c179e\"],[0.4444444444444444,\"#bd3786\"],[0.5555555555555556,\"#d8576b\"],[0.6666666666666666,\"#ed7953\"],[0.7777777777777778,\"#fb9f3a\"],[0.8888888888888888,\"#fdca26\"],[1.0,\"#f0f921\"]],\"type\":\"contour\"}],\"contourcarpet\":[{\"colorbar\":{\"outlinewidth\":0,\"ticks\":\"\"},\"type\":\"contourcarpet\"}],\"heatmap\":[{\"colorbar\":{\"outlinewidth\":0,\"ticks\":\"\"},\"colorscale\":[[0.0,\"#0d0887\"],[0.1111111111111111,\"#46039f\"],[0.2222222222222222,\"#7201a8\"],[0.3333333333333333,\"#9c179e\"],[0.4444444444444444,\"#bd3786\"],[0.5555555555555556,\"#d8576b\"],[0.6666666666666666,\"#ed7953\"],[0.7777777777777778,\"#fb9f3a\"],[0.8888888888888888,\"#fdca26\"],[1.0,\"#f0f921\"]],\"type\":\"heatmap\"}],\"heatmapgl\":[{\"colorbar\":{\"outlinewidth\":0,\"ticks\":\"\"},\"colorscale\":[[0.0,\"#0d0887\"],[0.1111111111111111,\"#46039f\"],[0.2222222222222222,\"#7201a8\"],[0.3333333333333333,\"#9c179e\"],[0.4444444444444444,\"#bd3786\"],[0.5555555555555556,\"#d8576b\"],[0.6666666666666666,\"#ed7953\"],[0.7777777777777778,\"#fb9f3a\"],[0.8888888888888888,\"#fdca26\"],[1.0,\"#f0f921\"]],\"type\":\"heatmapgl\"}],\"histogram\":[{\"marker\":{\"pattern\":{\"fillmode\":\"overlay\",\"size\":10,\"solidity\":0.2}},\"type\":\"histogram\"}],\"histogram2d\":[{\"colorbar\":{\"outlinewidth\":0,\"ticks\":\"\"},\"colorscale\":[[0.0,\"#0d0887\"],[0.1111111111111111,\"#46039f\"],[0.2222222222222222,\"#7201a8\"],[0.3333333333333333,\"#9c179e\"],[0.4444444444444444,\"#bd3786\"],[0.5555555555555556,\"#d8576b\"],[0.6666666666666666,\"#ed7953\"],[0.7777777777777778,\"#fb9f3a\"],[0.8888888888888888,\"#fdca26\"],[1.0,\"#f0f921\"]],\"type\":\"histogram2d\"}],\"histogram2dcontour\":[{\"colorbar\":{\"outlinewidth\":0,\"ticks\":\"\"},\"colorscale\":[[0.0,\"#0d0887\"],[0.1111111111111111,\"#46039f\"],[0.2222222222222222,\"#7201a8\"],[0.3333333333333333,\"#9c179e\"],[0.4444444444444444,\"#bd3786\"],[0.5555555555555556,\"#d8576b\"],[0.6666666666666666,\"#ed7953\"],[0.7777777777777778,\"#fb9f3a\"],[0.8888888888888888,\"#fdca26\"],[1.0,\"#f0f921\"]],\"type\":\"histogram2dcontour\"}],\"mesh3d\":[{\"colorbar\":{\"outlinewidth\":0,\"ticks\":\"\"},\"type\":\"mesh3d\"}],\"parcoords\":[{\"line\":{\"colorbar\":{\"outlinewidth\":0,\"ticks\":\"\"}},\"type\":\"parcoords\"}],\"pie\":[{\"automargin\":true,\"type\":\"pie\"}],\"scatter\":[{\"marker\":{\"colorbar\":{\"outlinewidth\":0,\"ticks\":\"\"}},\"type\":\"scatter\"}],\"scatter3d\":[{\"line\":{\"colorbar\":{\"outlinewidth\":0,\"ticks\":\"\"}},\"marker\":{\"colorbar\":{\"outlinewidth\":0,\"ticks\":\"\"}},\"type\":\"scatter3d\"}],\"scattercarpet\":[{\"marker\":{\"colorbar\":{\"outlinewidth\":0,\"ticks\":\"\"}},\"type\":\"scattercarpet\"}],\"scattergeo\":[{\"marker\":{\"colorbar\":{\"outlinewidth\":0,\"ticks\":\"\"}},\"type\":\"scattergeo\"}],\"scattergl\":[{\"marker\":{\"colorbar\":{\"outlinewidth\":0,\"ticks\":\"\"}},\"type\":\"scattergl\"}],\"scattermapbox\":[{\"marker\":{\"colorbar\":{\"outlinewidth\":0,\"ticks\":\"\"}},\"type\":\"scattermapbox\"}],\"scatterpolar\":[{\"marker\":{\"colorbar\":{\"outlinewidth\":0,\"ticks\":\"\"}},\"type\":\"scatterpolar\"}],\"scatterpolargl\":[{\"marker\":{\"colorbar\":{\"outlinewidth\":0,\"ticks\":\"\"}},\"type\":\"scatterpolargl\"}],\"scatterternary\":[{\"marker\":{\"colorbar\":{\"outlinewidth\":0,\"ticks\":\"\"}},\"type\":\"scatterternary\"}],\"surface\":[{\"colorbar\":{\"outlinewidth\":0,\"ticks\":\"\"},\"colorscale\":[[0.0,\"#0d0887\"],[0.1111111111111111,\"#46039f\"],[0.2222222222222222,\"#7201a8\"],[0.3333333333333333,\"#9c179e\"],[0.4444444444444444,\"#bd3786\"],[0.5555555555555556,\"#d8576b\"],[0.6666666666666666,\"#ed7953\"],[0.7777777777777778,\"#fb9f3a\"],[0.8888888888888888,\"#fdca26\"],[1.0,\"#f0f921\"]],\"type\":\"surface\"}],\"table\":[{\"cells\":{\"fill\":{\"color\":\"#EBF0F8\"},\"line\":{\"color\":\"white\"}},\"header\":{\"fill\":{\"color\":\"#C8D4E3\"},\"line\":{\"color\":\"white\"}},\"type\":\"table\"}]},\"layout\":{\"annotationdefaults\":{\"arrowcolor\":\"#2a3f5f\",\"arrowhead\":0,\"arrowwidth\":1},\"autotypenumbers\":\"strict\",\"coloraxis\":{\"colorbar\":{\"outlinewidth\":0,\"ticks\":\"\"}},\"colorscale\":{\"diverging\":[[0,\"#8e0152\"],[0.1,\"#c51b7d\"],[0.2,\"#de77ae\"],[0.3,\"#f1b6da\"],[0.4,\"#fde0ef\"],[0.5,\"#f7f7f7\"],[0.6,\"#e6f5d0\"],[0.7,\"#b8e186\"],[0.8,\"#7fbc41\"],[0.9,\"#4d9221\"],[1,\"#276419\"]],\"sequential\":[[0.0,\"#0d0887\"],[0.1111111111111111,\"#46039f\"],[0.2222222222222222,\"#7201a8\"],[0.3333333333333333,\"#9c179e\"],[0.4444444444444444,\"#bd3786\"],[0.5555555555555556,\"#d8576b\"],[0.6666666666666666,\"#ed7953\"],[0.7777777777777778,\"#fb9f3a\"],[0.8888888888888888,\"#fdca26\"],[1.0,\"#f0f921\"]],\"sequentialminus\":[[0.0,\"#0d0887\"],[0.1111111111111111,\"#46039f\"],[0.2222222222222222,\"#7201a8\"],[0.3333333333333333,\"#9c179e\"],[0.4444444444444444,\"#bd3786\"],[0.5555555555555556,\"#d8576b\"],[0.6666666666666666,\"#ed7953\"],[0.7777777777777778,\"#fb9f3a\"],[0.8888888888888888,\"#fdca26\"],[1.0,\"#f0f921\"]]},\"colorway\":[\"#636efa\",\"#EF553B\",\"#00cc96\",\"#ab63fa\",\"#FFA15A\",\"#19d3f3\",\"#FF6692\",\"#B6E880\",\"#FF97FF\",\"#FECB52\"],\"font\":{\"color\":\"#2a3f5f\"},\"geo\":{\"bgcolor\":\"white\",\"lakecolor\":\"white\",\"landcolor\":\"#E5ECF6\",\"showlakes\":true,\"showland\":true,\"subunitcolor\":\"white\"},\"hoverlabel\":{\"align\":\"left\"},\"hovermode\":\"closest\",\"mapbox\":{\"style\":\"light\"},\"paper_bgcolor\":\"white\",\"plot_bgcolor\":\"#E5ECF6\",\"polar\":{\"angularaxis\":{\"gridcolor\":\"white\",\"linecolor\":\"white\",\"ticks\":\"\"},\"bgcolor\":\"#E5ECF6\",\"radialaxis\":{\"gridcolor\":\"white\",\"linecolor\":\"white\",\"ticks\":\"\"}},\"scene\":{\"xaxis\":{\"backgroundcolor\":\"#E5ECF6\",\"gridcolor\":\"white\",\"gridwidth\":2,\"linecolor\":\"white\",\"showbackground\":true,\"ticks\":\"\",\"zerolinecolor\":\"white\"},\"yaxis\":{\"backgroundcolor\":\"#E5ECF6\",\"gridcolor\":\"white\",\"gridwidth\":2,\"linecolor\":\"white\",\"showbackground\":true,\"ticks\":\"\",\"zerolinecolor\":\"white\"},\"zaxis\":{\"backgroundcolor\":\"#E5ECF6\",\"gridcolor\":\"white\",\"gridwidth\":2,\"linecolor\":\"white\",\"showbackground\":true,\"ticks\":\"\",\"zerolinecolor\":\"white\"}},\"shapedefaults\":{\"line\":{\"color\":\"#2a3f5f\"}},\"ternary\":{\"aaxis\":{\"gridcolor\":\"white\",\"linecolor\":\"white\",\"ticks\":\"\"},\"baxis\":{\"gridcolor\":\"white\",\"linecolor\":\"white\",\"ticks\":\"\"},\"bgcolor\":\"#E5ECF6\",\"caxis\":{\"gridcolor\":\"white\",\"linecolor\":\"white\",\"ticks\":\"\"}},\"title\":{\"x\":0.05},\"xaxis\":{\"automargin\":true,\"gridcolor\":\"white\",\"linecolor\":\"white\",\"ticks\":\"\",\"title\":{\"standoff\":15},\"zerolinecolor\":\"white\",\"zerolinewidth\":2},\"yaxis\":{\"automargin\":true,\"gridcolor\":\"white\",\"linecolor\":\"white\",\"ticks\":\"\",\"title\":{\"standoff\":15},\"zerolinecolor\":\"white\",\"zerolinewidth\":2}}},\"xaxis\":{\"anchor\":\"y\",\"domain\":[0.0,1.0],\"title\":{\"text\":\"date_col\"},\"tickformat\":\"%b %d<br>%Y\"},\"yaxis\":{\"anchor\":\"x\",\"domain\":[0.0,1.0],\"title\":{\"text\":\"Value\"}},\"legend\":{\"title\":{\"text\":\"Series\"},\"tracegroupgap\":0},\"title\":{\"text\":\"UKR Results\"}},                        {\"responsive\": true}                    ).then(function(){\n",
              "                            \n",
              "var gd = document.getElementById('a49f9c58-45a5-450a-9d3f-8587690716c9');\n",
              "var x = new MutationObserver(function (mutations, observer) {{\n",
              "        var display = window.getComputedStyle(gd).display;\n",
              "        if (!display || display === 'none') {{\n",
              "            console.log([gd, 'removed!']);\n",
              "            Plotly.purge(gd);\n",
              "            observer.disconnect();\n",
              "        }}\n",
              "}});\n",
              "\n",
              "// Listen for the removal of the full notebook cells\n",
              "var notebookContainer = gd.closest('#notebook-container');\n",
              "if (notebookContainer) {{\n",
              "    x.observe(notebookContainer, {childList: true});\n",
              "}}\n",
              "\n",
              "// Listen for the clearing of the current output cell\n",
              "var outputEl = gd.closest('.output');\n",
              "if (outputEl) {{\n",
              "    x.observe(outputEl, {childList: true});\n",
              "}}\n",
              "\n",
              "                        })                };                            </script>        </div>\n",
              "</body>\n",
              "</html>"
            ]
          },
          "metadata": {}
        }
      ]
    },
    {
      "cell_type": "code",
      "source": [],
      "metadata": {
        "id": "s6S61HBcJE4G"
      },
      "execution_count": null,
      "outputs": []
    },
    {
      "cell_type": "code",
      "source": [
        "app = JupyterDash(__name__, external_stylesheets=[dbc.themes.LITERA])\n",
        "server = app.server\n",
        "\n",
        "app.layout = dbc.Container(\n",
        "    [   dbc.Row([\n",
        "        dbc.Col([html.H1('News Coverage TV Keyword')],\n",
        "        #html.Hr()],\n",
        "        className=\"text-center mt-3 mb-1\")\n",
        "    ]\n",
        "    ),\n",
        "        dbc.Row([\n",
        "\n",
        "        dbc.Col([\n",
        "            dbc.Label(\"Drag to modify date range:\", className=\"fw-bold\"),\n",
        "            dcc.DatePickerRange(\n",
        "                id='date-range',\n",
        "                min_date_allowed=df_ukr['date_col'].min().date(),\n",
        "                max_date_allowed=df_ukr['date_col'].max().date(),\n",
        "                initial_visible_month=df_ukr['date_col'].min().date(),\n",
        "                start_date=df_ukr['date_col'].min().date(),\n",
        "                end_date=df_ukr['date_col'].max().date()\n",
        "              )\n",
        "             ],\n",
        "        #width={'size': 8, \"offset\": 1}\n",
        "        )\n",
        "    ]),\n",
        "    #  dbc.Row([\n",
        "    #           dbc.Col(dcc.Graph(id='graph-ukr'), \n",
        "    #                   width={'size': 6, 'offset': 0}),\n",
        "    #           dbc.Col(dcc.Graph(id='graph-rus'), \n",
        "    #                   width={'size': 6, 'offset': 0})\n",
        "    #  ]),\n",
        "    #  dbc.Row([\n",
        "    #           dbc.Col(dcc.Graph(id='line-graph-ukr'), \n",
        "    #                   width={'size': 6, 'offset': 0}),\n",
        "    #           dbc.Col(dcc.Graph(id='line-graph-rus'), \n",
        "    #                   width={'size': 6, 'offset': 0})\n",
        "    #  ])\n",
        "     dbc.Row([\n",
        "              dbc.Col(dcc.Graph(id='line-graph-ukr'), \n",
        "                      )\n",
        "     ]),\n",
        "\n",
        "    dbc.Row([\n",
        "              dbc.Col(dcc.Graph(id='line-graph-rus'), \n",
        "                      )\n",
        "     ])\n",
        "\n",
        "    ])\n",
        "\n",
        "@app.callback(\n",
        "    # Output('graph-ukr', 'figure'),\n",
        "    # Output('graph-rus', 'figure'),\n",
        "    Output('line-graph-ukr', 'figure'),\n",
        "    Output('line-graph-rus', 'figure'),\n",
        "    Input('date-range', 'start_date'),\n",
        "    Input('date-range', 'end_date')   \n",
        ")\n",
        "def update_output(start_date, end_date):\n",
        "    mask_ukr = (df_ukr['date_col'] >= start_date) & (df_ukr['date_col'] <= end_date)\n",
        "    mask_rus = (df_rus['date_col'] >= start_date) & (df_rus['date_col'] <= end_date)\n",
        "\n",
        "    df_ukr_filtered = df_ukr.loc[mask_ukr]\n",
        "    df_rus_filtered = df_rus.loc[mask_rus]\n",
        "\n",
        "    print(df_ukr_filtered['Series'])\n",
        "\n",
        "    #fig_ukr = px.bar(df_ukr_filtered, x=\"Series\", y=\"Value\", title=\"UKR Results\")\n",
        "    #fig_rus = px.bar(df_rus_filtered, x=\"Series\", y=\"Value\", title=\"RUS Results\")\n",
        "\n",
        "    # fig_ukr = px.bar(df_ukr_filtered.groupby(['Series']).mean().reset_index(), \n",
        "    #                  x=\"Series\", y=\"Value\", title=\"UKR Results\")\n",
        "    # fig_rus = px.bar(df_rus_filtered.groupby(['Series']).mean().reset_index(), \n",
        "    #                  x=\"Series\", y=\"Value\", title=\"RUS Results\")\n",
        "    \n",
        "    line_fig_ukr = px.line(df_ukr_filtered, x=\"date_col\", y=\"Value\", \n",
        "                     color='Series', title=\"Coverage of Ukranian Keywords\")\n",
        "    line_fig_rus = px.line(df_rus_filtered, x='date_col', y='Value', \n",
        "                     color='Series', title=\"Coverage of Russian Keywords\")\n",
        "\n",
        "    # line_fig_ukr.update_layout(\n",
        "    #     xaxis=dict(\n",
        "    #         # showline=True,\n",
        "    #         # showgrid=False,\n",
        "    #         # showticklabels=True,\n",
        "    #         # linecolor='rgb(204, 204, 204)',\n",
        "    #         # linewidth=2,\n",
        "    #         # ticks='outside',\n",
        "    #         tickfont=dict(\n",
        "    #             #family='Arial',\n",
        "    #             size=8,\n",
        "    #             #color='rgb(82, 82, 82)',\n",
        "    #         ),\n",
        "    #     )\n",
        "    # )\n",
        "\n",
        "    line_fig_ukr.update_layout(\n",
        "                   xaxis_title='Date',\n",
        "                   yaxis_title='Percentage of Airtime')\n",
        "    \n",
        "    line_fig_rus.update_layout(\n",
        "                   xaxis_title='Date',\n",
        "                   yaxis_title='Percentage of Airtime')\n",
        "\n",
        "    line_fig_ukr.update_xaxes(tickformat=\"%b %d<br>%Y\")\n",
        "    line_fig_rus.update_xaxes(tickformat=\"%b %d<br>%Y\")\n",
        "    #return fig_ukr, fig_rus, line_fig_ukr, line_fig_rus\n",
        "    return line_fig_ukr, line_fig_rus"
      ],
      "metadata": {
        "id": "muPy7IolMxNC"
      },
      "execution_count": null,
      "outputs": []
    },
    {
      "cell_type": "code",
      "source": [
        "app.run_server(debug=True, mode=\"inline\")"
      ],
      "metadata": {
        "id": "KvIDWNwf8rjy"
      },
      "execution_count": null,
      "outputs": []
    },
    {
      "cell_type": "code",
      "source": [],
      "metadata": {
        "id": "cbulNHu-UxxG"
      },
      "execution_count": null,
      "outputs": []
    }
  ]
}